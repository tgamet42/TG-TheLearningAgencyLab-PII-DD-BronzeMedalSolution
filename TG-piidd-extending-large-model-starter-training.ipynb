{
 "cells": [
  {
   "cell_type": "markdown",
   "id": "fc97cc29",
   "metadata": {
    "papermill": {
     "duration": 0.007383,
     "end_time": "2024-03-07T03:33:19.931383",
     "exception": false,
     "start_time": "2024-03-07T03:33:19.924000",
     "status": "completed"
    },
    "tags": []
   },
   "source": [
    "Most recent author: Thomas Gamet\n",
    "MIT License\n",
    "Kaggle Contest: https://www.kaggle.com/datasets/thomasgamet/piidd-extending-large-model-starter-model\n",
    "Many thanks to the notebook authors who came before me, and the Kaggle Contest sponsors.\n",
    "\n",
    "*** I am adding https://www.kaggle.com/code/valentinwerner/fix-punctuation-tokenization-external-dataset/output which comes from VALENTIN WERNER\n",
    "\n",
    "- This training is based on Joseph Josia's notebook for trainin: https://www.kaggle.com/takanashihumbert/piidd-deberta-model-starter-training\n",
    "- This one is based on the great starting [notebook](https://www.kaggle.com/code/nbroad/transformer-ner-baseline-lb-0-576) by @NICHOLAS BROAD.\n",
    "- please note: I didn't use the deberta-base model I choose here to finetune, this is just a demo.\n",
    "- In the postprocessing part of inference, I changed **tokens** to **token_map** in two lines. This will bring a huge improvement. There is the [inference notebook](https://www.kaggle.com/code/takanashihumbert/piidd-deberta-model-starter-inference)\n",
    "\n",
    "Starting over to track the work with deberta-v3-large\n",
    "See https://www.kaggle.com/code/thomasgamet/piidd-extending-model-starter-training/edit/run/163432935 for the initial runs using (for all but the last run) the small model.\n",
    "\n",
    "All LB scores are produced by https://www.kaggle.com/code/thomasgamet/pii-dd-deberta-3-large-striding-inference\n",
    "\n",
    "First run will use \n",
    "v1 with deberta-v3-large build \n",
    " epochs 4\n",
    " freeze 6\n",
    " lr 5e-6\n",
    " datasets 2\n",
    " seed 42\n",
    " train length 720\n",
    " *** LB==0.956 with a threshold of 0.99\n",
    " \n",
    " Third run will use (second run was aborted without a GPU)\n",
    "v3 with deberta-v3-large build \n",
    " epochs 2\n",
    " freeze 12\n",
    " lr 1e-5\n",
    " datasets 2\n",
    " seed 42\n",
    " train length 720\n",
    " *** LB=0.954 with a threshold of 0.99\n",
    " \n",
    " Fourth run will use (just a different split)\n",
    "v4 with deberta-v3-large build \n",
    " epochs 2\n",
    " freeze 12\n",
    " lr 1e-5\n",
    " datasets 2\n",
    " seed 421\n",
    " train length 720\n",
    " *** LB=0.952 with a threshold of 0.99\n",
    " \n",
    "v5 ep2lr1e-5ds2fr12seed421+.01split\n",
    " epochs 2\n",
    " freeze 12\n",
    " lr 1e-5\n",
    " datasets 2\n",
    " seed 421\n",
    " test_split 0.01 (all prior used .2)\n",
    " train length 720\n",
    " *** Best LB=0.948 with threshold of 0.98\n",
    "\n",
    "v6 ep2lr1e-5ds2fr12seed421+.01split\n",
    " ds2 was minstral generated and the LAL's training set\n",
    " epochs 2\n",
    " freeze 12\n",
    " lr 1e-5\n",
    " datasets 3\n",
    " seed 421\n",
    " test_split 0.01 (all prior used .2)\n",
    " train length 720\n",
    " *** Best LB=0.958 with threshold of 0.99\n",
    " \n",
    "v7 ep4lr1e-5ds3fr12seed421+.01td\n",
    " ds3 was the LAL's training set and Valentine's two data sets\n",
    " epochs 4\n",
    " freeze 12\n",
    " lr 1e-5\n",
    " datasets 3 (from Valentin Werner)\n",
    " seed 421\n",
    " test_split 0.01 \n",
    " train length 720\n",
    " *** Best LB=0.951 with threshold of 0.99 on epoch 2\n",
    " \n",
    "v8 ep5lr2e-6ds3fr12seed42+.1td\n",
    " epochs 5\n",
    " freeze 12 # might freeze more layers in future, try lower lr first\n",
    " lr 2e-6 # theory, weights adjusted too rapidly affecting generality\n",
    " datasets 3 (from Valentin Werner)\n",
    " seed 42\n",
    " test_split 0.1 # hoping this gives better insight to progress\n",
    " train length 720\n",
    " *** Best LB=? with threshold of 0.99 on epoch \n",
    "Training ran out of disk space but still did produce the following JSON to report its results on the 10% validation data. Clearly, it was still improving and as such I suspect the learning rate may be too low or I need more epochs.\n",
    "       \"    <table border=\\\"1\\\" class=\\\"dataframe\\\">\\n\",\n",
    "       \"  <thead>\\n\",\n",
    "       \" <tr style=\\\"text-align: left;\\\">\\n\",\n",
    "       \"      <th>Epoch</th>\\n\",\n",
    "       \"      <th>Training Loss</th>\\n\",\n",
    "       \"      <th>Validation Loss</th>\\n\",\n",
    "       \"      <th>Recall</th>\\n\",\n",
    "       \"      <th>Precision</th>\\n\",\n",
    "       \"      <th>F1</th>\\n\",\n",
    "       \"    </tr>\\n\",\n",
    "       \"  </thead>\\n\",\n",
    "       \"  <tbody>\\n\",\n",
    "       \"    <tr>\\n\",\n",
    "       \"      <td>1</td>\\n\",\n",
    "       \"      <td>0.003900</td>\\n\",\n",
    "       \"      <td>0.003620</td>\\n\",\n",
    "       \"      <td>0.981270</td>\\n\",\n",
    "       \"      <td>0.978999</td>\\n\",\n",
    "       \"      <td>0.981182</td>\\n\",\n",
    "       \"    </tr>\\n\",\n",
    "       \"    <tr>\\n\",\n",
    "       \"      <td>2</td>\\n\",\n",
    "       \"      <td>0.002900</td>\\n\",\n",
    "       \"      <td>0.003381</td>\\n\",\n",
    "       \"      <td>0.986083</td>\\n\",\n",
    "       \"      <td>0.975841</td>\\n\",\n",
    "       \"      <td>0.985685</td>\\n\",\n",
    "       \"    </tr>\\n\",\n",
    "       \"    <tr>\\n\",\n",
    "       \"      <td>3</td>\\n\",\n",
    "       \"      <td>0.002600</td>\\n\",\n",
    "       \"      <td>0.002669</td>\\n\",\n",
    "       \"      <td>0.986025</td>\\n\",\n",
    "       \"      <td>0.988145</td>\\n\",\n",
    "       \"      <td>0.986106</td>\\n\",\n",
    "       \"    </tr>\\n\",\n",
    "       \"    <tr>\\n\",\n",
    "       \"      <td>4</td>\\n\",\n",
    "       \"      <td>0.001500</td>\\n\",\n",
    "       \"      <td>0.002717</td>\\n\",\n",
    "       \"      <td>0.988692</td>\\n\",\n",
    "       \"      <td>0.988005</td>\\n\",\n",
    "       \"      <td>0.988666</td>\\n\",\n",
    "       \"    </tr>\\n\",\n",
    "       \"    <tr>\\n\",\n",
    "       \"      <td>5</td>\\n\",\n",
    "       \"      <td>0.001600</td>\\n\",\n",
    "       \"      <td>0.002656</td>\\n\",\n",
    "       \"      <td>0.989156</td>\\n\",\n",
    "       \"      <td>0.987153</td>\\n\",\n",
    "       \"      <td>0.989079</td>\\n\",\n",
    "       \"    </tr>\\n\",\n",
    "       \"  </tbody>\\n\",\n",
    "       \"</table><p>\"\n",
    "The LB scores were:\n",
    "model/output/checkpoint-6118\n",
    "Inferencing v19 threshold 0.99 LB=0.924\n",
    "model/output/checkpoint-12236\n",
    "Inferencing v20 threshold 0.99 LB=0.945\n",
    "model/output/checkpoint-18354\n",
    "Inferencing v21 threshold 0.99 LB=0.933\n",
    "model/output/checkpoint-24472\n",
    "Inferencing v22 threshold 0.99 LB=0.935\n",
    "model/output/checkpoint-30590\n",
    "Inferencing v23 was not a submission\n",
    "Inferencing v24 threshold 0.99 LB=0.934\n",
    "Guessing the learning rate got stuck in local minima states after peeking out. This is likely not worth changing the number of layers being frozen. \n",
    "\n",
    "Next experiment, double 1e-5 to 2e-5 as the learning rate and see if either of the first two epochs improves the score. Include a 3rd epoch to confirm overfitting has likely begun.\n",
    "v9 ep#lr2e-5ds3fr12seed42+.1td\n",
    "Best LB was only 0.945 with a threshold of 0.99. This was on the 2nd of 3 epochs.\n",
    "\n",
    "This time, increase batch sizes to see if it helps performance, and put the learning rate at 5e-6 (half of prior ideal - given that we have over twice the data). td test data split, tb test batch, vb validation batch.\n",
    "Also, increase to using all 4 data sets.\n",
    "v10 ep4lr5e-6ds4fr12seed42td.1tb4vb8\n",
    "checkpoint-10527 which is ep3\n",
    "Inference v28 threshold 0.99 LB=0.939\n",
    "checkpoint-14036 which is ep4\n",
    "Inference v29 threshold 0.99 LB=0.942\n",
    "   \n",
    "The largest training batch size that works is 4 (6 resulted in an OOM - maybe 5 will work, but going from 2 to 4 made no significant difference).\n",
    "v15 ep4lr9e-6ds4fr18seed42td.1tb4vb8\n",
    "ds3 was the LAL's training set and Valentine's two data sets and the minstral generated\n",
    "Best LB=0.942 att epoch 4\n",
    "Freezing more layers does not help the CV scores.\n",
    "To confirm, freezing only 3, 6, or 9 layers results  in OOM exceptions.\n",
    "    \n",
    "Trying a new dataset https://www.kaggle.com/datasets/mpware/pii-mixtral8x7b-generated-essays which was found on https://www.kaggle.com/code/verracodeguacas/piing-inos. Combined with the initial base model pii- three phiranna models it produced a score of 0.964 combined with only the contest set. Let's see what happends in\n",
    "v19 ep3lr1e-5ds2nfr12seed421td.01tb2vb4 (the setup that once made 0.958 in the LB).\n",
    "\n",
    "v21 ep5lr1e-5ds2nfr12seed421td.01td produced the best LB=0.963 at Epoch 0 (after which generalization seems to suffer) with inferencing at threshold 0.99 and max length at 1024. The key difference is that it only used 2 datasets:\n",
    "    a.\"/kaggle/input/pii-detection-removal-from-educational-data/train.json\"\n",
    "    b.\"json.load(open(\"/kaggle/input/pii-mixtral8x7b-generated-essays/mpware_mixtral8x7b_v1.1-no-i-username.json\"\n",
    "    \n",
    "v22 ep2lr1e-5ds3nfr12seed421td.01td (just in case, take two epochs to confirm the drop in the LB score). This is an experiment with 3 datasets:\n",
    "    a.\"/kaggle/input/pii-dd-mistral-generated/mixtral-8x7b-v1.json\"\n",
    "    b.\"/kaggle/input/piidd-datasetsfromvalentinwernernotebook/pii_dataset_fixed.json\"\n",
    "    c.\"/kaggle/input/piidd-datasetsfromvalentinwernernotebook/moredata_dataset_fixed.json\"\n",
    "The two datasets are about the same size, and if they produce similar LB scores then I'm hoping they also make a good ensemble.\n",
    "This failed with an LB of 0.906 on epoch 1 and 0.915 on epoch 2.\n",
    "    \n",
    "Try three Epochs and include the provided data set with the moredata dataset.\n",
    "v23 ep3lr1e-5ds2nfr12seed421td.01td (just in case, take three epochs to confirm the drop in the LB score). This is an experiment with 3 datasets:\n",
    "    a. v23 ep3lr1e-5ds2mfr12seed421td.01td (just in case, take three epochs to confirm the drop in the LB score). This is an experiment with 2 datasets:\n",
    "    a.\"/kaggle/input/pii-dd-mistral-generated/mixtral-8x7b-v1.json\"\n",
    "    b.\"/kaggle/input/piidd-datasetsfromvalentinwernernotebook/moredata_dataset_fixed.json\"\n",
    "        "
   ]
  },
  {
   "cell_type": "code",
   "execution_count": 1,
   "id": "0e0cd109",
   "metadata": {
    "_cell_guid": "b1076dfc-b9ad-4769-8c92-a6c4dae69d19",
    "_uuid": "8f2839f25d086af736a60e9eeb907d3b93b6e0e5",
    "execution": {
     "iopub.execute_input": "2024-03-07T03:33:19.946378Z",
     "iopub.status.busy": "2024-03-07T03:33:19.946017Z",
     "iopub.status.idle": "2024-03-07T03:33:19.956296Z",
     "shell.execute_reply": "2024-03-07T03:33:19.955462Z"
    },
    "papermill": {
     "duration": 0.020043,
     "end_time": "2024-03-07T03:33:19.958303",
     "exception": false,
     "start_time": "2024-03-07T03:33:19.938260",
     "status": "completed"
    },
    "tags": []
   },
   "outputs": [],
   "source": [
    "#TRAINING_MODEL_PATH = \"/kaggle/input/debertav3base\"  # your model path\n",
    "#TRAINING_MODEL_PATH = \"/kaggle/input/hf-dragon-mistral-7b-v0-8-0bpw-h8-exl2\"\n",
    "#TRAINING_MODEL_PATH = \"/kaggle/input/moritzlaurer-deberta-v3-base-zeroshot-v1-1-all-33\"\n",
    "TRAINING_MODEL_PATH = \"/kaggle/input/huggingfacedebertav3variants/deberta-v3-large\"\n",
    "#Warning, no large model loads.\n",
    "#Warning, no auto-gptq found for /kaggle/input/hf-martasamoilenko-quantized-falcon-1b\n",
    "#TRAINING_MODEL_PATH = \"/kaggle/input/hf-facebookai-roberta-base\"\n",
    "TRAINING_MAX_LENGTH = 720 # 1280 # 768 # for hidden size , 768 was for small hidden size # 1280\n",
    "OUTPUT_DIR = 'output'  # your output path"
   ]
  },
  {
   "cell_type": "code",
   "execution_count": 2,
   "id": "91f565f0",
   "metadata": {
    "execution": {
     "iopub.execute_input": "2024-03-07T03:33:19.973514Z",
     "iopub.status.busy": "2024-03-07T03:33:19.973233Z",
     "iopub.status.idle": "2024-03-07T03:33:36.863085Z",
     "shell.execute_reply": "2024-03-07T03:33:36.861890Z"
    },
    "papermill": {
     "duration": 16.900835,
     "end_time": "2024-03-07T03:33:36.865657",
     "exception": false,
     "start_time": "2024-03-07T03:33:19.964822",
     "status": "completed"
    },
    "tags": []
   },
   "outputs": [],
   "source": [
    "!pip install seqeval evaluate -q"
   ]
  },
  {
   "cell_type": "code",
   "execution_count": 3,
   "id": "0a5c6182",
   "metadata": {
    "execution": {
     "iopub.execute_input": "2024-03-07T03:33:36.880872Z",
     "iopub.status.busy": "2024-03-07T03:33:36.880581Z",
     "iopub.status.idle": "2024-03-07T03:33:55.765743Z",
     "shell.execute_reply": "2024-03-07T03:33:55.764912Z"
    },
    "papermill": {
     "duration": 18.895668,
     "end_time": "2024-03-07T03:33:55.768248",
     "exception": false,
     "start_time": "2024-03-07T03:33:36.872580",
     "status": "completed"
    },
    "tags": []
   },
   "outputs": [
    {
     "name": "stderr",
     "output_type": "stream",
     "text": [
      "/opt/conda/lib/python3.10/site-packages/scipy/__init__.py:146: UserWarning: A NumPy version >=1.16.5 and <1.23.0 is required for this version of SciPy (detected version 1.24.3\n",
      "  warnings.warn(f\"A NumPy version >={np_minversion} and <{np_maxversion}\"\n"
     ]
    }
   ],
   "source": [
    "import json\n",
    "import argparse\n",
    "from itertools import chain\n",
    "from functools import partial\n",
    "#import os\n",
    "#os.environ[\"PYTORCH_CUDA_ALLOC_CONF\"] = \"max_split_size_mb:32\"\n",
    "\n",
    "import torch\n",
    "from transformers import AutoTokenizer, Trainer, TrainingArguments\n",
    "from transformers import AutoModelForTokenClassification, DataCollatorForTokenClassification\n",
    "import evaluate\n",
    "from datasets import Dataset, features\n",
    "import numpy as np"
   ]
  },
  {
   "cell_type": "code",
   "execution_count": 4,
   "id": "6e0fbdf5",
   "metadata": {
    "execution": {
     "iopub.execute_input": "2024-03-07T03:33:55.783789Z",
     "iopub.status.busy": "2024-03-07T03:33:55.782801Z",
     "iopub.status.idle": "2024-03-07T03:33:55.788732Z",
     "shell.execute_reply": "2024-03-07T03:33:55.787863Z"
    },
    "papermill": {
     "duration": 0.015565,
     "end_time": "2024-03-07T03:33:55.790642",
     "exception": false,
     "start_time": "2024-03-07T03:33:55.775077",
     "status": "completed"
    },
    "tags": []
   },
   "outputs": [],
   "source": [
    "# Train and test split below has its own seed initialization (change that too)\n",
    "\n",
    "INITIAL_SEED = 421\n",
    "\n",
    "# For reproducability, lock down the random seeds\n",
    "import random\n",
    "import tensorflow as tf\n",
    "import os\n",
    "\n",
    "def seed_everything(seed):\n",
    "    random.seed(seed)\n",
    "    np.random.seed(seed)\n",
    "    os.environ['PYTHONHASHSEED'] = str(seed)\n",
    "    tf.random.set_seed(seed)\n",
    "    \n",
    "seed_everything(INITIAL_SEED) # best try to make runs reproducible - can also tweak this as it affects training splits"
   ]
  },
  {
   "cell_type": "code",
   "execution_count": 5,
   "id": "e5e63871",
   "metadata": {
    "execution": {
     "iopub.execute_input": "2024-03-07T03:33:55.805091Z",
     "iopub.status.busy": "2024-03-07T03:33:55.804435Z",
     "iopub.status.idle": "2024-03-07T03:33:59.083041Z",
     "shell.execute_reply": "2024-03-07T03:33:59.081756Z"
    },
    "papermill": {
     "duration": 3.288279,
     "end_time": "2024-03-07T03:33:59.085298",
     "exception": false,
     "start_time": "2024-03-07T03:33:55.797019",
     "status": "completed"
    },
    "tags": []
   },
   "outputs": [
    {
     "name": "stdout",
     "output_type": "stream",
     "text": [
      "6807\n",
      "dict_keys(['document', 'full_text', 'tokens', 'trailing_whitespace', 'labels'])\n",
      "2000\n",
      "dict_keys(['document', 'full_text', 'tokens', 'trailing_whitespace', 'labels'])\n",
      "8807\n",
      "dict_keys(['document', 'full_text', 'tokens', 'trailing_whitespace', 'labels'])\n"
     ]
    }
   ],
   "source": [
    "# I learned about dataset https://www.kaggle.com/datasets/mpware/pii-mixtral8x7b-generated-essays\n",
    "# from https://www.kaggle.com/code/verracodeguacas/piing-inos\n",
    "\n",
    "import json\n",
    "\n",
    "data = json.load(open(\"/kaggle/input/pii-detection-removal-from-educational-data/train.json\"))\n",
    "#data2 = json.load(open(\"/kaggle/input/pii-mixtral8x7b-generated-essays/mpware_mixtral8x7b_v1.1-no-i-username.json\"))\n",
    "#data2 = json.load(open(\"/kaggle/input/pii-dd-mistral-generated/mixtral-8x7b-v1.json\"))\n",
    "#data3 = json.load(open(\"/kaggle/input/piidd-datasetsfromvalentinwernernotebook/pii_dataset_fixed.json\"))\n",
    "data4 = json.load(open(\"/kaggle/input/piidd-datasetsfromvalentinwernernotebook/moredata_dataset_fixed.json\"))\n",
    "# data2 is loaded from https://www.kaggle.com/datasets/nbroad/pii-dd-mistral-generated/data\n",
    "# which is the work of NICHOLAS BROAD as also referenced by RAJA BISWAS in\n",
    "# https://www.kaggle.com/competitions/pii-detection-removal-from-educational-data/discussion/473139\n",
    "#print(len(data))\n",
    "#print(data[0].keys())\n",
    "print(len(data))\n",
    "print(data[0].keys())\n",
    "print(len(data4))\n",
    "print(data4[0].keys())\n",
    "data = data + data4 # + data3 + data4\n",
    "docnum = 1\n",
    "for docid in range(len(data)):\n",
    "    data[docid][\"document\"] = docnum\n",
    "    docnum += 1\n",
    "print(len(data))\n",
    "print(data[0].keys())"
   ]
  },
  {
   "cell_type": "code",
   "execution_count": 6,
   "id": "af44a29d",
   "metadata": {
    "execution": {
     "iopub.execute_input": "2024-03-07T03:33:59.100782Z",
     "iopub.status.busy": "2024-03-07T03:33:59.100455Z",
     "iopub.status.idle": "2024-03-07T03:33:59.196344Z",
     "shell.execute_reply": "2024-03-07T03:33:59.195412Z"
    },
    "papermill": {
     "duration": 0.105978,
     "end_time": "2024-03-07T03:33:59.198522",
     "exception": false,
     "start_time": "2024-03-07T03:33:59.092544",
     "status": "completed"
    },
    "tags": []
   },
   "outputs": [
    {
     "name": "stdout",
     "output_type": "stream",
     "text": [
      "{0: 'B-EMAIL', 1: 'B-ID_NUM', 2: 'B-NAME_STUDENT', 3: 'B-PHONE_NUM', 4: 'B-STREET_ADDRESS', 5: 'B-URL_PERSONAL', 6: 'B-USERNAME', 7: 'I-ID_NUM', 8: 'I-NAME_STUDENT', 9: 'I-PHONE_NUM', 10: 'I-STREET_ADDRESS', 11: 'I-URL_PERSONAL', 12: 'O'}\n",
      "13\n"
     ]
    }
   ],
   "source": [
    "all_labels = sorted(list(set(chain(*[x[\"labels\"] for x in data]))))\n",
    "label2id = {l: i for i,l in enumerate(all_labels)}\n",
    "id2label = {v:k for k,v in label2id.items()}\n",
    "\n",
    "print(id2label)\n",
    "print(len(label2id))"
   ]
  },
  {
   "cell_type": "code",
   "execution_count": 7,
   "id": "d61142e7",
   "metadata": {
    "execution": {
     "iopub.execute_input": "2024-03-07T03:33:59.213372Z",
     "iopub.status.busy": "2024-03-07T03:33:59.213057Z",
     "iopub.status.idle": "2024-03-07T03:33:59.217358Z",
     "shell.execute_reply": "2024-03-07T03:33:59.216513Z"
    },
    "papermill": {
     "duration": 0.014,
     "end_time": "2024-03-07T03:33:59.219312",
     "exception": false,
     "start_time": "2024-03-07T03:33:59.205312",
     "status": "completed"
    },
    "tags": []
   },
   "outputs": [],
   "source": [
    "target = [\n",
    "    'B-EMAIL', 'B-ID_NUM', 'B-NAME_STUDENT', 'B-PHONE_NUM', \n",
    "    'B-STREET_ADDRESS', 'B-URL_PERSONAL', 'B-USERNAME', 'I-ID_NUM', \n",
    "    'I-NAME_STUDENT', 'I-PHONE_NUM', 'I-STREET_ADDRESS', 'I-URL_PERSONAL'\n",
    "]"
   ]
  },
  {
   "cell_type": "code",
   "execution_count": 8,
   "id": "94df81fe",
   "metadata": {
    "execution": {
     "iopub.execute_input": "2024-03-07T03:33:59.234179Z",
     "iopub.status.busy": "2024-03-07T03:33:59.233877Z",
     "iopub.status.idle": "2024-03-07T03:33:59.270802Z",
     "shell.execute_reply": "2024-03-07T03:33:59.269960Z"
    },
    "papermill": {
     "duration": 0.046411,
     "end_time": "2024-03-07T03:33:59.272666",
     "exception": false,
     "start_time": "2024-03-07T03:33:59.226255",
     "status": "completed"
    },
    "tags": []
   },
   "outputs": [],
   "source": [
    "def tokenize(example, tokenizer, label2id):\n",
    "    text = []\n",
    "\n",
    "    # these are at the character level\n",
    "    labels = []\n",
    "    targets = []\n",
    "\n",
    "    for t, l, ws in zip(example[\"tokens\"], example[\"provided_labels\"], example[\"trailing_whitespace\"]):\n",
    "\n",
    "        text.append(t)\n",
    "        labels.extend([l]*len(t))\n",
    "        \n",
    "        if l in target:\n",
    "            targets.append(1)\n",
    "        else:\n",
    "            targets.append(0)\n",
    "        # if there is trailing whitespace\n",
    "        if ws:\n",
    "            text.append(\" \")\n",
    "            labels.append(\"O\")\n",
    "\n",
    "    tokenized = tokenizer(\"\".join(text), return_offsets_mapping=True, truncation=True, max_length=TRAINING_MAX_LENGTH)\n",
    "    #print(\">>>>\", tokenized)\n",
    "    \n",
    "    target_num = sum(targets)\n",
    "    labels = np.array(labels)\n",
    "\n",
    "    text = \"\".join(text)\n",
    "    token_labels = []\n",
    "\n",
    "    for start_idx, end_idx in tokenized.offset_mapping:\n",
    "\n",
    "        # CLS token\n",
    "        if start_idx == 0 and end_idx == 0: \n",
    "            token_labels.append(label2id[\"O\"])\n",
    "            continue\n",
    "\n",
    "        # case when token starts with whitespace\n",
    "        if text[start_idx].isspace():\n",
    "            start_idx += 1\n",
    "\n",
    "        try:\n",
    "            token_labels.append(label2id[labels[start_idx]])\n",
    "        except:\n",
    "            pass\n",
    "        \n",
    "    length = len(tokenized.input_ids)\n",
    "\n",
    "    return {\n",
    "        **tokenized,\n",
    "        \"labels\": token_labels,\n",
    "        \"length\": length,\n",
    "        \"target_num\": target_num,\n",
    "        \"group\": 1 if target_num>0 else 0\n",
    "    }"
   ]
  },
  {
   "cell_type": "code",
   "execution_count": 9,
   "id": "d143d898",
   "metadata": {
    "execution": {
     "iopub.execute_input": "2024-03-07T03:33:59.287993Z",
     "iopub.status.busy": "2024-03-07T03:33:59.287682Z",
     "iopub.status.idle": "2024-03-07T03:34:02.666170Z",
     "shell.execute_reply": "2024-03-07T03:34:02.665276Z"
    },
    "papermill": {
     "duration": 3.388857,
     "end_time": "2024-03-07T03:34:02.668459",
     "exception": false,
     "start_time": "2024-03-07T03:33:59.279602",
     "status": "completed"
    },
    "tags": []
   },
   "outputs": [
    {
     "name": "stderr",
     "output_type": "stream",
     "text": [
      "/opt/conda/lib/python3.10/site-packages/transformers/convert_slow_tokenizer.py:473: UserWarning: The sentencepiece tokenizer that you are converting to a fast tokenizer uses the byte fallback option which is not implemented in the fast tokenizers. In practice this means that the fast version of the tokenizer can produce unknown tokens whereas the sentencepiece version would have converted these unknown tokens into a sequence of byte tokens matching the original piece of text.\n",
      "  warnings.warn(\n"
     ]
    },
    {
     "name": "stdout",
     "output_type": "stream",
     "text": [
      "8807\n"
     ]
    }
   ],
   "source": [
    "tokenizer = AutoTokenizer.from_pretrained(TRAINING_MODEL_PATH)\n",
    "\n",
    "ds = Dataset.from_dict({\n",
    "    \"full_text\": [x[\"full_text\"] for x in data],\n",
    "    \"document\": [x[\"document\"] for x in data],\n",
    "    \"tokens\": [x[\"tokens\"] for x in data],\n",
    "    \"trailing_whitespace\": [x[\"trailing_whitespace\"] for x in data],\n",
    "    \"provided_labels\": [x[\"labels\"] for x in data],\n",
    "})\n",
    "print(len(ds))"
   ]
  },
  {
   "cell_type": "code",
   "execution_count": 10,
   "id": "1a578ded",
   "metadata": {
    "execution": {
     "iopub.execute_input": "2024-03-07T03:34:02.685306Z",
     "iopub.status.busy": "2024-03-07T03:34:02.684364Z",
     "iopub.status.idle": "2024-03-07T03:41:12.242056Z",
     "shell.execute_reply": "2024-03-07T03:41:12.240977Z"
    },
    "papermill": {
     "duration": 429.568861,
     "end_time": "2024-03-07T03:41:12.244312",
     "exception": false,
     "start_time": "2024-03-07T03:34:02.675451",
     "status": "completed"
    },
    "tags": []
   },
   "outputs": [
    {
     "data": {
      "application/vnd.jupyter.widget-view+json": {
       "model_id": "62cae49d9f2f4f4cb5fbf5e46ab4f805",
       "version_major": 2,
       "version_minor": 0
      },
      "text/plain": [
       "  0%|          | 0/8807 [00:00<?, ?ex/s]"
      ]
     },
     "metadata": {},
     "output_type": "display_data"
    },
    {
     "name": "stdout",
     "output_type": "stream",
     "text": [
      "8807\n"
     ]
    },
    {
     "data": {
      "application/vnd.jupyter.widget-view+json": {
       "model_id": "7a89947682834b2eafb11882dd81d77e",
       "version_major": 2,
       "version_minor": 0
      },
      "text/plain": [
       "Stringifying the column:   0%|          | 0/9 [00:00<?, ?ba/s]"
      ]
     },
     "metadata": {},
     "output_type": "display_data"
    },
    {
     "data": {
      "application/vnd.jupyter.widget-view+json": {
       "model_id": "526b82eb4a3c410485efa9a23eafd36e",
       "version_major": 2,
       "version_minor": 0
      },
      "text/plain": [
       "Casting to class labels:   0%|          | 0/9 [00:00<?, ?ba/s]"
      ]
     },
     "metadata": {},
     "output_type": "display_data"
    },
    {
     "data": {
      "application/vnd.jupyter.widget-view+json": {
       "model_id": "18c426bc2f27485b93c233363c6e06a0",
       "version_major": 2,
       "version_minor": 0
      },
      "text/plain": [
       "Casting the dataset:   0%|          | 0/1 [00:00<?, ?ba/s]"
      ]
     },
     "metadata": {},
     "output_type": "display_data"
    },
    {
     "name": "stdout",
     "output_type": "stream",
     "text": [
      "CPU times: user 7min 5s, sys: 4.88 s, total: 7min 10s\n",
      "Wall time: 7min 9s\n"
     ]
    }
   ],
   "source": [
    "%%time\n",
    "ds = ds.map(tokenize, fn_kwargs={\"tokenizer\": tokenizer, \"label2id\": label2id}, num_proc=1)\n",
    "print(len(ds))\n",
    "ds = ds.class_encode_column(\"group\")"
   ]
  },
  {
   "cell_type": "code",
   "execution_count": 11,
   "id": "b93ec68e",
   "metadata": {
    "execution": {
     "iopub.execute_input": "2024-03-07T03:41:12.262050Z",
     "iopub.status.busy": "2024-03-07T03:41:12.261750Z",
     "iopub.status.idle": "2024-03-07T03:41:12.278623Z",
     "shell.execute_reply": "2024-03-07T03:41:12.277669Z"
    },
    "papermill": {
     "duration": 0.027921,
     "end_time": "2024-03-07T03:41:12.280453",
     "exception": false,
     "start_time": "2024-03-07T03:41:12.252532",
     "status": "completed"
    },
    "tags": []
   },
   "outputs": [
    {
     "name": "stdout",
     "output_type": "stream",
     "text": [
      "('Nathalie', 'B-NAME_STUDENT')\n",
      "('Sylla', 'I-NAME_STUDENT')\n",
      "('Nathalie', 'B-NAME_STUDENT')\n",
      "('Sylla', 'I-NAME_STUDENT')\n",
      "('Nathalie', 'B-NAME_STUDENT')\n",
      "('Sylla', 'I-NAME_STUDENT')\n",
      "****************************************************************************************************\n",
      "('N', 'B-NAME_STUDENT')\n",
      "('atha', 'B-NAME_STUDENT')\n",
      "('lie', 'B-NAME_STUDENT')\n",
      "('▁S', 'I-NAME_STUDENT')\n",
      "('ylla', 'I-NAME_STUDENT')\n",
      "('N', 'B-NAME_STUDENT')\n",
      "('atha', 'B-NAME_STUDENT')\n",
      "('lie', 'B-NAME_STUDENT')\n",
      "('▁S', 'I-NAME_STUDENT')\n",
      "('ylla', 'I-NAME_STUDENT')\n",
      "('N', 'B-NAME_STUDENT')\n",
      "('atha', 'B-NAME_STUDENT')\n",
      "('lie', 'B-NAME_STUDENT')\n",
      "('▁S', 'I-NAME_STUDENT')\n",
      "('ylla', 'I-NAME_STUDENT')\n"
     ]
    }
   ],
   "source": [
    "x = ds[0]\n",
    "\n",
    "for t,l in zip(x[\"tokens\"], x[\"provided_labels\"]):\n",
    "    if l != \"O\":\n",
    "        print((t,l))\n",
    "\n",
    "print(\"*\"*100)\n",
    "\n",
    "for t, l in zip(tokenizer.convert_ids_to_tokens(x[\"input_ids\"]), x[\"labels\"]):\n",
    "    if id2label[l] != \"O\":\n",
    "        print((t,id2label[l]))"
   ]
  },
  {
   "cell_type": "markdown",
   "id": "6f84c372",
   "metadata": {
    "papermill": {
     "duration": 0.007689,
     "end_time": "2024-03-07T03:41:12.296268",
     "exception": false,
     "start_time": "2024-03-07T03:41:12.288579",
     "status": "completed"
    },
    "tags": []
   },
   "source": [
    "Minstral reported the following before stopping on the MinstralConfig not being supported:\n",
    "('Nathalie', 'B-NAME_STUDENT')\n",
    "('Sylla', 'I-NAME_STUDENT')\n",
    "('Nathalie', 'B-NAME_STUDENT')\n",
    "('Sylla', 'I-NAME_STUDENT')\n",
    "('Nathalie', 'B-NAME_STUDENT')\n",
    "('Sylla', 'I-NAME_STUDENT')\n",
    "****************************************************************************************************\n",
    "('N', 'B-NAME_STUDENT')\n",
    "('ath', 'B-NAME_STUDENT')\n",
    "('alie', 'B-NAME_STUDENT')\n",
    "('▁Sy', 'I-NAME_STUDENT')\n",
    "('lla', 'I-NAME_STUDENT')\n",
    "('N', 'B-NAME_STUDENT')\n",
    "('ath', 'B-NAME_STUDENT')\n",
    "('alie', 'B-NAME_STUDENT')\n",
    "('▁Sy', 'I-NAME_STUDENT')\n",
    "('lla', 'I-NAME_STUDENT')"
   ]
  },
  {
   "cell_type": "markdown",
   "id": "fc06d693",
   "metadata": {
    "papermill": {
     "duration": 0.007867,
     "end_time": "2024-03-07T03:41:12.311935",
     "exception": false,
     "start_time": "2024-03-07T03:41:12.304068",
     "status": "completed"
    },
    "tags": []
   },
   "source": [
    "## competition metrics"
   ]
  },
  {
   "cell_type": "code",
   "execution_count": 12,
   "id": "308e639f",
   "metadata": {
    "execution": {
     "iopub.execute_input": "2024-03-07T03:41:12.329974Z",
     "iopub.status.busy": "2024-03-07T03:41:12.329671Z",
     "iopub.status.idle": "2024-03-07T03:41:12.344460Z",
     "shell.execute_reply": "2024-03-07T03:41:12.343714Z"
    },
    "papermill": {
     "duration": 0.025601,
     "end_time": "2024-03-07T03:41:12.346295",
     "exception": false,
     "start_time": "2024-03-07T03:41:12.320694",
     "status": "completed"
    },
    "tags": []
   },
   "outputs": [],
   "source": [
    "from seqeval.metrics import recall_score, precision_score\n",
    "from seqeval.metrics import classification_report\n",
    "from seqeval.metrics import f1_score\n",
    "\n",
    "def compute_metrics(p, all_labels):\n",
    "    predictions, labels = p\n",
    "    predictions = np.argmax(predictions, axis=2)\n",
    "\n",
    "    # Remove ignored index (special tokens)\n",
    "    true_predictions = [\n",
    "        [all_labels[p] for (p, l) in zip(prediction, label) if l != -100]\n",
    "        for prediction, label in zip(predictions, labels)\n",
    "    ]\n",
    "    true_labels = [\n",
    "        [all_labels[l] for (p, l) in zip(prediction, label) if l != -100]\n",
    "        for prediction, label in zip(predictions, labels)\n",
    "    ]\n",
    "    \n",
    "    recall = recall_score(true_labels, true_predictions)\n",
    "    precision = precision_score(true_labels, true_predictions)\n",
    "    f1_score = (1 + 5*5) * recall * precision / (5*5*precision + recall)\n",
    "    \n",
    "    results = {\n",
    "        'recall': recall,\n",
    "        'precision': precision,\n",
    "        'f1': f1_score\n",
    "    }\n",
    "    return results"
   ]
  },
  {
   "cell_type": "code",
   "execution_count": 13,
   "id": "c82efc44",
   "metadata": {
    "execution": {
     "iopub.execute_input": "2024-03-07T03:41:12.363498Z",
     "iopub.status.busy": "2024-03-07T03:41:12.363213Z",
     "iopub.status.idle": "2024-03-07T03:41:25.351949Z",
     "shell.execute_reply": "2024-03-07T03:41:25.351189Z"
    },
    "papermill": {
     "duration": 12.999751,
     "end_time": "2024-03-07T03:41:25.354061",
     "exception": false,
     "start_time": "2024-03-07T03:41:12.354310",
     "status": "completed"
    },
    "tags": []
   },
   "outputs": [
    {
     "name": "stderr",
     "output_type": "stream",
     "text": [
      "Some weights of DebertaV2ForTokenClassification were not initialized from the model checkpoint at /kaggle/input/huggingfacedebertav3variants/deberta-v3-large and are newly initialized: ['classifier.weight', 'classifier.bias']\n",
      "You should probably TRAIN this model on a down-stream task to be able to use it for predictions and inference.\n"
     ]
    }
   ],
   "source": [
    "model = AutoModelForTokenClassification.from_pretrained(\n",
    "    TRAINING_MODEL_PATH,\n",
    "    num_labels=len(all_labels),\n",
    "    id2label=id2label,\n",
    "    label2id=label2id,\n",
    "    ignore_mismatched_sizes=True\n",
    ")\n",
    "collator = DataCollatorForTokenClassification(tokenizer, pad_to_multiple_of=16)"
   ]
  },
  {
   "cell_type": "markdown",
   "id": "a1b75cde",
   "metadata": {
    "papermill": {
     "duration": 0.007966,
     "end_time": "2024-03-07T03:41:25.370616",
     "exception": false,
     "start_time": "2024-03-07T03:41:25.362650",
     "status": "completed"
    },
    "tags": []
   },
   "source": [
    "Reminder:\n",
    "\n",
    "Unrecognized configuration class <class 'transformers.models.mistral.configuration_mistral.MistralConfig'> for this kind of AutoModel: AutoModelForTokenClassification.\n",
    "Model type should be one of AlbertConfig, BertConfig, BigBirdConfig, BioGptConfig, BloomConfig, BrosConfig, CamembertConfig, CanineConfig, ConvBertConfig, Data2VecTextConfig, DebertaConfig, DebertaV2Config, DistilBertConfig, ElectraConfig, ErnieConfig, ErnieMConfig, EsmConfig, FalconConfig, FlaubertConfig, FNetConfig, FunnelConfig, GPT2Config, GPT2Config, GPTBigCodeConfig, GPTNeoConfig, GPTNeoXConfig, IBertConfig, LayoutLMConfig, LayoutLMv2Config, LayoutLMv3Config, LiltConfig, LongformerConfig, LukeConfig, MarkupLMConfig, MegaConfig, MegatronBertConfig, MobileBertConfig, MPNetConfig, MptConfig, MraConfig, NezhaConfig, NystromformerConfig, PhiConfig, QDQBertConfig, RemBertConfig, RobertaConfig, RobertaPreLayerNormConfig, RoCBertConfig, RoFormerConfig, SqueezeBertConfig, XLMConfig, XLMRobertaConfig, XLMRobertaXLConfig, XLNetConfig, XmodConfig, YosoConfig."
   ]
  },
  {
   "cell_type": "code",
   "execution_count": 14,
   "id": "a2b4e371",
   "metadata": {
    "execution": {
     "iopub.execute_input": "2024-03-07T03:41:25.388929Z",
     "iopub.status.busy": "2024-03-07T03:41:25.388584Z",
     "iopub.status.idle": "2024-03-07T03:41:25.396286Z",
     "shell.execute_reply": "2024-03-07T03:41:25.395433Z"
    },
    "papermill": {
     "duration": 0.019399,
     "end_time": "2024-03-07T03:41:25.398499",
     "exception": false,
     "start_time": "2024-03-07T03:41:25.379100",
     "status": "completed"
    },
    "tags": []
   },
   "outputs": [
    {
     "name": "stdout",
     "output_type": "stream",
     "text": [
      "Freezing 12 layers.\n"
     ]
    }
   ],
   "source": [
    "FREEZE_EMBEDDINGS = False\n",
    "FREEZE_LAYERS = 12 # 6 of 12 layers per the model's config base, and 12 of 24 for large\n",
    "\n",
    "if FREEZE_EMBEDDINGS:\n",
    "    print('Freezing embeddings.')\n",
    "    #for param in model.deberta.embeddings.parameters():\n",
    "    for param in model.deberta.embeddings.parameters():\n",
    "        param.requires_grad = False\n",
    "        \n",
    "if FREEZE_LAYERS>0:\n",
    "    print(f'Freezing {FREEZE_LAYERS} layers.')\n",
    "    #for layer in model.deberta.encoder.layer[:FREEZE_LAYERS]:\n",
    "    for layer in model.deberta.encoder.layer[:FREEZE_LAYERS]:\n",
    "        for param in layer.parameters():\n",
    "            param.requires_grad = False"
   ]
  },
  {
   "cell_type": "code",
   "execution_count": 15,
   "id": "bac7d927",
   "metadata": {
    "execution": {
     "iopub.execute_input": "2024-03-07T03:41:25.416680Z",
     "iopub.status.busy": "2024-03-07T03:41:25.416400Z",
     "iopub.status.idle": "2024-03-07T03:41:25.436489Z",
     "shell.execute_reply": "2024-03-07T03:41:25.435594Z"
    },
    "papermill": {
     "duration": 0.031191,
     "end_time": "2024-03-07T03:41:25.438427",
     "exception": false,
     "start_time": "2024-03-07T03:41:25.407236",
     "status": "completed"
    },
    "tags": []
   },
   "outputs": [
    {
     "data": {
      "text/plain": [
       "DatasetDict({\n",
       "    train: Dataset({\n",
       "        features: ['full_text', 'document', 'tokens', 'trailing_whitespace', 'provided_labels', 'input_ids', 'token_type_ids', 'attention_mask', 'offset_mapping', 'labels', 'length', 'target_num', 'group'],\n",
       "        num_rows: 8718\n",
       "    })\n",
       "    test: Dataset({\n",
       "        features: ['full_text', 'document', 'tokens', 'trailing_whitespace', 'provided_labels', 'input_ids', 'token_type_ids', 'attention_mask', 'offset_mapping', 'labels', 'length', 'target_num', 'group'],\n",
       "        num_rows: 89\n",
       "    })\n",
       "})"
      ]
     },
     "execution_count": 15,
     "metadata": {},
     "output_type": "execute_result"
    }
   ],
   "source": [
    "# may want to try to balance classes in splits\n",
    "final_ds = ds.train_test_split(test_size=0.01, seed=421) # cannot use stratify_by_column='group'\n",
    "final_ds"
   ]
  },
  {
   "cell_type": "markdown",
   "id": "25f85537",
   "metadata": {
    "papermill": {
     "duration": 0.008399,
     "end_time": "2024-03-07T03:41:25.455520",
     "exception": false,
     "start_time": "2024-03-07T03:41:25.447121",
     "status": "completed"
    },
    "tags": []
   },
   "source": [
    "## training"
   ]
  },
  {
   "cell_type": "code",
   "execution_count": null,
   "id": "ef6342ad",
   "metadata": {
    "papermill": {
     "duration": 0.008008,
     "end_time": "2024-03-07T03:41:25.472036",
     "exception": false,
     "start_time": "2024-03-07T03:41:25.464028",
     "status": "completed"
    },
    "tags": []
   },
   "outputs": [],
   "source": []
  },
  {
   "cell_type": "code",
   "execution_count": 16,
   "id": "b38cbc2f",
   "metadata": {
    "execution": {
     "iopub.execute_input": "2024-03-07T03:41:25.489937Z",
     "iopub.status.busy": "2024-03-07T03:41:25.489652Z",
     "iopub.status.idle": "2024-03-07T03:41:26.124075Z",
     "shell.execute_reply": "2024-03-07T03:41:26.123268Z"
    },
    "papermill": {
     "duration": 0.645919,
     "end_time": "2024-03-07T03:41:26.126396",
     "exception": false,
     "start_time": "2024-03-07T03:41:25.480477",
     "status": "completed"
    },
    "tags": []
   },
   "outputs": [],
   "source": [
    "args = TrainingArguments(\n",
    "    output_dir=OUTPUT_DIR, \n",
    "    fp16=True,\n",
    "    #warmup_steps=100,\n",
    "    learning_rate=1e-5,\n",
    "    num_train_epochs=3,\n",
    "    per_device_train_batch_size=2,\n",
    "    per_device_eval_batch_size=4,\n",
    "    report_to=\"none\",\n",
    "    evaluation_strategy=\"epoch\",\n",
    "    save_strategy=\"epoch\",\n",
    "    save_total_limit=3,\n",
    "    overwrite_output_dir=True,\n",
    "    load_best_model_at_end=False, #True,\n",
    "    lr_scheduler_type='cosine',\n",
    "    metric_for_best_model=\"f1\",\n",
    "    greater_is_better=True,\n",
    "    weight_decay=0.01\n",
    ")\n",
    "trainer = Trainer(\n",
    "    model=model, \n",
    "    args=args, \n",
    "    train_dataset=final_ds[\"train\"], \n",
    "    eval_dataset=final_ds[\"test\"], \n",
    "    data_collator=collator, \n",
    "    tokenizer=tokenizer,\n",
    "    compute_metrics=partial(compute_metrics, all_labels=all_labels),\n",
    ")"
   ]
  },
  {
   "cell_type": "code",
   "execution_count": 17,
   "id": "18e43f6a",
   "metadata": {
    "execution": {
     "iopub.execute_input": "2024-03-07T03:41:26.145841Z",
     "iopub.status.busy": "2024-03-07T03:41:26.145551Z",
     "iopub.status.idle": "2024-03-07T06:28:23.260254Z",
     "shell.execute_reply": "2024-03-07T06:28:23.259239Z"
    },
    "papermill": {
     "duration": 10017.126787,
     "end_time": "2024-03-07T06:28:23.262487",
     "exception": false,
     "start_time": "2024-03-07T03:41:26.135700",
     "status": "completed"
    },
    "tags": []
   },
   "outputs": [
    {
     "name": "stderr",
     "output_type": "stream",
     "text": [
      "You're using a DebertaV2TokenizerFast tokenizer. Please note that with a fast tokenizer, using the `__call__` method is faster than using a method to encode the text followed by a call to the `pad` method to get a padded encoding.\n"
     ]
    },
    {
     "data": {
      "text/html": [
       "\n",
       "    <div>\n",
       "      \n",
       "      <progress value='13077' max='13077' style='width:300px; height:20px; vertical-align: middle;'></progress>\n",
       "      [13077/13077 2:46:55, Epoch 3/3]\n",
       "    </div>\n",
       "    <table border=\"1\" class=\"dataframe\">\n",
       "  <thead>\n",
       " <tr style=\"text-align: left;\">\n",
       "      <th>Epoch</th>\n",
       "      <th>Training Loss</th>\n",
       "      <th>Validation Loss</th>\n",
       "      <th>Recall</th>\n",
       "      <th>Precision</th>\n",
       "      <th>F1</th>\n",
       "    </tr>\n",
       "  </thead>\n",
       "  <tbody>\n",
       "    <tr>\n",
       "      <td>1</td>\n",
       "      <td>0.002000</td>\n",
       "      <td>0.001121</td>\n",
       "      <td>0.994273</td>\n",
       "      <td>0.972004</td>\n",
       "      <td>0.993397</td>\n",
       "    </tr>\n",
       "    <tr>\n",
       "      <td>2</td>\n",
       "      <td>0.001200</td>\n",
       "      <td>0.000357</td>\n",
       "      <td>0.997709</td>\n",
       "      <td>0.996568</td>\n",
       "      <td>0.997665</td>\n",
       "    </tr>\n",
       "    <tr>\n",
       "      <td>3</td>\n",
       "      <td>0.000800</td>\n",
       "      <td>0.000553</td>\n",
       "      <td>0.996564</td>\n",
       "      <td>0.987514</td>\n",
       "      <td>0.996212</td>\n",
       "    </tr>\n",
       "  </tbody>\n",
       "</table><p>"
      ],
      "text/plain": [
       "<IPython.core.display.HTML object>"
      ]
     },
     "metadata": {},
     "output_type": "display_data"
    },
    {
     "name": "stdout",
     "output_type": "stream",
     "text": [
      "CPU times: user 2h 11min 14s, sys: 35min 50s, total: 2h 47min 5s\n",
      "Wall time: 2h 46min 57s\n"
     ]
    },
    {
     "data": {
      "text/plain": [
       "TrainOutput(global_step=13077, training_loss=0.004724290353256218, metrics={'train_runtime': 10016.6235, 'train_samples_per_second': 2.611, 'train_steps_per_second': 1.306, 'total_flos': 3.1461567989988096e+16, 'train_loss': 0.004724290353256218, 'epoch': 3.0})"
      ]
     },
     "execution_count": 17,
     "metadata": {},
     "output_type": "execute_result"
    }
   ],
   "source": [
    "%%time\n",
    "trainer.train()"
   ]
  },
  {
   "cell_type": "code",
   "execution_count": 18,
   "id": "69ca1d01",
   "metadata": {
    "execution": {
     "iopub.execute_input": "2024-03-07T06:28:23.314747Z",
     "iopub.status.busy": "2024-03-07T06:28:23.314373Z",
     "iopub.status.idle": "2024-03-07T06:28:27.510299Z",
     "shell.execute_reply": "2024-03-07T06:28:27.509459Z"
    },
    "papermill": {
     "duration": 4.240692,
     "end_time": "2024-03-07T06:28:27.512671",
     "exception": false,
     "start_time": "2024-03-07T06:28:23.271979",
     "status": "completed"
    },
    "tags": []
   },
   "outputs": [],
   "source": [
    "trainer.save_model(OUTPUT_DIR)\n",
    "torch.cuda.empty_cache()"
   ]
  },
  {
   "cell_type": "code",
   "execution_count": null,
   "id": "920c3774",
   "metadata": {
    "papermill": {
     "duration": 0.025855,
     "end_time": "2024-03-07T06:28:34.096325",
     "exception": false,
     "start_time": "2024-03-07T06:28:34.070470",
     "status": "completed"
    },
    "tags": []
   },
   "outputs": [],
   "source": []
  }
 ],
 "metadata": {
  "kaggle": {
   "accelerator": "gpu",
   "dataSources": [
    {
     "databundleVersionId": 7500999,
     "sourceId": 66653,
     "sourceType": "competition"
    },
    {
     "datasetId": 2663421,
     "sourceId": 4620664,
     "sourceType": "datasetVersion"
    },
    {
     "datasetId": 4379849,
     "sourceId": 7518925,
     "sourceType": "datasetVersion"
    },
    {
     "datasetId": 4459964,
     "sourceId": 7659420,
     "sourceType": "datasetVersion"
    },
    {
     "datasetId": 4490118,
     "sourceId": 7693446,
     "sourceType": "datasetVersion"
    }
   ],
   "dockerImageVersionId": 30636,
   "isGpuEnabled": true,
   "isInternetEnabled": true,
   "language": "python",
   "sourceType": "notebook"
  },
  "kernelspec": {
   "display_name": "Python 3",
   "language": "python",
   "name": "python3"
  },
  "language_info": {
   "codemirror_mode": {
    "name": "ipython",
    "version": 3
   },
   "file_extension": ".py",
   "mimetype": "text/x-python",
   "name": "python",
   "nbconvert_exporter": "python",
   "pygments_lexer": "ipython3",
   "version": "3.10.12"
  },
  "papermill": {
   "default_parameters": {},
   "duration": 10521.087636,
   "end_time": "2024-03-07T06:28:37.419295",
   "environment_variables": {},
   "exception": null,
   "input_path": "__notebook__.ipynb",
   "output_path": "__notebook__.ipynb",
   "parameters": {},
   "start_time": "2024-03-07T03:33:16.331659",
   "version": "2.4.0"
  },
  "widgets": {
   "application/vnd.jupyter.widget-state+json": {
    "state": {
     "071c5c28d0594f5b897c7c755d282bad": {
      "model_module": "@jupyter-widgets/controls",
      "model_module_version": "1.5.0",
      "model_name": "HTMLModel",
      "state": {
       "_dom_classes": [],
       "_model_module": "@jupyter-widgets/controls",
       "_model_module_version": "1.5.0",
       "_model_name": "HTMLModel",
       "_view_count": null,
       "_view_module": "@jupyter-widgets/controls",
       "_view_module_version": "1.5.0",
       "_view_name": "HTMLView",
       "description": "",
       "description_tooltip": null,
       "layout": "IPY_MODEL_5db872c01c4a4f3d8e967508f7740c16",
       "placeholder": "​",
       "style": "IPY_MODEL_a59f2b2c580e4bec82801a439e26d93e",
       "value": " 9/9 [01:14&lt;00:00,  7.60s/ba]"
      }
     },
     "073f6b91080f4311b777b406b8dc3814": {
      "model_module": "@jupyter-widgets/controls",
      "model_module_version": "1.5.0",
      "model_name": "DescriptionStyleModel",
      "state": {
       "_model_module": "@jupyter-widgets/controls",
       "_model_module_version": "1.5.0",
       "_model_name": "DescriptionStyleModel",
       "_view_count": null,
       "_view_module": "@jupyter-widgets/base",
       "_view_module_version": "1.2.0",
       "_view_name": "StyleView",
       "description_width": ""
      }
     },
     "0a6b3578f6654a47a6c0f7ab726a9b9d": {
      "model_module": "@jupyter-widgets/controls",
      "model_module_version": "1.5.0",
      "model_name": "FloatProgressModel",
      "state": {
       "_dom_classes": [],
       "_model_module": "@jupyter-widgets/controls",
       "_model_module_version": "1.5.0",
       "_model_name": "FloatProgressModel",
       "_view_count": null,
       "_view_module": "@jupyter-widgets/controls",
       "_view_module_version": "1.5.0",
       "_view_name": "ProgressView",
       "bar_style": "success",
       "description": "",
       "description_tooltip": null,
       "layout": "IPY_MODEL_2ad72b4bc5304b6db79a7598d358335c",
       "max": 8807.0,
       "min": 0.0,
       "orientation": "horizontal",
       "style": "IPY_MODEL_1ac8400e44b54f63b3753caeb17158b8",
       "value": 8807.0
      }
     },
     "0e6155ed780e4510b7835f771a3c54a9": {
      "model_module": "@jupyter-widgets/controls",
      "model_module_version": "1.5.0",
      "model_name": "DescriptionStyleModel",
      "state": {
       "_model_module": "@jupyter-widgets/controls",
       "_model_module_version": "1.5.0",
       "_model_name": "DescriptionStyleModel",
       "_view_count": null,
       "_view_module": "@jupyter-widgets/base",
       "_view_module_version": "1.2.0",
       "_view_name": "StyleView",
       "description_width": ""
      }
     },
     "15096f210a5145d2a65b1df4de54ca29": {
      "model_module": "@jupyter-widgets/controls",
      "model_module_version": "1.5.0",
      "model_name": "HTMLModel",
      "state": {
       "_dom_classes": [],
       "_model_module": "@jupyter-widgets/controls",
       "_model_module_version": "1.5.0",
       "_model_name": "HTMLModel",
       "_view_count": null,
       "_view_module": "@jupyter-widgets/controls",
       "_view_module_version": "1.5.0",
       "_view_name": "HTMLView",
       "description": "",
       "description_tooltip": null,
       "layout": "IPY_MODEL_68e83bba05564d199c15e98812ceb243",
       "placeholder": "​",
       "style": "IPY_MODEL_0e6155ed780e4510b7835f771a3c54a9",
       "value": " 1/1 [01:03&lt;00:00, 63.69s/ba]"
      }
     },
     "18c426bc2f27485b93c233363c6e06a0": {
      "model_module": "@jupyter-widgets/controls",
      "model_module_version": "1.5.0",
      "model_name": "HBoxModel",
      "state": {
       "_dom_classes": [],
       "_model_module": "@jupyter-widgets/controls",
       "_model_module_version": "1.5.0",
       "_model_name": "HBoxModel",
       "_view_count": null,
       "_view_module": "@jupyter-widgets/controls",
       "_view_module_version": "1.5.0",
       "_view_name": "HBoxView",
       "box_style": "",
       "children": [
        "IPY_MODEL_c963c8b6b27a42f29c07c3a28a70cc4f",
        "IPY_MODEL_d48b48589e18432bab5888eb3860448d",
        "IPY_MODEL_15096f210a5145d2a65b1df4de54ca29"
       ],
       "layout": "IPY_MODEL_d3f242fee8ee404f8fb3a87b44046955"
      }
     },
     "1ac8400e44b54f63b3753caeb17158b8": {
      "model_module": "@jupyter-widgets/controls",
      "model_module_version": "1.5.0",
      "model_name": "ProgressStyleModel",
      "state": {
       "_model_module": "@jupyter-widgets/controls",
       "_model_module_version": "1.5.0",
       "_model_name": "ProgressStyleModel",
       "_view_count": null,
       "_view_module": "@jupyter-widgets/base",
       "_view_module_version": "1.2.0",
       "_view_name": "StyleView",
       "bar_color": null,
       "description_width": ""
      }
     },
     "1cc2ca0134ae4dacac01b2f076195251": {
      "model_module": "@jupyter-widgets/base",
      "model_module_version": "1.2.0",
      "model_name": "LayoutModel",
      "state": {
       "_model_module": "@jupyter-widgets/base",
       "_model_module_version": "1.2.0",
       "_model_name": "LayoutModel",
       "_view_count": null,
       "_view_module": "@jupyter-widgets/base",
       "_view_module_version": "1.2.0",
       "_view_name": "LayoutView",
       "align_content": null,
       "align_items": null,
       "align_self": null,
       "border": null,
       "bottom": null,
       "display": null,
       "flex": null,
       "flex_flow": null,
       "grid_area": null,
       "grid_auto_columns": null,
       "grid_auto_flow": null,
       "grid_auto_rows": null,
       "grid_column": null,
       "grid_gap": null,
       "grid_row": null,
       "grid_template_areas": null,
       "grid_template_columns": null,
       "grid_template_rows": null,
       "height": null,
       "justify_content": null,
       "justify_items": null,
       "left": null,
       "margin": null,
       "max_height": null,
       "max_width": null,
       "min_height": null,
       "min_width": null,
       "object_fit": null,
       "object_position": null,
       "order": null,
       "overflow": null,
       "overflow_x": null,
       "overflow_y": null,
       "padding": null,
       "right": null,
       "top": null,
       "visibility": null,
       "width": null
      }
     },
     "2ad72b4bc5304b6db79a7598d358335c": {
      "model_module": "@jupyter-widgets/base",
      "model_module_version": "1.2.0",
      "model_name": "LayoutModel",
      "state": {
       "_model_module": "@jupyter-widgets/base",
       "_model_module_version": "1.2.0",
       "_model_name": "LayoutModel",
       "_view_count": null,
       "_view_module": "@jupyter-widgets/base",
       "_view_module_version": "1.2.0",
       "_view_name": "LayoutView",
       "align_content": null,
       "align_items": null,
       "align_self": null,
       "border": null,
       "bottom": null,
       "display": null,
       "flex": null,
       "flex_flow": null,
       "grid_area": null,
       "grid_auto_columns": null,
       "grid_auto_flow": null,
       "grid_auto_rows": null,
       "grid_column": null,
       "grid_gap": null,
       "grid_row": null,
       "grid_template_areas": null,
       "grid_template_columns": null,
       "grid_template_rows": null,
       "height": null,
       "justify_content": null,
       "justify_items": null,
       "left": null,
       "margin": null,
       "max_height": null,
       "max_width": null,
       "min_height": null,
       "min_width": null,
       "object_fit": null,
       "object_position": null,
       "order": null,
       "overflow": null,
       "overflow_x": null,
       "overflow_y": null,
       "padding": null,
       "right": null,
       "top": null,
       "visibility": null,
       "width": null
      }
     },
     "2bd4b8a83f3646f3b9f283fdb99a8b2a": {
      "model_module": "@jupyter-widgets/base",
      "model_module_version": "1.2.0",
      "model_name": "LayoutModel",
      "state": {
       "_model_module": "@jupyter-widgets/base",
       "_model_module_version": "1.2.0",
       "_model_name": "LayoutModel",
       "_view_count": null,
       "_view_module": "@jupyter-widgets/base",
       "_view_module_version": "1.2.0",
       "_view_name": "LayoutView",
       "align_content": null,
       "align_items": null,
       "align_self": null,
       "border": null,
       "bottom": null,
       "display": null,
       "flex": null,
       "flex_flow": null,
       "grid_area": null,
       "grid_auto_columns": null,
       "grid_auto_flow": null,
       "grid_auto_rows": null,
       "grid_column": null,
       "grid_gap": null,
       "grid_row": null,
       "grid_template_areas": null,
       "grid_template_columns": null,
       "grid_template_rows": null,
       "height": null,
       "justify_content": null,
       "justify_items": null,
       "left": null,
       "margin": null,
       "max_height": null,
       "max_width": null,
       "min_height": null,
       "min_width": null,
       "object_fit": null,
       "object_position": null,
       "order": null,
       "overflow": null,
       "overflow_x": null,
       "overflow_y": null,
       "padding": null,
       "right": null,
       "top": null,
       "visibility": null,
       "width": null
      }
     },
     "44531fa838a446468ad1271a4288ae81": {
      "model_module": "@jupyter-widgets/base",
      "model_module_version": "1.2.0",
      "model_name": "LayoutModel",
      "state": {
       "_model_module": "@jupyter-widgets/base",
       "_model_module_version": "1.2.0",
       "_model_name": "LayoutModel",
       "_view_count": null,
       "_view_module": "@jupyter-widgets/base",
       "_view_module_version": "1.2.0",
       "_view_name": "LayoutView",
       "align_content": null,
       "align_items": null,
       "align_self": null,
       "border": null,
       "bottom": null,
       "display": null,
       "flex": null,
       "flex_flow": null,
       "grid_area": null,
       "grid_auto_columns": null,
       "grid_auto_flow": null,
       "grid_auto_rows": null,
       "grid_column": null,
       "grid_gap": null,
       "grid_row": null,
       "grid_template_areas": null,
       "grid_template_columns": null,
       "grid_template_rows": null,
       "height": null,
       "justify_content": null,
       "justify_items": null,
       "left": null,
       "margin": null,
       "max_height": null,
       "max_width": null,
       "min_height": null,
       "min_width": null,
       "object_fit": null,
       "object_position": null,
       "order": null,
       "overflow": null,
       "overflow_x": null,
       "overflow_y": null,
       "padding": null,
       "right": null,
       "top": null,
       "visibility": null,
       "width": null
      }
     },
     "46dd7477b6f14266ad5f1e6fd49e4933": {
      "model_module": "@jupyter-widgets/controls",
      "model_module_version": "1.5.0",
      "model_name": "DescriptionStyleModel",
      "state": {
       "_model_module": "@jupyter-widgets/controls",
       "_model_module_version": "1.5.0",
       "_model_name": "DescriptionStyleModel",
       "_view_count": null,
       "_view_module": "@jupyter-widgets/base",
       "_view_module_version": "1.2.0",
       "_view_name": "StyleView",
       "description_width": ""
      }
     },
     "526b82eb4a3c410485efa9a23eafd36e": {
      "model_module": "@jupyter-widgets/controls",
      "model_module_version": "1.5.0",
      "model_name": "HBoxModel",
      "state": {
       "_dom_classes": [],
       "_model_module": "@jupyter-widgets/controls",
       "_model_module_version": "1.5.0",
       "_model_name": "HBoxModel",
       "_view_count": null,
       "_view_module": "@jupyter-widgets/controls",
       "_view_module_version": "1.5.0",
       "_view_name": "HBoxView",
       "box_style": "",
       "children": [
        "IPY_MODEL_8070d53affaf49d9a42f87a3d1c42b66",
        "IPY_MODEL_e7ddaf37127a4e46a1f62565795e416d",
        "IPY_MODEL_071c5c28d0594f5b897c7c755d282bad"
       ],
       "layout": "IPY_MODEL_1cc2ca0134ae4dacac01b2f076195251"
      }
     },
     "57c1cda0447a45078080081f6b053735": {
      "model_module": "@jupyter-widgets/controls",
      "model_module_version": "1.5.0",
      "model_name": "FloatProgressModel",
      "state": {
       "_dom_classes": [],
       "_model_module": "@jupyter-widgets/controls",
       "_model_module_version": "1.5.0",
       "_model_name": "FloatProgressModel",
       "_view_count": null,
       "_view_module": "@jupyter-widgets/controls",
       "_view_module_version": "1.5.0",
       "_view_name": "ProgressView",
       "bar_style": "success",
       "description": "",
       "description_tooltip": null,
       "layout": "IPY_MODEL_dc69fbcac9764e10afcf60a0a44cdcf5",
       "max": 9.0,
       "min": 0.0,
       "orientation": "horizontal",
       "style": "IPY_MODEL_9549278c4d204716bcdf61594d4dc469",
       "value": 9.0
      }
     },
     "5db872c01c4a4f3d8e967508f7740c16": {
      "model_module": "@jupyter-widgets/base",
      "model_module_version": "1.2.0",
      "model_name": "LayoutModel",
      "state": {
       "_model_module": "@jupyter-widgets/base",
       "_model_module_version": "1.2.0",
       "_model_name": "LayoutModel",
       "_view_count": null,
       "_view_module": "@jupyter-widgets/base",
       "_view_module_version": "1.2.0",
       "_view_name": "LayoutView",
       "align_content": null,
       "align_items": null,
       "align_self": null,
       "border": null,
       "bottom": null,
       "display": null,
       "flex": null,
       "flex_flow": null,
       "grid_area": null,
       "grid_auto_columns": null,
       "grid_auto_flow": null,
       "grid_auto_rows": null,
       "grid_column": null,
       "grid_gap": null,
       "grid_row": null,
       "grid_template_areas": null,
       "grid_template_columns": null,
       "grid_template_rows": null,
       "height": null,
       "justify_content": null,
       "justify_items": null,
       "left": null,
       "margin": null,
       "max_height": null,
       "max_width": null,
       "min_height": null,
       "min_width": null,
       "object_fit": null,
       "object_position": null,
       "order": null,
       "overflow": null,
       "overflow_x": null,
       "overflow_y": null,
       "padding": null,
       "right": null,
       "top": null,
       "visibility": null,
       "width": null
      }
     },
     "62cae49d9f2f4f4cb5fbf5e46ab4f805": {
      "model_module": "@jupyter-widgets/controls",
      "model_module_version": "1.5.0",
      "model_name": "HBoxModel",
      "state": {
       "_dom_classes": [],
       "_model_module": "@jupyter-widgets/controls",
       "_model_module_version": "1.5.0",
       "_model_name": "HBoxModel",
       "_view_count": null,
       "_view_module": "@jupyter-widgets/controls",
       "_view_module_version": "1.5.0",
       "_view_name": "HBoxView",
       "box_style": "",
       "children": [
        "IPY_MODEL_f8d9bb8181a340c4aa05ea54fcfce79d",
        "IPY_MODEL_0a6b3578f6654a47a6c0f7ab726a9b9d",
        "IPY_MODEL_f869d0e91b364f4a9fc476e636bc4f75"
       ],
       "layout": "IPY_MODEL_c6b77171ae2f48128de945c171e3c1be"
      }
     },
     "68062ce19eb7458395de40d096ba81e0": {
      "model_module": "@jupyter-widgets/controls",
      "model_module_version": "1.5.0",
      "model_name": "ProgressStyleModel",
      "state": {
       "_model_module": "@jupyter-widgets/controls",
       "_model_module_version": "1.5.0",
       "_model_name": "ProgressStyleModel",
       "_view_count": null,
       "_view_module": "@jupyter-widgets/base",
       "_view_module_version": "1.2.0",
       "_view_name": "StyleView",
       "bar_color": null,
       "description_width": ""
      }
     },
     "68e83bba05564d199c15e98812ceb243": {
      "model_module": "@jupyter-widgets/base",
      "model_module_version": "1.2.0",
      "model_name": "LayoutModel",
      "state": {
       "_model_module": "@jupyter-widgets/base",
       "_model_module_version": "1.2.0",
       "_model_name": "LayoutModel",
       "_view_count": null,
       "_view_module": "@jupyter-widgets/base",
       "_view_module_version": "1.2.0",
       "_view_name": "LayoutView",
       "align_content": null,
       "align_items": null,
       "align_self": null,
       "border": null,
       "bottom": null,
       "display": null,
       "flex": null,
       "flex_flow": null,
       "grid_area": null,
       "grid_auto_columns": null,
       "grid_auto_flow": null,
       "grid_auto_rows": null,
       "grid_column": null,
       "grid_gap": null,
       "grid_row": null,
       "grid_template_areas": null,
       "grid_template_columns": null,
       "grid_template_rows": null,
       "height": null,
       "justify_content": null,
       "justify_items": null,
       "left": null,
       "margin": null,
       "max_height": null,
       "max_width": null,
       "min_height": null,
       "min_width": null,
       "object_fit": null,
       "object_position": null,
       "order": null,
       "overflow": null,
       "overflow_x": null,
       "overflow_y": null,
       "padding": null,
       "right": null,
       "top": null,
       "visibility": null,
       "width": null
      }
     },
     "74e8f9b8d227448eb6817c45fe4be183": {
      "model_module": "@jupyter-widgets/base",
      "model_module_version": "1.2.0",
      "model_name": "LayoutModel",
      "state": {
       "_model_module": "@jupyter-widgets/base",
       "_model_module_version": "1.2.0",
       "_model_name": "LayoutModel",
       "_view_count": null,
       "_view_module": "@jupyter-widgets/base",
       "_view_module_version": "1.2.0",
       "_view_name": "LayoutView",
       "align_content": null,
       "align_items": null,
       "align_self": null,
       "border": null,
       "bottom": null,
       "display": null,
       "flex": null,
       "flex_flow": null,
       "grid_area": null,
       "grid_auto_columns": null,
       "grid_auto_flow": null,
       "grid_auto_rows": null,
       "grid_column": null,
       "grid_gap": null,
       "grid_row": null,
       "grid_template_areas": null,
       "grid_template_columns": null,
       "grid_template_rows": null,
       "height": null,
       "justify_content": null,
       "justify_items": null,
       "left": null,
       "margin": null,
       "max_height": null,
       "max_width": null,
       "min_height": null,
       "min_width": null,
       "object_fit": null,
       "object_position": null,
       "order": null,
       "overflow": null,
       "overflow_x": null,
       "overflow_y": null,
       "padding": null,
       "right": null,
       "top": null,
       "visibility": null,
       "width": null
      }
     },
     "7a89947682834b2eafb11882dd81d77e": {
      "model_module": "@jupyter-widgets/controls",
      "model_module_version": "1.5.0",
      "model_name": "HBoxModel",
      "state": {
       "_dom_classes": [],
       "_model_module": "@jupyter-widgets/controls",
       "_model_module_version": "1.5.0",
       "_model_name": "HBoxModel",
       "_view_count": null,
       "_view_module": "@jupyter-widgets/controls",
       "_view_module_version": "1.5.0",
       "_view_name": "HBoxView",
       "box_style": "",
       "children": [
        "IPY_MODEL_7b6c00672477450ba979e78261ccc927",
        "IPY_MODEL_57c1cda0447a45078080081f6b053735",
        "IPY_MODEL_f27d4ce413f746259c36c022d7358613"
       ],
       "layout": "IPY_MODEL_85e1cc4fe26345189e5c4e41fe9bc540"
      }
     },
     "7b6c00672477450ba979e78261ccc927": {
      "model_module": "@jupyter-widgets/controls",
      "model_module_version": "1.5.0",
      "model_name": "HTMLModel",
      "state": {
       "_dom_classes": [],
       "_model_module": "@jupyter-widgets/controls",
       "_model_module_version": "1.5.0",
       "_model_name": "HTMLModel",
       "_view_count": null,
       "_view_module": "@jupyter-widgets/controls",
       "_view_module_version": "1.5.0",
       "_view_name": "HTMLView",
       "description": "",
       "description_tooltip": null,
       "layout": "IPY_MODEL_fd71b13d02194bceb5c1deb8b6895274",
       "placeholder": "​",
       "style": "IPY_MODEL_073f6b91080f4311b777b406b8dc3814",
       "value": "Stringifying the column: 100%"
      }
     },
     "8070d53affaf49d9a42f87a3d1c42b66": {
      "model_module": "@jupyter-widgets/controls",
      "model_module_version": "1.5.0",
      "model_name": "HTMLModel",
      "state": {
       "_dom_classes": [],
       "_model_module": "@jupyter-widgets/controls",
       "_model_module_version": "1.5.0",
       "_model_name": "HTMLModel",
       "_view_count": null,
       "_view_module": "@jupyter-widgets/controls",
       "_view_module_version": "1.5.0",
       "_view_name": "HTMLView",
       "description": "",
       "description_tooltip": null,
       "layout": "IPY_MODEL_e4613120fb3e4376b2f0f5b1a6149ea1",
       "placeholder": "​",
       "style": "IPY_MODEL_f6b263f497a84267a011ecb0ecffcc08",
       "value": "Casting to class labels: 100%"
      }
     },
     "8127b806bace486b82ca4eb9eea4d849": {
      "model_module": "@jupyter-widgets/controls",
      "model_module_version": "1.5.0",
      "model_name": "DescriptionStyleModel",
      "state": {
       "_model_module": "@jupyter-widgets/controls",
       "_model_module_version": "1.5.0",
       "_model_name": "DescriptionStyleModel",
       "_view_count": null,
       "_view_module": "@jupyter-widgets/base",
       "_view_module_version": "1.2.0",
       "_view_name": "StyleView",
       "description_width": ""
      }
     },
     "85e1cc4fe26345189e5c4e41fe9bc540": {
      "model_module": "@jupyter-widgets/base",
      "model_module_version": "1.2.0",
      "model_name": "LayoutModel",
      "state": {
       "_model_module": "@jupyter-widgets/base",
       "_model_module_version": "1.2.0",
       "_model_name": "LayoutModel",
       "_view_count": null,
       "_view_module": "@jupyter-widgets/base",
       "_view_module_version": "1.2.0",
       "_view_name": "LayoutView",
       "align_content": null,
       "align_items": null,
       "align_self": null,
       "border": null,
       "bottom": null,
       "display": null,
       "flex": null,
       "flex_flow": null,
       "grid_area": null,
       "grid_auto_columns": null,
       "grid_auto_flow": null,
       "grid_auto_rows": null,
       "grid_column": null,
       "grid_gap": null,
       "grid_row": null,
       "grid_template_areas": null,
       "grid_template_columns": null,
       "grid_template_rows": null,
       "height": null,
       "justify_content": null,
       "justify_items": null,
       "left": null,
       "margin": null,
       "max_height": null,
       "max_width": null,
       "min_height": null,
       "min_width": null,
       "object_fit": null,
       "object_position": null,
       "order": null,
       "overflow": null,
       "overflow_x": null,
       "overflow_y": null,
       "padding": null,
       "right": null,
       "top": null,
       "visibility": null,
       "width": null
      }
     },
     "8db5c2c795ab4922b2be137556aabe98": {
      "model_module": "@jupyter-widgets/controls",
      "model_module_version": "1.5.0",
      "model_name": "DescriptionStyleModel",
      "state": {
       "_model_module": "@jupyter-widgets/controls",
       "_model_module_version": "1.5.0",
       "_model_name": "DescriptionStyleModel",
       "_view_count": null,
       "_view_module": "@jupyter-widgets/base",
       "_view_module_version": "1.2.0",
       "_view_name": "StyleView",
       "description_width": ""
      }
     },
     "95062f30dedb4b75a41de25b2f350ec4": {
      "model_module": "@jupyter-widgets/base",
      "model_module_version": "1.2.0",
      "model_name": "LayoutModel",
      "state": {
       "_model_module": "@jupyter-widgets/base",
       "_model_module_version": "1.2.0",
       "_model_name": "LayoutModel",
       "_view_count": null,
       "_view_module": "@jupyter-widgets/base",
       "_view_module_version": "1.2.0",
       "_view_name": "LayoutView",
       "align_content": null,
       "align_items": null,
       "align_self": null,
       "border": null,
       "bottom": null,
       "display": null,
       "flex": null,
       "flex_flow": null,
       "grid_area": null,
       "grid_auto_columns": null,
       "grid_auto_flow": null,
       "grid_auto_rows": null,
       "grid_column": null,
       "grid_gap": null,
       "grid_row": null,
       "grid_template_areas": null,
       "grid_template_columns": null,
       "grid_template_rows": null,
       "height": null,
       "justify_content": null,
       "justify_items": null,
       "left": null,
       "margin": null,
       "max_height": null,
       "max_width": null,
       "min_height": null,
       "min_width": null,
       "object_fit": null,
       "object_position": null,
       "order": null,
       "overflow": null,
       "overflow_x": null,
       "overflow_y": null,
       "padding": null,
       "right": null,
       "top": null,
       "visibility": null,
       "width": null
      }
     },
     "9549278c4d204716bcdf61594d4dc469": {
      "model_module": "@jupyter-widgets/controls",
      "model_module_version": "1.5.0",
      "model_name": "ProgressStyleModel",
      "state": {
       "_model_module": "@jupyter-widgets/controls",
       "_model_module_version": "1.5.0",
       "_model_name": "ProgressStyleModel",
       "_view_count": null,
       "_view_module": "@jupyter-widgets/base",
       "_view_module_version": "1.2.0",
       "_view_name": "StyleView",
       "bar_color": null,
       "description_width": ""
      }
     },
     "a59f2b2c580e4bec82801a439e26d93e": {
      "model_module": "@jupyter-widgets/controls",
      "model_module_version": "1.5.0",
      "model_name": "DescriptionStyleModel",
      "state": {
       "_model_module": "@jupyter-widgets/controls",
       "_model_module_version": "1.5.0",
       "_model_name": "DescriptionStyleModel",
       "_view_count": null,
       "_view_module": "@jupyter-widgets/base",
       "_view_module_version": "1.2.0",
       "_view_name": "StyleView",
       "description_width": ""
      }
     },
     "c3bc3ca2685e4880a497b087dba7c60a": {
      "model_module": "@jupyter-widgets/controls",
      "model_module_version": "1.5.0",
      "model_name": "ProgressStyleModel",
      "state": {
       "_model_module": "@jupyter-widgets/controls",
       "_model_module_version": "1.5.0",
       "_model_name": "ProgressStyleModel",
       "_view_count": null,
       "_view_module": "@jupyter-widgets/base",
       "_view_module_version": "1.2.0",
       "_view_name": "StyleView",
       "bar_color": null,
       "description_width": ""
      }
     },
     "c6b77171ae2f48128de945c171e3c1be": {
      "model_module": "@jupyter-widgets/base",
      "model_module_version": "1.2.0",
      "model_name": "LayoutModel",
      "state": {
       "_model_module": "@jupyter-widgets/base",
       "_model_module_version": "1.2.0",
       "_model_name": "LayoutModel",
       "_view_count": null,
       "_view_module": "@jupyter-widgets/base",
       "_view_module_version": "1.2.0",
       "_view_name": "LayoutView",
       "align_content": null,
       "align_items": null,
       "align_self": null,
       "border": null,
       "bottom": null,
       "display": null,
       "flex": null,
       "flex_flow": null,
       "grid_area": null,
       "grid_auto_columns": null,
       "grid_auto_flow": null,
       "grid_auto_rows": null,
       "grid_column": null,
       "grid_gap": null,
       "grid_row": null,
       "grid_template_areas": null,
       "grid_template_columns": null,
       "grid_template_rows": null,
       "height": null,
       "justify_content": null,
       "justify_items": null,
       "left": null,
       "margin": null,
       "max_height": null,
       "max_width": null,
       "min_height": null,
       "min_width": null,
       "object_fit": null,
       "object_position": null,
       "order": null,
       "overflow": null,
       "overflow_x": null,
       "overflow_y": null,
       "padding": null,
       "right": null,
       "top": null,
       "visibility": null,
       "width": null
      }
     },
     "c963c8b6b27a42f29c07c3a28a70cc4f": {
      "model_module": "@jupyter-widgets/controls",
      "model_module_version": "1.5.0",
      "model_name": "HTMLModel",
      "state": {
       "_dom_classes": [],
       "_model_module": "@jupyter-widgets/controls",
       "_model_module_version": "1.5.0",
       "_model_name": "HTMLModel",
       "_view_count": null,
       "_view_module": "@jupyter-widgets/controls",
       "_view_module_version": "1.5.0",
       "_view_name": "HTMLView",
       "description": "",
       "description_tooltip": null,
       "layout": "IPY_MODEL_44531fa838a446468ad1271a4288ae81",
       "placeholder": "​",
       "style": "IPY_MODEL_46dd7477b6f14266ad5f1e6fd49e4933",
       "value": "Casting the dataset: 100%"
      }
     },
     "d3f242fee8ee404f8fb3a87b44046955": {
      "model_module": "@jupyter-widgets/base",
      "model_module_version": "1.2.0",
      "model_name": "LayoutModel",
      "state": {
       "_model_module": "@jupyter-widgets/base",
       "_model_module_version": "1.2.0",
       "_model_name": "LayoutModel",
       "_view_count": null,
       "_view_module": "@jupyter-widgets/base",
       "_view_module_version": "1.2.0",
       "_view_name": "LayoutView",
       "align_content": null,
       "align_items": null,
       "align_self": null,
       "border": null,
       "bottom": null,
       "display": null,
       "flex": null,
       "flex_flow": null,
       "grid_area": null,
       "grid_auto_columns": null,
       "grid_auto_flow": null,
       "grid_auto_rows": null,
       "grid_column": null,
       "grid_gap": null,
       "grid_row": null,
       "grid_template_areas": null,
       "grid_template_columns": null,
       "grid_template_rows": null,
       "height": null,
       "justify_content": null,
       "justify_items": null,
       "left": null,
       "margin": null,
       "max_height": null,
       "max_width": null,
       "min_height": null,
       "min_width": null,
       "object_fit": null,
       "object_position": null,
       "order": null,
       "overflow": null,
       "overflow_x": null,
       "overflow_y": null,
       "padding": null,
       "right": null,
       "top": null,
       "visibility": null,
       "width": null
      }
     },
     "d48b48589e18432bab5888eb3860448d": {
      "model_module": "@jupyter-widgets/controls",
      "model_module_version": "1.5.0",
      "model_name": "FloatProgressModel",
      "state": {
       "_dom_classes": [],
       "_model_module": "@jupyter-widgets/controls",
       "_model_module_version": "1.5.0",
       "_model_name": "FloatProgressModel",
       "_view_count": null,
       "_view_module": "@jupyter-widgets/controls",
       "_view_module_version": "1.5.0",
       "_view_name": "ProgressView",
       "bar_style": "success",
       "description": "",
       "description_tooltip": null,
       "layout": "IPY_MODEL_95062f30dedb4b75a41de25b2f350ec4",
       "max": 1.0,
       "min": 0.0,
       "orientation": "horizontal",
       "style": "IPY_MODEL_c3bc3ca2685e4880a497b087dba7c60a",
       "value": 1.0
      }
     },
     "d94964bb0fbb416ebf0b74106be8d2bf": {
      "model_module": "@jupyter-widgets/base",
      "model_module_version": "1.2.0",
      "model_name": "LayoutModel",
      "state": {
       "_model_module": "@jupyter-widgets/base",
       "_model_module_version": "1.2.0",
       "_model_name": "LayoutModel",
       "_view_count": null,
       "_view_module": "@jupyter-widgets/base",
       "_view_module_version": "1.2.0",
       "_view_name": "LayoutView",
       "align_content": null,
       "align_items": null,
       "align_self": null,
       "border": null,
       "bottom": null,
       "display": null,
       "flex": null,
       "flex_flow": null,
       "grid_area": null,
       "grid_auto_columns": null,
       "grid_auto_flow": null,
       "grid_auto_rows": null,
       "grid_column": null,
       "grid_gap": null,
       "grid_row": null,
       "grid_template_areas": null,
       "grid_template_columns": null,
       "grid_template_rows": null,
       "height": null,
       "justify_content": null,
       "justify_items": null,
       "left": null,
       "margin": null,
       "max_height": null,
       "max_width": null,
       "min_height": null,
       "min_width": null,
       "object_fit": null,
       "object_position": null,
       "order": null,
       "overflow": null,
       "overflow_x": null,
       "overflow_y": null,
       "padding": null,
       "right": null,
       "top": null,
       "visibility": null,
       "width": null
      }
     },
     "dc69fbcac9764e10afcf60a0a44cdcf5": {
      "model_module": "@jupyter-widgets/base",
      "model_module_version": "1.2.0",
      "model_name": "LayoutModel",
      "state": {
       "_model_module": "@jupyter-widgets/base",
       "_model_module_version": "1.2.0",
       "_model_name": "LayoutModel",
       "_view_count": null,
       "_view_module": "@jupyter-widgets/base",
       "_view_module_version": "1.2.0",
       "_view_name": "LayoutView",
       "align_content": null,
       "align_items": null,
       "align_self": null,
       "border": null,
       "bottom": null,
       "display": null,
       "flex": null,
       "flex_flow": null,
       "grid_area": null,
       "grid_auto_columns": null,
       "grid_auto_flow": null,
       "grid_auto_rows": null,
       "grid_column": null,
       "grid_gap": null,
       "grid_row": null,
       "grid_template_areas": null,
       "grid_template_columns": null,
       "grid_template_rows": null,
       "height": null,
       "justify_content": null,
       "justify_items": null,
       "left": null,
       "margin": null,
       "max_height": null,
       "max_width": null,
       "min_height": null,
       "min_width": null,
       "object_fit": null,
       "object_position": null,
       "order": null,
       "overflow": null,
       "overflow_x": null,
       "overflow_y": null,
       "padding": null,
       "right": null,
       "top": null,
       "visibility": null,
       "width": null
      }
     },
     "e4613120fb3e4376b2f0f5b1a6149ea1": {
      "model_module": "@jupyter-widgets/base",
      "model_module_version": "1.2.0",
      "model_name": "LayoutModel",
      "state": {
       "_model_module": "@jupyter-widgets/base",
       "_model_module_version": "1.2.0",
       "_model_name": "LayoutModel",
       "_view_count": null,
       "_view_module": "@jupyter-widgets/base",
       "_view_module_version": "1.2.0",
       "_view_name": "LayoutView",
       "align_content": null,
       "align_items": null,
       "align_self": null,
       "border": null,
       "bottom": null,
       "display": null,
       "flex": null,
       "flex_flow": null,
       "grid_area": null,
       "grid_auto_columns": null,
       "grid_auto_flow": null,
       "grid_auto_rows": null,
       "grid_column": null,
       "grid_gap": null,
       "grid_row": null,
       "grid_template_areas": null,
       "grid_template_columns": null,
       "grid_template_rows": null,
       "height": null,
       "justify_content": null,
       "justify_items": null,
       "left": null,
       "margin": null,
       "max_height": null,
       "max_width": null,
       "min_height": null,
       "min_width": null,
       "object_fit": null,
       "object_position": null,
       "order": null,
       "overflow": null,
       "overflow_x": null,
       "overflow_y": null,
       "padding": null,
       "right": null,
       "top": null,
       "visibility": null,
       "width": null
      }
     },
     "e7ddaf37127a4e46a1f62565795e416d": {
      "model_module": "@jupyter-widgets/controls",
      "model_module_version": "1.5.0",
      "model_name": "FloatProgressModel",
      "state": {
       "_dom_classes": [],
       "_model_module": "@jupyter-widgets/controls",
       "_model_module_version": "1.5.0",
       "_model_name": "FloatProgressModel",
       "_view_count": null,
       "_view_module": "@jupyter-widgets/controls",
       "_view_module_version": "1.5.0",
       "_view_name": "ProgressView",
       "bar_style": "success",
       "description": "",
       "description_tooltip": null,
       "layout": "IPY_MODEL_74e8f9b8d227448eb6817c45fe4be183",
       "max": 9.0,
       "min": 0.0,
       "orientation": "horizontal",
       "style": "IPY_MODEL_68062ce19eb7458395de40d096ba81e0",
       "value": 9.0
      }
     },
     "e9ab1eb16ca84231b4a0503c5e3d0ba9": {
      "model_module": "@jupyter-widgets/base",
      "model_module_version": "1.2.0",
      "model_name": "LayoutModel",
      "state": {
       "_model_module": "@jupyter-widgets/base",
       "_model_module_version": "1.2.0",
       "_model_name": "LayoutModel",
       "_view_count": null,
       "_view_module": "@jupyter-widgets/base",
       "_view_module_version": "1.2.0",
       "_view_name": "LayoutView",
       "align_content": null,
       "align_items": null,
       "align_self": null,
       "border": null,
       "bottom": null,
       "display": null,
       "flex": null,
       "flex_flow": null,
       "grid_area": null,
       "grid_auto_columns": null,
       "grid_auto_flow": null,
       "grid_auto_rows": null,
       "grid_column": null,
       "grid_gap": null,
       "grid_row": null,
       "grid_template_areas": null,
       "grid_template_columns": null,
       "grid_template_rows": null,
       "height": null,
       "justify_content": null,
       "justify_items": null,
       "left": null,
       "margin": null,
       "max_height": null,
       "max_width": null,
       "min_height": null,
       "min_width": null,
       "object_fit": null,
       "object_position": null,
       "order": null,
       "overflow": null,
       "overflow_x": null,
       "overflow_y": null,
       "padding": null,
       "right": null,
       "top": null,
       "visibility": null,
       "width": null
      }
     },
     "eba99449d57d48a3b72c3df2755ffd29": {
      "model_module": "@jupyter-widgets/controls",
      "model_module_version": "1.5.0",
      "model_name": "DescriptionStyleModel",
      "state": {
       "_model_module": "@jupyter-widgets/controls",
       "_model_module_version": "1.5.0",
       "_model_name": "DescriptionStyleModel",
       "_view_count": null,
       "_view_module": "@jupyter-widgets/base",
       "_view_module_version": "1.2.0",
       "_view_name": "StyleView",
       "description_width": ""
      }
     },
     "f27d4ce413f746259c36c022d7358613": {
      "model_module": "@jupyter-widgets/controls",
      "model_module_version": "1.5.0",
      "model_name": "HTMLModel",
      "state": {
       "_dom_classes": [],
       "_model_module": "@jupyter-widgets/controls",
       "_model_module_version": "1.5.0",
       "_model_name": "HTMLModel",
       "_view_count": null,
       "_view_module": "@jupyter-widgets/controls",
       "_view_module_version": "1.5.0",
       "_view_name": "HTMLView",
       "description": "",
       "description_tooltip": null,
       "layout": "IPY_MODEL_d94964bb0fbb416ebf0b74106be8d2bf",
       "placeholder": "​",
       "style": "IPY_MODEL_8127b806bace486b82ca4eb9eea4d849",
       "value": " 9/9 [01:14&lt;00:00,  7.62s/ba]"
      }
     },
     "f6b263f497a84267a011ecb0ecffcc08": {
      "model_module": "@jupyter-widgets/controls",
      "model_module_version": "1.5.0",
      "model_name": "DescriptionStyleModel",
      "state": {
       "_model_module": "@jupyter-widgets/controls",
       "_model_module_version": "1.5.0",
       "_model_name": "DescriptionStyleModel",
       "_view_count": null,
       "_view_module": "@jupyter-widgets/base",
       "_view_module_version": "1.2.0",
       "_view_name": "StyleView",
       "description_width": ""
      }
     },
     "f869d0e91b364f4a9fc476e636bc4f75": {
      "model_module": "@jupyter-widgets/controls",
      "model_module_version": "1.5.0",
      "model_name": "HTMLModel",
      "state": {
       "_dom_classes": [],
       "_model_module": "@jupyter-widgets/controls",
       "_model_module_version": "1.5.0",
       "_model_name": "HTMLModel",
       "_view_count": null,
       "_view_module": "@jupyter-widgets/controls",
       "_view_module_version": "1.5.0",
       "_view_name": "HTMLView",
       "description": "",
       "description_tooltip": null,
       "layout": "IPY_MODEL_e9ab1eb16ca84231b4a0503c5e3d0ba9",
       "placeholder": "​",
       "style": "IPY_MODEL_eba99449d57d48a3b72c3df2755ffd29",
       "value": " 8807/8807 [03:24&lt;00:00, 165.93ex/s]"
      }
     },
     "f8d9bb8181a340c4aa05ea54fcfce79d": {
      "model_module": "@jupyter-widgets/controls",
      "model_module_version": "1.5.0",
      "model_name": "HTMLModel",
      "state": {
       "_dom_classes": [],
       "_model_module": "@jupyter-widgets/controls",
       "_model_module_version": "1.5.0",
       "_model_name": "HTMLModel",
       "_view_count": null,
       "_view_module": "@jupyter-widgets/controls",
       "_view_module_version": "1.5.0",
       "_view_name": "HTMLView",
       "description": "",
       "description_tooltip": null,
       "layout": "IPY_MODEL_2bd4b8a83f3646f3b9f283fdb99a8b2a",
       "placeholder": "​",
       "style": "IPY_MODEL_8db5c2c795ab4922b2be137556aabe98",
       "value": "100%"
      }
     },
     "fd71b13d02194bceb5c1deb8b6895274": {
      "model_module": "@jupyter-widgets/base",
      "model_module_version": "1.2.0",
      "model_name": "LayoutModel",
      "state": {
       "_model_module": "@jupyter-widgets/base",
       "_model_module_version": "1.2.0",
       "_model_name": "LayoutModel",
       "_view_count": null,
       "_view_module": "@jupyter-widgets/base",
       "_view_module_version": "1.2.0",
       "_view_name": "LayoutView",
       "align_content": null,
       "align_items": null,
       "align_self": null,
       "border": null,
       "bottom": null,
       "display": null,
       "flex": null,
       "flex_flow": null,
       "grid_area": null,
       "grid_auto_columns": null,
       "grid_auto_flow": null,
       "grid_auto_rows": null,
       "grid_column": null,
       "grid_gap": null,
       "grid_row": null,
       "grid_template_areas": null,
       "grid_template_columns": null,
       "grid_template_rows": null,
       "height": null,
       "justify_content": null,
       "justify_items": null,
       "left": null,
       "margin": null,
       "max_height": null,
       "max_width": null,
       "min_height": null,
       "min_width": null,
       "object_fit": null,
       "object_position": null,
       "order": null,
       "overflow": null,
       "overflow_x": null,
       "overflow_y": null,
       "padding": null,
       "right": null,
       "top": null,
       "visibility": null,
       "width": null
      }
     }
    },
    "version_major": 2,
    "version_minor": 0
   }
  }
 },
 "nbformat": 4,
 "nbformat_minor": 5
}
