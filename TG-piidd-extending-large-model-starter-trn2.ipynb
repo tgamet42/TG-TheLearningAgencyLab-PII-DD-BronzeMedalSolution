{
 "cells": [
  {
   "cell_type": "markdown",
   "id": "57b3fe5d",
   "metadata": {
    "papermill": {
     "duration": 0.00809,
     "end_time": "2024-04-07T11:41:43.184032",
     "exception": false,
     "start_time": "2024-04-07T11:41:43.175942",
     "status": "completed"
    },
    "tags": []
   },
   "source": [
    "Most recent author: Thomas Gamet\n",
    "MIT License\n",
    "Kaggle Contest: https://www.kaggle.com/datasets/thomasgamet/piidd-extending-large-model-starter-model\n",
    "Many thanks to the notebook authors who came before me, and the Kaggle Contest sponsors.\n",
    "\n",
    "*** I am adding https://www.kaggle.com/code/valentinwerner/fix-punctuation-tokenization-external-dataset/output which comes from VALENTIN WERNER\n",
    "\n",
    "- This training is based on Joseph Josia's notebook for trainin: https://www.kaggle.com/takanashihumbert/piidd-deberta-model-starter-training\n",
    "- This one is based on the great starting [notebook](https://www.kaggle.com/code/nbroad/transformer-ner-baseline-lb-0-576) by @NICHOLAS BROAD.\n",
    "- please note: I didn't use the deberta-base model I choose here to finetune, this is just a demo.\n",
    "- In the postprocessing part of inference, I changed **tokens** to **token_map** in two lines. This will bring a huge improvement. There is the [inference notebook](https://www.kaggle.com/code/takanashihumbert/piidd-deberta-model-starter-inference)\n",
    "\n",
    "Starting over to track the work with deberta-v3-large\n",
    "See https://www.kaggle.com/code/thomasgamet/piidd-extending-model-starter-training/edit/run/163432935 for the initial runs using (for all but the last run) the small model.\n",
    "\n",
    "All LB scores are produced by https://www.kaggle.com/code/thomasgamet/pii-dd-deberta-3-large-striding-inference\n",
    "\n",
    "First run will use \n",
    "v1 with deberta-v3-large build \n",
    " epochs 4\n",
    " freeze 6\n",
    " lr 5e-6\n",
    " datasets 2\n",
    " seed 42\n",
    " train length 720\n",
    " *** LB==0.956 with a threshold of 0.99\n",
    " \n",
    " Third run will use (second run was aborted without a GPU)\n",
    "v3 with deberta-v3-large build \n",
    " epochs 2\n",
    " freeze 12\n",
    " lr 1e-5\n",
    " datasets 2\n",
    " seed 42\n",
    " train length 720\n",
    " *** LB=0.954 with a threshold of 0.99\n",
    " \n",
    " Fourth run will use (just a different split)\n",
    "v4 with deberta-v3-large build \n",
    " epochs 2\n",
    " freeze 12\n",
    " lr 1e-5\n",
    " datasets 2\n",
    " seed 421\n",
    " train length 720\n",
    " *** LB=0.952 with a threshold of 0.99\n",
    " \n",
    "v5 ep2lr1e-5ds2fr12seed421+.01split\n",
    " epochs 2\n",
    " freeze 12\n",
    " lr 1e-5\n",
    " datasets 2\n",
    " seed 421\n",
    " test_split 0.01 (all prior used .2)\n",
    " train length 720\n",
    " *** Best LB=0.948 with threshold of 0.98\n",
    "\n",
    "v6 ep2lr1e-5ds2fr12seed421+.01split\n",
    " ds2 was minstral generated and the LAL's training set\n",
    " epochs 2\n",
    " freeze 12\n",
    " lr 1e-5\n",
    " datasets 3\n",
    " seed 421\n",
    " test_split 0.01 (all prior used .2)\n",
    " train length 720\n",
    " *** Best LB=0.958 with threshold of 0.99\n",
    " \n",
    "v7 ep4lr1e-5ds3fr12seed421+.01td\n",
    " ds3 was the LAL's training set and Valentine's two data sets\n",
    " epochs 4\n",
    " freeze 12\n",
    " lr 1e-5\n",
    " datasets 3 (from Valentin Werner)\n",
    " seed 421\n",
    " test_split 0.01 \n",
    " train length 720\n",
    " *** Best LB=0.951 with threshold of 0.99 on epoch 2\n",
    " \n",
    "v8 ep5lr2e-6ds3fr12seed42+.1td\n",
    " epochs 5\n",
    " freeze 12 # might freeze more layers in future, try lower lr first\n",
    " lr 2e-6 # theory, weights adjusted too rapidly affecting generality\n",
    " datasets 3 (from Valentin Werner)\n",
    " seed 42\n",
    " test_split 0.1 # hoping this gives better insight to progress\n",
    " train length 720\n",
    " *** Best LB=? with threshold of 0.99 on epoch \n",
    "Training ran out of disk space but still did produce the following JSON to report its results on the 10% validation data. Clearly, it was still improving and as such I suspect the learning rate may be too low or I need more epochs.\n",
    "       \"    <table border=\\\"1\\\" class=\\\"dataframe\\\">\\n\",\n",
    "       \"  <thead>\\n\",\n",
    "       \" <tr style=\\\"text-align: left;\\\">\\n\",\n",
    "       \"      <th>Epoch</th>\\n\",\n",
    "       \"      <th>Training Loss</th>\\n\",\n",
    "       \"      <th>Validation Loss</th>\\n\",\n",
    "       \"      <th>Recall</th>\\n\",\n",
    "       \"      <th>Precision</th>\\n\",\n",
    "       \"      <th>F1</th>\\n\",\n",
    "       \"    </tr>\\n\",\n",
    "       \"  </thead>\\n\",\n",
    "       \"  <tbody>\\n\",\n",
    "       \"    <tr>\\n\",\n",
    "       \"      <td>1</td>\\n\",\n",
    "       \"      <td>0.003900</td>\\n\",\n",
    "       \"      <td>0.003620</td>\\n\",\n",
    "       \"      <td>0.981270</td>\\n\",\n",
    "       \"      <td>0.978999</td>\\n\",\n",
    "       \"      <td>0.981182</td>\\n\",\n",
    "       \"    </tr>\\n\",\n",
    "       \"    <tr>\\n\",\n",
    "       \"      <td>2</td>\\n\",\n",
    "       \"      <td>0.002900</td>\\n\",\n",
    "       \"      <td>0.003381</td>\\n\",\n",
    "       \"      <td>0.986083</td>\\n\",\n",
    "       \"      <td>0.975841</td>\\n\",\n",
    "       \"      <td>0.985685</td>\\n\",\n",
    "       \"    </tr>\\n\",\n",
    "       \"    <tr>\\n\",\n",
    "       \"      <td>3</td>\\n\",\n",
    "       \"      <td>0.002600</td>\\n\",\n",
    "       \"      <td>0.002669</td>\\n\",\n",
    "       \"      <td>0.986025</td>\\n\",\n",
    "       \"      <td>0.988145</td>\\n\",\n",
    "       \"      <td>0.986106</td>\\n\",\n",
    "       \"    </tr>\\n\",\n",
    "       \"    <tr>\\n\",\n",
    "       \"      <td>4</td>\\n\",\n",
    "       \"      <td>0.001500</td>\\n\",\n",
    "       \"      <td>0.002717</td>\\n\",\n",
    "       \"      <td>0.988692</td>\\n\",\n",
    "       \"      <td>0.988005</td>\\n\",\n",
    "       \"      <td>0.988666</td>\\n\",\n",
    "       \"    </tr>\\n\",\n",
    "       \"    <tr>\\n\",\n",
    "       \"      <td>5</td>\\n\",\n",
    "       \"      <td>0.001600</td>\\n\",\n",
    "       \"      <td>0.002656</td>\\n\",\n",
    "       \"      <td>0.989156</td>\\n\",\n",
    "       \"      <td>0.987153</td>\\n\",\n",
    "       \"      <td>0.989079</td>\\n\",\n",
    "       \"    </tr>\\n\",\n",
    "       \"  </tbody>\\n\",\n",
    "       \"</table><p>\"\n",
    "The LB scores were:\n",
    "model/output/checkpoint-6118\n",
    "Inferencing v19 threshold 0.99 LB=0.924\n",
    "model/output/checkpoint-12236\n",
    "Inferencing v20 threshold 0.99 LB=0.945\n",
    "model/output/checkpoint-18354\n",
    "Inferencing v21 threshold 0.99 LB=0.933\n",
    "model/output/checkpoint-24472\n",
    "Inferencing v22 threshold 0.99 LB=0.935\n",
    "model/output/checkpoint-30590\n",
    "Inferencing v23 was not a submission\n",
    "Inferencing v24 threshold 0.99 LB=0.934\n",
    "Guessing the learning rate got stuck in local minima states after peeking out. This is likely not worth changing the number of layers being frozen. \n",
    "\n",
    "Next experiment, double 1e-5 to 2e-5 as the learning rate and see if either of the first two epochs improves the score. Include a 3rd epoch to confirm overfitting has likely begun.\n",
    "v9 ep#lr2e-5ds3fr12seed42+.1td\n",
    "Best LB was only 0.945 with a threshold of 0.99. This was on the 2nd of 3 epochs.\n",
    "\n",
    "This time, increase batch sizes to see if it helps performance, and put the learning rate at 5e-6 (half of prior ideal - given that we have over twice the data). td test data split, tb test batch, vb validation batch.\n",
    "Also, increase to using all 4 data sets.\n",
    "v10 ep4lr5e-6ds4fr12seed42td.1tb4vb8\n",
    "checkpoint-10527 which is ep3\n",
    "Inference v28 threshold 0.99 LB=0.939\n",
    "checkpoint-14036 which is ep4\n",
    "Inference v29 threshold 0.99 LB=0.942\n",
    "   \n",
    "The largest training batch size that works is 4 (6 resulted in an OOM - maybe 5 will work, but going from 2 to 4 made no significant difference).\n",
    "v15 ep4lr9e-6ds4fr18seed42td.1tb4vb8\n",
    "ds3 was the LAL's training set and Valentine's two data sets and the minstral generated\n",
    "Best LB=0.942 att epoch 4\n",
    "Freezing more layers does not help the CV scores.\n",
    "To confirm, freezing only 3, 6, or 9 layers results  in OOM exceptions.\n",
    "    \n",
    "Trying a new dataset https://www.kaggle.com/datasets/mpware/pii-mixtral8x7b-generated-essays which was found on https://www.kaggle.com/code/verracodeguacas/piing-inos. Combined with the initial base model pii- three phiranna models it produced a score of 0.964 combined with only the contest set. Let's see what happends in\n",
    "v19 ep3lr1e-5ds2nfr12seed421td.01tb2vb4 (the setup that once made 0.958 in the LB).\n",
    "\n",
    "v21 ep5lr1e-5ds2nfr12seed421td.01td produced the best LB=0.963 at Epoch 0 (after which generalization seems to suffer) with inferencing at threshold 0.99 and max length at 1024. The key difference is that it only used 2 datasets:\n",
    "    a.\"/kaggle/input/pii-detection-removal-from-educational-data/train.json\"\n",
    "    b.\"json.load(open(\"/kaggle/input/pii-mixtral8x7b-generated-essays/mpware_mixtral8x7b_v1.1-no-i-username.json\"\n",
    "    \n",
    "v22 ep2lr1e-5ds3nfr12seed421td.01td (just in case, take two epochs to confirm the drop in the LB score). This is an experiment with 3 datasets:\n",
    "    a.\"/kaggle/input/pii-dd-mistral-generated/mixtral-8x7b-v1.json\"\n",
    "    b.\"/kaggle/input/piidd-datasetsfromvalentinwernernotebook/pii_dataset_fixed.json\"\n",
    "    c.\"/kaggle/input/piidd-datasetsfromvalentinwernernotebook/moredata_dataset_fixed.json\"\n",
    "The two datasets are about the same size, and if they produce similar LB scores then I'm hoping they also make a good ensemble.\n",
    "This failed with an LB of 0.906 on epoch 1 and 0.915 on epoch 2.\n",
    "    \n",
    "Try three Epochs and include the provided data set with the moredata dataset.\n",
    "v23 ep3lr1e-5ds2nfr12seed421td.01td (just in case, take three epochs to confirm the drop in the LB score). This is an experiment with 3 datasets:\n",
    "    a. v23 ep3lr1e-5ds2mfr12seed421td.01td (just in case, take three epochs to confirm the drop in the LB score). This is an experiment with 2 datasets:\n",
    "    a.\"/kaggle/input/pii-dd-mistral-generated/mixtral-8x7b-v1.json\"\n",
    "    b.\"/kaggle/input/piidd-datasetsfromvalentinwernernotebook/moredata_dataset_fixed.json\"\n",
    "\n",
    "The base version of this notebook continues https://www.kaggle.com/code/thomasgamet/piidd-extending-large-model-starter-training except reset to \n",
    "    v21 ep5lr1e-5ds2nfr12seed421td.01td \n",
    "and the two best datasets also used with v1. The seed is also changed to 4221.\n",
    "    v0 will be ep3lr1e-5ds2nfr12seed4221td.01td believing epoch 1 or 2 will be the best\n",
    "    \n",
    "Changing the peudo random number generator's seeds made the three epochs successively improve the score from 0.947 to 0.961 suggesting that indeed we can get varied results with a bit of luck and that these results might help with an ensemble. For this reason, I'm going to build 4 epocs using a third seed, in this case 9973. \n",
    "    v1 is ep3lr1e-5ds2nfr12seed4221td.01 LBs=0.947,0.958,0.961\n",
    "    v2 is ep4lr1e-5ds2nfr12seed9973td.01 LBs=0.952,0.945,0.959,0.947\n",
    "    v3 is ep4lr1e-5ds2nfr12seed8128td.01 LBs=0.910,0.962,0.952,-\n",
    "\n",
    "Alterations were made to keep memory garbadge collected and thereafter two models were built for random seeds 8128 and 9973 using a 1024 byte TRAINING_MAX_LENGTH (increased form 720 bytes). Inferencing produced unwanted lower LB scores:\n",
    "    v5 is ep4lr1e-5ds2nfr12seed8128td.01 LBs=0.923,0.956,0.955,0.954\n",
    "    v7 is ep4lr1e-5ds2nfr12seed9973td.01 LBs=0.917,0.955\n",
    "\n",
    "Tried TRAINING_MAX_LENGTH of 1280 but it ran out of memory again (v8)\n",
    "    \n",
    "Trying to see if we smaller TRANING_MAX_LENGTH values help - long shot 512.\n",
    "    v9 is ep4lr1e-5ds2nfr12seed9973td.01 LBs=0.910-ep2LB=0.934 (stopped)\n",
    "    \n",
    "Trying with all the data in the Dataset, except in chunks no longer than 512 tokens.\n",
    "    v10 is ep4lr1e-5ds2nfr12seed9973td.01P100chn512 LBs=0.954 at ep2 (0.937 before/after)\n",
    "    \n",
    "With twice the data, concern is losing generalization (overfitting). Changing the tactic to half the learning rate and also switching up to 720 byte chunks.\n",
    "    v11 is ep4lr5e-6ds2nfr12seed9973td.01P100chn720 LBs=0.955 on ep2 and ep4 \n",
    "    \n",
    "Will retry with original lr of 1e-5 and doubling the batch sizes.\n",
    "Also, to hopefully make the cross validation more useful, increasing the split to .1\n",
    "Continuing with a chunk size of 720.\n",
    "    v12 is ep4lr1e-5ds2nfr12seed9973td.1P100chn720b4 LBs=0.961 at ep2\n",
    "    v13 is ep4lr1e-5ds2nfr12seed421td.1P100chn720b4 LBs=0.958 at ep3\n",
    "    v14 is ep4lr1e-5ds2nfr12seed8128td.1P100chn720b4 LB=0.963 at ep2\n",
    "\n",
    "Let's see if the CPU can inference with xsmall in under 2.5 hours (maybe 3.5)\n",
    "First test is with a CPU built model, minimum required to test the inference speed on CPU\n",
    "v15 ep1lr1e-5ds2nfr12seed9973td.9P100chn720b4-xs with deverta-v3-xsmall\n",
    "    Poor performance on submission set - CPU might finish on time (for private LB)\n",
    "v16 ep1lr1e-5ds2nfr12seed9973td.25P100chn720b4-xs with deverta-v3-xsmall\n",
    "    Syntax error\n",
    "v17 ep1lr1e-5ds2nfr12seed9973td.25P100chn720b4-xs with deverta-v3-xsmall\n",
    "    Horrible score - but then froze all 12 of 12 layers, retry\n",
    "v18 ep1lr1e-5ds2nfr6seed1828td.25P100chn720b4-xs with deverta-v3-xsmall\n",
    "ep3 Scored 0.985 which is good for the efficiency leaderboard, but took 3.5ish hours.\n",
    "ep2 Scored\n",
    "    \n",
    "v19 ep3lr5e-6ds2nfr6seed8128td.01P100chn720b4-xs with deverta-v3-xsmal built by CPU\n",
    "v20 ep9lr5e-6ds2nfr6seed4221td.01P100chn720b4-xs mislabeled as another v19 built by GPU\n",
    "    *v20 was also used in DirCPU v3-v9 \n",
    "    \n",
    "v21 ep6lr1e-5ds2nfr6seed4221td.05P100chn720b4-xs\n"
   ]
  },
  {
   "cell_type": "code",
   "execution_count": 1,
   "id": "196352ee",
   "metadata": {
    "_cell_guid": "b1076dfc-b9ad-4769-8c92-a6c4dae69d19",
    "_uuid": "8f2839f25d086af736a60e9eeb907d3b93b6e0e5",
    "execution": {
     "iopub.execute_input": "2024-04-07T11:41:43.200332Z",
     "iopub.status.busy": "2024-04-07T11:41:43.199948Z",
     "iopub.status.idle": "2024-04-07T11:41:43.210243Z",
     "shell.execute_reply": "2024-04-07T11:41:43.209391Z"
    },
    "papermill": {
     "duration": 0.02056,
     "end_time": "2024-04-07T11:41:43.212059",
     "exception": false,
     "start_time": "2024-04-07T11:41:43.191499",
     "status": "completed"
    },
    "tags": []
   },
   "outputs": [],
   "source": [
    "#TRAINING_MODEL_PATH = \"/kaggle/input/debertav3base\"  # your model path\n",
    "#TRAINING_MODEL_PATH = \"/kaggle/input/hf-dragon-mistral-7b-v0-8-0bpw-h8-exl2\"\n",
    "#TRAINING_MODEL_PATH = \"/kaggle/input/moritzlaurer-deberta-v3-base-zeroshot-v1-1-all-33\"\n",
    "#TRAINING_MODEL_PATH = \"/kaggle/input/huggingfacedebertav3variants/deberta-v3-large\"\n",
    "TRAINING_MODEL_PATH = \"/kaggle/input/huggingfacedebertav3variants/deberta-v3-xsmall\"\n",
    "#Warning, no large model loads.\n",
    "#Warning, no auto-gptq found for /kaggle/input/hf-martasamoilenko-quantized-falcon-1b\n",
    "#TRAINING_MODEL_PATH = \"/kaggle/input/hf-facebookai-roberta-base\"\n",
    "TRAINING_MAX_LENGTH = 720 # 768 # for hidden size , 768 was for small hidden size # 1280\n",
    "OUTPUT_DIR = 'output'  # your output path"
   ]
  },
  {
   "cell_type": "markdown",
   "id": "7dbdd165",
   "metadata": {
    "papermill": {
     "duration": 0.007422,
     "end_time": "2024-04-07T11:41:43.226654",
     "exception": false,
     "start_time": "2024-04-07T11:41:43.219232",
     "status": "completed"
    },
    "tags": []
   },
   "source": [
    "Notes on the best build before this notebook (from the original training notebook): https://www.kaggle.com/code/thomasgamet/piidd-extending-large-model-starter-training?scriptVersionId=165494821\n",
    "\n",
    "It used the same minstral used with the best builds from this notebook. Specifically, \"/kaggle/input/pii-mixtral8x7b-generated-essays/mpware_mixtral8x7b_v1.1-no-i-username.json\n",
    "\n",
    "It used random seed 421 and a train test split of 0.01\n",
    "with:\n",
    "args = TrainingArguments(\\n\",\n",
    "    \"    output_dir=OUTPUT_DIR, \\n\",\n",
    "    \"    fp16=True,\\n\",\n",
    "    \"    #warmup_steps=100,\\n\",\n",
    "    \"    learning_rate=1e-5,\\n\",\n",
    "    \"    num_train_epochs=5,\\n\",\n",
    "    \"    per_device_train_batch_size=2,\\n\",\n",
    "    \"    per_device_eval_batch_size=4,\\n\",\n",
    "    \"    report_to=\\\"none\\\",\\n\",\n",
    "    \"    evaluation_strategy=\\\"epoch\\\",\\n\",\n",
    "    \"    save_strategy=\\\"epoch\\\",\\n\",\n",
    "    \"    save_total_limit=5,\\n\",\n",
    "    \"    overwrite_output_dir=True,\\n\",\n",
    "    \"    load_best_model_at_end=False, #True,\\n\",\n",
    "    \"    lr_scheduler_type='cosine',\\n\",\n",
    "    \"    metric_for_best_model=\\\"f1\\\",\\n\",\n",
    "    \"    greater_is_better=True,\\n\",\n",
    "    \"    weight_decay=0.01\\n\",\n",
    "Epoch 1 produced the LB score of 0.965 which in hind sight is surprising and makes me wonder if it is realistic for the training parameters or if it is overfit."
   ]
  },
  {
   "cell_type": "code",
   "execution_count": 2,
   "id": "5c946889",
   "metadata": {
    "execution": {
     "iopub.execute_input": "2024-04-07T11:41:43.242199Z",
     "iopub.status.busy": "2024-04-07T11:41:43.241923Z",
     "iopub.status.idle": "2024-04-07T11:41:59.836073Z",
     "shell.execute_reply": "2024-04-07T11:41:59.835030Z"
    },
    "papermill": {
     "duration": 16.604657,
     "end_time": "2024-04-07T11:41:59.838558",
     "exception": false,
     "start_time": "2024-04-07T11:41:43.233901",
     "status": "completed"
    },
    "tags": []
   },
   "outputs": [],
   "source": [
    "!pip install seqeval evaluate -q"
   ]
  },
  {
   "cell_type": "code",
   "execution_count": 3,
   "id": "1b83dc41",
   "metadata": {
    "execution": {
     "iopub.execute_input": "2024-04-07T11:41:59.855151Z",
     "iopub.status.busy": "2024-04-07T11:41:59.854821Z",
     "iopub.status.idle": "2024-04-07T11:42:18.800944Z",
     "shell.execute_reply": "2024-04-07T11:42:18.800152Z"
    },
    "papermill": {
     "duration": 18.956943,
     "end_time": "2024-04-07T11:42:18.803251",
     "exception": false,
     "start_time": "2024-04-07T11:41:59.846308",
     "status": "completed"
    },
    "tags": []
   },
   "outputs": [
    {
     "name": "stderr",
     "output_type": "stream",
     "text": [
      "/opt/conda/lib/python3.10/site-packages/scipy/__init__.py:146: UserWarning: A NumPy version >=1.16.5 and <1.23.0 is required for this version of SciPy (detected version 1.24.3\n",
      "  warnings.warn(f\"A NumPy version >={np_minversion} and <{np_maxversion}\"\n"
     ]
    }
   ],
   "source": [
    "import json\n",
    "import argparse\n",
    "from itertools import chain\n",
    "from functools import partial\n",
    "#import os\n",
    "#os.environ[\"PYTORCH_CUDA_ALLOC_CONF\"] = \"max_split_size_mb:32\"\n",
    "\n",
    "import torch\n",
    "from transformers import AutoTokenizer, Trainer, TrainingArguments\n",
    "from transformers import AutoModelForTokenClassification, DataCollatorForTokenClassification\n",
    "import evaluate\n",
    "from datasets import Dataset, features\n",
    "import numpy as np\n",
    "\n",
    "import gc"
   ]
  },
  {
   "cell_type": "code",
   "execution_count": 4,
   "id": "d3492647",
   "metadata": {
    "execution": {
     "iopub.execute_input": "2024-04-07T11:42:18.820058Z",
     "iopub.status.busy": "2024-04-07T11:42:18.819488Z",
     "iopub.status.idle": "2024-04-07T11:42:18.825204Z",
     "shell.execute_reply": "2024-04-07T11:42:18.824376Z"
    },
    "papermill": {
     "duration": 0.01613,
     "end_time": "2024-04-07T11:42:18.827091",
     "exception": false,
     "start_time": "2024-04-07T11:42:18.810961",
     "status": "completed"
    },
    "tags": []
   },
   "outputs": [],
   "source": [
    "# Train and test split below has its own seed initialization (change that too)\n",
    "\n",
    "INITIAL_SEED = 8128\n",
    "\n",
    "# For reproducability, lock down the random seeds\n",
    "import random\n",
    "import tensorflow as tf\n",
    "import os\n",
    "\n",
    "def seed_everything(seed):\n",
    "    random.seed(seed)\n",
    "    np.random.seed(seed)\n",
    "    os.environ['PYTHONHASHSEED'] = str(seed)\n",
    "    tf.random.set_seed(seed)\n",
    "    \n",
    "seed_everything(INITIAL_SEED) # best try to make runs reproducible - can also tweak this as it affects training splits"
   ]
  },
  {
   "cell_type": "code",
   "execution_count": 5,
   "id": "7c20217c",
   "metadata": {
    "execution": {
     "iopub.execute_input": "2024-04-07T11:42:18.843032Z",
     "iopub.status.busy": "2024-04-07T11:42:18.842757Z",
     "iopub.status.idle": "2024-04-07T11:42:23.003848Z",
     "shell.execute_reply": "2024-04-07T11:42:23.002881Z"
    },
    "papermill": {
     "duration": 4.17131,
     "end_time": "2024-04-07T11:42:23.005822",
     "exception": false,
     "start_time": "2024-04-07T11:42:18.834512",
     "status": "completed"
    },
    "tags": []
   },
   "outputs": [
    {
     "name": "stdout",
     "output_type": "stream",
     "text": [
      "6807\n",
      "dict_keys(['document', 'full_text', 'tokens', 'trailing_whitespace', 'labels'])\n",
      "2692\n",
      "dict_keys(['document', 'full_text', 'tokens', 'trailing_whitespace', 'labels'])\n",
      "9499\n",
      "dict_keys(['document', 'full_text', 'tokens', 'trailing_whitespace', 'labels'])\n"
     ]
    },
    {
     "data": {
      "text/plain": [
       "120"
      ]
     },
     "execution_count": 5,
     "metadata": {},
     "output_type": "execute_result"
    }
   ],
   "source": [
    "# I learned about dataset https://www.kaggle.com/datasets/mpware/pii-mixtral8x7b-generated-essays\n",
    "# from https://www.kaggle.com/code/verracodeguacas/piing-inos\n",
    "\n",
    "import json\n",
    "\n",
    "data = json.load(open(\"/kaggle/input/pii-detection-removal-from-educational-data/train.json\"))\n",
    "data2 = json.load(open(\"/kaggle/input/pii-mixtral8x7b-generated-essays/mpware_mixtral8x7b_v1.1-no-i-username.json\"))\n",
    "#data2 = json.load(open(\"/kaggle/input/pii-dd-mistral-generated/mixtral-8x7b-v1.json\"))\n",
    "#data3 = json.load(open(\"/kaggle/input/piidd-datasetsfromvalentinwernernotebook/pii_dataset_fixed.json\"))\n",
    "#data4 = json.load(open(\"/kaggle/input/piidd-datasetsfromvalentinwernernotebook/moredata_dataset_fixed.json\"))\n",
    "#  data2 is loaded from https://www.kaggle.com/datasets/nbroad/pii-dd-mistral-generated/data\n",
    "# which is the work of NICHOLAS BROAD as also referenced by RAJA BISWAS in\n",
    "# https://www.kaggle.com/competitions/pii-detection-removal-from-educational-data/discussion/473139\n",
    "#print(len(data))\n",
    "#print(data[0].keys())\n",
    "print(len(data))\n",
    "print(data[0].keys())\n",
    "print(len(data2))\n",
    "print(data2[0].keys())\n",
    "data = data + data2 # + data3 + data4\n",
    "docnum = 1\n",
    "for docid in range(len(data)):\n",
    "    data[docid][\"document\"] = docnum\n",
    "    docnum += 1\n",
    "print(len(data))\n",
    "print(data[0].keys())\n",
    "\n",
    "del data2\n",
    "\n",
    "gc.collect()"
   ]
  },
  {
   "cell_type": "code",
   "execution_count": 6,
   "id": "f7a0b85a",
   "metadata": {
    "execution": {
     "iopub.execute_input": "2024-04-07T11:42:23.023020Z",
     "iopub.status.busy": "2024-04-07T11:42:23.022478Z",
     "iopub.status.idle": "2024-04-07T11:42:23.575775Z",
     "shell.execute_reply": "2024-04-07T11:42:23.574683Z"
    },
    "papermill": {
     "duration": 0.564673,
     "end_time": "2024-04-07T11:42:23.578218",
     "exception": false,
     "start_time": "2024-04-07T11:42:23.013545",
     "status": "completed"
    },
    "tags": []
   },
   "outputs": [
    {
     "name": "stdout",
     "output_type": "stream",
     "text": [
      "{0: 'B-EMAIL', 1: 'B-ID_NUM', 2: 'B-NAME_STUDENT', 3: 'B-PHONE_NUM', 4: 'B-STREET_ADDRESS', 5: 'B-URL_PERSONAL', 6: 'B-USERNAME', 7: 'I-ID_NUM', 8: 'I-NAME_STUDENT', 9: 'I-PHONE_NUM', 10: 'I-STREET_ADDRESS', 11: 'I-URL_PERSONAL', 12: 'O'}\n",
      "13\n"
     ]
    },
    {
     "data": {
      "text/plain": [
       "0"
      ]
     },
     "execution_count": 6,
     "metadata": {},
     "output_type": "execute_result"
    }
   ],
   "source": [
    "all_labels = sorted(list(set(chain(*[x[\"labels\"] for x in data]))))\n",
    "label2id = {l: i for i,l in enumerate(all_labels)}\n",
    "id2label = {v:k for k,v in label2id.items()}\n",
    "\n",
    "print(id2label)\n",
    "print(len(label2id))\n",
    "\n",
    "gc.collect()"
   ]
  },
  {
   "cell_type": "code",
   "execution_count": 7,
   "id": "c8b60923",
   "metadata": {
    "execution": {
     "iopub.execute_input": "2024-04-07T11:42:23.597361Z",
     "iopub.status.busy": "2024-04-07T11:42:23.596500Z",
     "iopub.status.idle": "2024-04-07T11:42:23.601015Z",
     "shell.execute_reply": "2024-04-07T11:42:23.600171Z"
    },
    "papermill": {
     "duration": 0.016482,
     "end_time": "2024-04-07T11:42:23.602977",
     "exception": false,
     "start_time": "2024-04-07T11:42:23.586495",
     "status": "completed"
    },
    "tags": []
   },
   "outputs": [],
   "source": [
    "target = [\n",
    "    'B-EMAIL', 'B-ID_NUM', 'B-NAME_STUDENT', 'B-PHONE_NUM', \n",
    "    'B-STREET_ADDRESS', 'B-URL_PERSONAL', 'B-USERNAME', 'I-ID_NUM', \n",
    "    'I-NAME_STUDENT', 'I-PHONE_NUM', 'I-STREET_ADDRESS', 'I-URL_PERSONAL'\n",
    "]"
   ]
  },
  {
   "cell_type": "code",
   "execution_count": 8,
   "id": "a2871ed2",
   "metadata": {
    "execution": {
     "iopub.execute_input": "2024-04-07T11:42:23.620177Z",
     "iopub.status.busy": "2024-04-07T11:42:23.619922Z",
     "iopub.status.idle": "2024-04-07T11:42:23.629447Z",
     "shell.execute_reply": "2024-04-07T11:42:23.628615Z"
    },
    "papermill": {
     "duration": 0.0205,
     "end_time": "2024-04-07T11:42:23.631389",
     "exception": false,
     "start_time": "2024-04-07T11:42:23.610889",
     "status": "completed"
    },
    "tags": []
   },
   "outputs": [],
   "source": [
    "def tokenize(example, tokenizer, label2id):\n",
    "    text = []\n",
    "\n",
    "    # these are at the character level\n",
    "    labels = []\n",
    "    targets = []\n",
    "\n",
    "    for t, l, ws in zip(example[\"tokens\"], example[\"provided_labels\"], example[\"trailing_whitespace\"]):\n",
    "\n",
    "        text.append(t)\n",
    "        labels.extend([l]*len(t))\n",
    "        \n",
    "        if l in target:\n",
    "            targets.append(1)\n",
    "        else:\n",
    "            targets.append(0)\n",
    "        # if there is trailing whitespace\n",
    "        if ws:\n",
    "            text.append(\" \")\n",
    "            labels.append(\"O\")\n",
    "\n",
    "    tokenized = tokenizer(\"\".join(text), return_offsets_mapping=True, truncation=True, max_length=TRAINING_MAX_LENGTH)\n",
    "    #print(\">>>>\", tokenized)\n",
    "    \n",
    "    target_num = sum(targets)\n",
    "    labels = np.array(labels)\n",
    "\n",
    "    text = \"\".join(text)\n",
    "    token_labels = []\n",
    "\n",
    "    for start_idx, end_idx in tokenized.offset_mapping:\n",
    "\n",
    "        # CLS token\n",
    "        if start_idx == 0 and end_idx == 0: \n",
    "            token_labels.append(label2id[\"O\"])\n",
    "            continue\n",
    "\n",
    "        # case when token starts with whitespace\n",
    "        if text[start_idx].isspace():\n",
    "            start_idx += 1\n",
    "\n",
    "        try:\n",
    "            token_labels.append(label2id[labels[start_idx]])\n",
    "        except:\n",
    "            pass\n",
    "        \n",
    "    length = len(tokenized.input_ids)\n",
    "\n",
    "    return {\n",
    "        **tokenized,\n",
    "        \"labels\": token_labels,\n",
    "        \"length\": length,\n",
    "        \"target_num\": target_num,\n",
    "        \"group\": 1 if target_num>0 else 0\n",
    "    }"
   ]
  },
  {
   "cell_type": "code",
   "execution_count": 9,
   "id": "4561e867",
   "metadata": {
    "execution": {
     "iopub.execute_input": "2024-04-07T11:42:23.648332Z",
     "iopub.status.busy": "2024-04-07T11:42:23.648032Z",
     "iopub.status.idle": "2024-04-07T11:42:28.859633Z",
     "shell.execute_reply": "2024-04-07T11:42:28.858682Z"
    },
    "papermill": {
     "duration": 5.222034,
     "end_time": "2024-04-07T11:42:28.861534",
     "exception": false,
     "start_time": "2024-04-07T11:42:23.639500",
     "status": "completed"
    },
    "tags": []
   },
   "outputs": [
    {
     "name": "stderr",
     "output_type": "stream",
     "text": [
      "/opt/conda/lib/python3.10/site-packages/transformers/convert_slow_tokenizer.py:473: UserWarning: The sentencepiece tokenizer that you are converting to a fast tokenizer uses the byte fallback option which is not implemented in the fast tokenizers. In practice this means that the fast version of the tokenizer can produce unknown tokens whereas the sentencepiece version would have converted these unknown tokens into a sequence of byte tokens matching the original piece of text.\n",
      "  warnings.warn(\n"
     ]
    },
    {
     "name": "stdout",
     "output_type": "stream",
     "text": [
      "14650\n"
     ]
    },
    {
     "data": {
      "text/plain": [
       "3"
      ]
     },
     "execution_count": 9,
     "metadata": {},
     "output_type": "execute_result"
    }
   ],
   "source": [
    "tokenizer = AutoTokenizer.from_pretrained(TRAINING_MODEL_PATH)\n",
    "\n",
    "gc.collect()\n",
    "\n",
    "def chunk_document(doc):\n",
    "    # This function breaks a document into chunks of MAX_TOKENS\n",
    "    # Each chunk includes tokens, trailing_whitespace, and prepared_labels\n",
    "    chunks = []\n",
    "    for i in range(0, len(doc[\"tokens\"]), TRAINING_MAX_LENGTH):\n",
    "        chunk = {\n",
    "            \"tokens\": doc[\"tokens\"][i:i + TRAINING_MAX_LENGTH],\n",
    "            \"trailing_whitespace\": doc[\"trailing_whitespace\"][i:i + TRAINING_MAX_LENGTH],\n",
    "            \"provided_labels\": doc[\"labels\"][i:i + TRAINING_MAX_LENGTH]\n",
    "        }\n",
    "        chunks.append(chunk)\n",
    "    return chunks\n",
    "\n",
    "# Apply chunking to each document and flatten the list of lists\n",
    "chunked_data = [chunk for doc in data for chunk in chunk_document(doc)]\n",
    "\n",
    "# Load the chunked data into the Dataset\n",
    "ds = Dataset.from_dict({\n",
    "    \"tokens\": [x[\"tokens\"] for x in chunked_data],\n",
    "    \"trailing_whitespace\": [x[\"trailing_whitespace\"] for x in chunked_data],\n",
    "    \"provided_labels\": [x[\"provided_labels\"] for x in chunked_data],\n",
    "})\n",
    "\n",
    "print(len(ds))\n",
    "gc.collect()"
   ]
  },
  {
   "cell_type": "markdown",
   "id": "e571cf80",
   "metadata": {
    "execution": {
     "iopub.execute_input": "2024-03-29T02:37:38.323065Z",
     "iopub.status.busy": "2024-03-29T02:37:38.322201Z",
     "iopub.status.idle": "2024-03-29T02:37:43.813406Z",
     "shell.execute_reply": "2024-03-29T02:37:43.812342Z",
     "shell.execute_reply.started": "2024-03-29T02:37:38.323030Z"
    },
    "papermill": {
     "duration": 0.007958,
     "end_time": "2024-04-07T11:42:28.877663",
     "exception": false,
     "start_time": "2024-04-07T11:42:28.869705",
     "status": "completed"
    },
    "tags": []
   },
   "source": [
    "# Original Dataset preparation marked down \n",
    "\n",
    "tokenizer = AutoTokenizer.from_pretrained(TRAINING_MODEL_PATH)\n",
    "\n",
    "gc.collect()\n",
    "\n",
    "ds = Dataset.from_dict({\n",
    "    \"full_text\": [x[\"full_text\"] for x in data],\n",
    "    \"document\": [x[\"document\"] for x in data],\n",
    "    \"tokens\": [x[\"tokens\"] for x in data],\n",
    "    \"trailing_whitespace\": [x[\"trailing_whitespace\"] for x in data],\n",
    "    \"provided_labels\": [x[\"labels\"] for x in data],\n",
    "})\n",
    "print(len(ds))\n",
    "gc.collect()"
   ]
  },
  {
   "cell_type": "code",
   "execution_count": 10,
   "id": "19c2cb02",
   "metadata": {
    "execution": {
     "iopub.execute_input": "2024-04-07T11:42:28.895142Z",
     "iopub.status.busy": "2024-04-07T11:42:28.894820Z",
     "iopub.status.idle": "2024-04-07T11:52:02.017326Z",
     "shell.execute_reply": "2024-04-07T11:52:02.016210Z"
    },
    "papermill": {
     "duration": 573.133373,
     "end_time": "2024-04-07T11:52:02.019255",
     "exception": false,
     "start_time": "2024-04-07T11:42:28.885882",
     "status": "completed"
    },
    "tags": []
   },
   "outputs": [
    {
     "data": {
      "application/vnd.jupyter.widget-view+json": {
       "model_id": "a5fca91a6a4b454396c34cfed72e1692",
       "version_major": 2,
       "version_minor": 0
      },
      "text/plain": [
       "  0%|          | 0/14650 [00:00<?, ?ex/s]"
      ]
     },
     "metadata": {},
     "output_type": "display_data"
    },
    {
     "name": "stdout",
     "output_type": "stream",
     "text": [
      "14650\n"
     ]
    },
    {
     "data": {
      "application/vnd.jupyter.widget-view+json": {
       "model_id": "09a81954e9ba42cd9c063722db0fab2f",
       "version_major": 2,
       "version_minor": 0
      },
      "text/plain": [
       "Stringifying the column:   0%|          | 0/15 [00:00<?, ?ba/s]"
      ]
     },
     "metadata": {},
     "output_type": "display_data"
    },
    {
     "data": {
      "application/vnd.jupyter.widget-view+json": {
       "model_id": "4bcc0359e2844744946efa59384f3d94",
       "version_major": 2,
       "version_minor": 0
      },
      "text/plain": [
       "Casting to class labels:   0%|          | 0/15 [00:00<?, ?ba/s]"
      ]
     },
     "metadata": {},
     "output_type": "display_data"
    },
    {
     "data": {
      "application/vnd.jupyter.widget-view+json": {
       "model_id": "4a8d168ef1ff43458528a686851800eb",
       "version_major": 2,
       "version_minor": 0
      },
      "text/plain": [
       "Casting the dataset:   0%|          | 0/2 [00:00<?, ?ba/s]"
      ]
     },
     "metadata": {},
     "output_type": "display_data"
    },
    {
     "name": "stdout",
     "output_type": "stream",
     "text": [
      "CPU times: user 9min 28s, sys: 5.44 s, total: 9min 34s\n",
      "Wall time: 9min 33s\n"
     ]
    },
    {
     "data": {
      "text/plain": [
       "26"
      ]
     },
     "execution_count": 10,
     "metadata": {},
     "output_type": "execute_result"
    }
   ],
   "source": [
    "%%time\n",
    "ds = ds.map(tokenize, fn_kwargs={\"tokenizer\": tokenizer, \"label2id\": label2id}, num_proc=1)\n",
    "print(len(ds))\n",
    "gc.collect()\n",
    "ds = ds.class_encode_column(\"group\")\n",
    "gc.collect()"
   ]
  },
  {
   "cell_type": "code",
   "execution_count": 11,
   "id": "6554e5f9",
   "metadata": {
    "execution": {
     "iopub.execute_input": "2024-04-07T11:52:02.038933Z",
     "iopub.status.busy": "2024-04-07T11:52:02.038640Z",
     "iopub.status.idle": "2024-04-07T11:52:03.256636Z",
     "shell.execute_reply": "2024-04-07T11:52:03.255623Z"
    },
    "papermill": {
     "duration": 1.230114,
     "end_time": "2024-04-07T11:52:03.258617",
     "exception": false,
     "start_time": "2024-04-07T11:52:02.028503",
     "status": "completed"
    },
    "tags": []
   },
   "outputs": [
    {
     "name": "stdout",
     "output_type": "stream",
     "text": [
      "('Nathalie', 'B-NAME_STUDENT')\n",
      "('Sylla', 'I-NAME_STUDENT')\n",
      "('Nathalie', 'B-NAME_STUDENT')\n",
      "('Sylla', 'I-NAME_STUDENT')\n",
      "****************************************************************************************************\n",
      "('N', 'B-NAME_STUDENT')\n",
      "('atha', 'B-NAME_STUDENT')\n",
      "('lie', 'B-NAME_STUDENT')\n",
      "('▁S', 'I-NAME_STUDENT')\n",
      "('ylla', 'I-NAME_STUDENT')\n",
      "('N', 'B-NAME_STUDENT')\n",
      "('atha', 'B-NAME_STUDENT')\n",
      "('lie', 'B-NAME_STUDENT')\n",
      "('▁S', 'I-NAME_STUDENT')\n",
      "('ylla', 'I-NAME_STUDENT')\n"
     ]
    },
    {
     "data": {
      "text/plain": [
       "0"
      ]
     },
     "execution_count": 11,
     "metadata": {},
     "output_type": "execute_result"
    }
   ],
   "source": [
    "x = ds[0]\n",
    "\n",
    "for t,l in zip(x[\"tokens\"], x[\"provided_labels\"]):\n",
    "    if l != \"O\":\n",
    "        print((t,l))\n",
    "\n",
    "print(\"*\"*100)\n",
    "gc.collect()\n",
    "\n",
    "for t, l in zip(tokenizer.convert_ids_to_tokens(x[\"input_ids\"]), x[\"labels\"]):\n",
    "    if id2label[l] != \"O\":\n",
    "        print((t,id2label[l]))\n",
    "\n",
    "gc.collect()"
   ]
  },
  {
   "cell_type": "markdown",
   "id": "6fcd5ffb",
   "metadata": {
    "papermill": {
     "duration": 0.009324,
     "end_time": "2024-04-07T11:52:03.277571",
     "exception": false,
     "start_time": "2024-04-07T11:52:03.268247",
     "status": "completed"
    },
    "tags": []
   },
   "source": [
    "Minstral reported the following before stopping on the MinstralConfig not being supported:\n",
    "('Nathalie', 'B-NAME_STUDENT')\n",
    "('Sylla', 'I-NAME_STUDENT')\n",
    "('Nathalie', 'B-NAME_STUDENT')\n",
    "('Sylla', 'I-NAME_STUDENT')\n",
    "('Nathalie', 'B-NAME_STUDENT')\n",
    "('Sylla', 'I-NAME_STUDENT')\n",
    "****************************************************************************************************\n",
    "('N', 'B-NAME_STUDENT')\n",
    "('ath', 'B-NAME_STUDENT')\n",
    "('alie', 'B-NAME_STUDENT')\n",
    "('▁Sy', 'I-NAME_STUDENT')\n",
    "('lla', 'I-NAME_STUDENT')\n",
    "('N', 'B-NAME_STUDENT')\n",
    "('ath', 'B-NAME_STUDENT')\n",
    "('alie', 'B-NAME_STUDENT')\n",
    "('▁Sy', 'I-NAME_STUDENT')\n",
    "('lla', 'I-NAME_STUDENT')"
   ]
  },
  {
   "cell_type": "markdown",
   "id": "c7c734c5",
   "metadata": {
    "papermill": {
     "duration": 0.009127,
     "end_time": "2024-04-07T11:52:03.295866",
     "exception": false,
     "start_time": "2024-04-07T11:52:03.286739",
     "status": "completed"
    },
    "tags": []
   },
   "source": [
    "## competition metrics"
   ]
  },
  {
   "cell_type": "code",
   "execution_count": 12,
   "id": "09cc4e58",
   "metadata": {
    "execution": {
     "iopub.execute_input": "2024-04-07T11:52:03.315643Z",
     "iopub.status.busy": "2024-04-07T11:52:03.315353Z",
     "iopub.status.idle": "2024-04-07T11:52:03.335773Z",
     "shell.execute_reply": "2024-04-07T11:52:03.335050Z"
    },
    "papermill": {
     "duration": 0.032588,
     "end_time": "2024-04-07T11:52:03.337658",
     "exception": false,
     "start_time": "2024-04-07T11:52:03.305070",
     "status": "completed"
    },
    "tags": []
   },
   "outputs": [],
   "source": [
    "from seqeval.metrics import recall_score, precision_score\n",
    "from seqeval.metrics import classification_report\n",
    "from seqeval.metrics import f1_score\n",
    "\n",
    "def compute_metrics(p, all_labels):\n",
    "    predictions, labels = p\n",
    "    predictions = np.argmax(predictions, axis=2)\n",
    "\n",
    "    # Remove ignored index (special tokens)\n",
    "    true_predictions = [\n",
    "        [all_labels[p] for (p, l) in zip(prediction, label) if l != -100]\n",
    "        for prediction, label in zip(predictions, labels)\n",
    "    ]\n",
    "    true_labels = [\n",
    "        [all_labels[l] for (p, l) in zip(prediction, label) if l != -100]\n",
    "        for prediction, label in zip(predictions, labels)\n",
    "    ]\n",
    "    \n",
    "    recall = recall_score(true_labels, true_predictions)\n",
    "    precision = precision_score(true_labels, true_predictions)\n",
    "    f1_score = (1 + 5*5) * recall * precision / (5*5*precision + recall)\n",
    "    \n",
    "    results = {\n",
    "        'recall': recall,\n",
    "        'precision': precision,\n",
    "        'f1': f1_score\n",
    "    }\n",
    "    gc.collect()\n",
    "    return results"
   ]
  },
  {
   "cell_type": "code",
   "execution_count": 13,
   "id": "63fcf5e9",
   "metadata": {
    "execution": {
     "iopub.execute_input": "2024-04-07T11:52:03.357489Z",
     "iopub.status.busy": "2024-04-07T11:52:03.357169Z",
     "iopub.status.idle": "2024-04-07T11:52:08.055024Z",
     "shell.execute_reply": "2024-04-07T11:52:08.054125Z"
    },
    "papermill": {
     "duration": 4.71043,
     "end_time": "2024-04-07T11:52:08.057206",
     "exception": false,
     "start_time": "2024-04-07T11:52:03.346776",
     "status": "completed"
    },
    "tags": []
   },
   "outputs": [
    {
     "name": "stderr",
     "output_type": "stream",
     "text": [
      "Some weights of DebertaV2ForTokenClassification were not initialized from the model checkpoint at /kaggle/input/huggingfacedebertav3variants/deberta-v3-xsmall and are newly initialized: ['classifier.bias', 'classifier.weight']\n",
      "You should probably TRAIN this model on a down-stream task to be able to use it for predictions and inference.\n"
     ]
    },
    {
     "data": {
      "text/plain": [
       "0"
      ]
     },
     "execution_count": 13,
     "metadata": {},
     "output_type": "execute_result"
    }
   ],
   "source": [
    "model = AutoModelForTokenClassification.from_pretrained(\n",
    "    TRAINING_MODEL_PATH,\n",
    "    num_labels=len(all_labels),\n",
    "    id2label=id2label,\n",
    "    label2id=label2id,\n",
    "    ignore_mismatched_sizes=True\n",
    ")\n",
    "gc.collect()\n",
    "collator = DataCollatorForTokenClassification(tokenizer, pad_to_multiple_of=16)\n",
    "gc.collect()"
   ]
  },
  {
   "cell_type": "markdown",
   "id": "5063596a",
   "metadata": {
    "papermill": {
     "duration": 0.009687,
     "end_time": "2024-04-07T11:52:08.077038",
     "exception": false,
     "start_time": "2024-04-07T11:52:08.067351",
     "status": "completed"
    },
    "tags": []
   },
   "source": [
    "Reminder:\n",
    "\n",
    "Unrecognized configuration class <class 'transformers.models.mistral.configuration_mistral.MistralConfig'> for this kind of AutoModel: AutoModelForTokenClassification.\n",
    "Model type should be one of AlbertConfig, BertConfig, BigBirdConfig, BioGptConfig, BloomConfig, BrosConfig, CamembertConfig, CanineConfig, ConvBertConfig, Data2VecTextConfig, DebertaConfig, DebertaV2Config, DistilBertConfig, ElectraConfig, ErnieConfig, ErnieMConfig, EsmConfig, FalconConfig, FlaubertConfig, FNetConfig, FunnelConfig, GPT2Config, GPT2Config, GPTBigCodeConfig, GPTNeoConfig, GPTNeoXConfig, IBertConfig, LayoutLMConfig, LayoutLMv2Config, LayoutLMv3Config, LiltConfig, LongformerConfig, LukeConfig, MarkupLMConfig, MegaConfig, MegatronBertConfig, MobileBertConfig, MPNetConfig, MptConfig, MraConfig, NezhaConfig, NystromformerConfig, PhiConfig, QDQBertConfig, RemBertConfig, RobertaConfig, RobertaPreLayerNormConfig, RoCBertConfig, RoFormerConfig, SqueezeBertConfig, XLMConfig, XLMRobertaConfig, XLMRobertaXLConfig, XLNetConfig, XmodConfig, YosoConfig."
   ]
  },
  {
   "cell_type": "code",
   "execution_count": 14,
   "id": "49a22418",
   "metadata": {
    "execution": {
     "iopub.execute_input": "2024-04-07T11:52:08.097373Z",
     "iopub.status.busy": "2024-04-07T11:52:08.096930Z",
     "iopub.status.idle": "2024-04-07T11:52:08.104470Z",
     "shell.execute_reply": "2024-04-07T11:52:08.103378Z"
    },
    "papermill": {
     "duration": 0.020102,
     "end_time": "2024-04-07T11:52:08.106524",
     "exception": false,
     "start_time": "2024-04-07T11:52:08.086422",
     "status": "completed"
    },
    "tags": []
   },
   "outputs": [
    {
     "name": "stdout",
     "output_type": "stream",
     "text": [
      "Freezing 6 layers.\n"
     ]
    }
   ],
   "source": [
    "FREEZE_EMBEDDINGS = False\n",
    "FREEZE_LAYERS = 6 # 12 # 6 of 12 layers per the model's config base, and 12 of 24 for large\n",
    "\n",
    "if FREEZE_EMBEDDINGS:\n",
    "    print('Freezing embeddings.')\n",
    "    #for param in model.deberta.embeddings.parameters():\n",
    "    for param in model.deberta.embeddings.parameters():\n",
    "        param.requires_grad = False\n",
    "        \n",
    "if FREEZE_LAYERS>0:\n",
    "    print(f'Freezing {FREEZE_LAYERS} layers.')\n",
    "    #for layer in model.deberta.encoder.layer[:FREEZE_LAYERS]:\n",
    "    for layer in model.deberta.encoder.layer[:FREEZE_LAYERS]:\n",
    "        for param in layer.parameters():\n",
    "            param.requires_grad = False"
   ]
  },
  {
   "cell_type": "code",
   "execution_count": 15,
   "id": "7320ad39",
   "metadata": {
    "execution": {
     "iopub.execute_input": "2024-04-07T11:52:08.126669Z",
     "iopub.status.busy": "2024-04-07T11:52:08.126402Z",
     "iopub.status.idle": "2024-04-07T11:52:08.752111Z",
     "shell.execute_reply": "2024-04-07T11:52:08.751259Z"
    },
    "papermill": {
     "duration": 0.63801,
     "end_time": "2024-04-07T11:52:08.754069",
     "exception": false,
     "start_time": "2024-04-07T11:52:08.116059",
     "status": "completed"
    },
    "tags": []
   },
   "outputs": [
    {
     "data": {
      "text/plain": [
       "DatasetDict({\n",
       "    train: Dataset({\n",
       "        features: ['tokens', 'trailing_whitespace', 'provided_labels', 'input_ids', 'token_type_ids', 'attention_mask', 'offset_mapping', 'labels', 'length', 'target_num', 'group'],\n",
       "        num_rows: 13917\n",
       "    })\n",
       "    test: Dataset({\n",
       "        features: ['tokens', 'trailing_whitespace', 'provided_labels', 'input_ids', 'token_type_ids', 'attention_mask', 'offset_mapping', 'labels', 'length', 'target_num', 'group'],\n",
       "        num_rows: 733\n",
       "    })\n",
       "})"
      ]
     },
     "execution_count": 15,
     "metadata": {},
     "output_type": "execute_result"
    }
   ],
   "source": [
    "# may want to try to balance classes in splits\n",
    "gc.collect()\n",
    "final_ds = ds.train_test_split(test_size=0.05, seed=INITIAL_SEED) # cannot use stratify_by_column='group'\n",
    "final_ds"
   ]
  },
  {
   "cell_type": "markdown",
   "id": "6efbd49d",
   "metadata": {
    "papermill": {
     "duration": 0.009735,
     "end_time": "2024-04-07T11:52:08.773933",
     "exception": false,
     "start_time": "2024-04-07T11:52:08.764198",
     "status": "completed"
    },
    "tags": []
   },
   "source": [
    "## training"
   ]
  },
  {
   "cell_type": "markdown",
   "id": "2d92b3ab",
   "metadata": {
    "papermill": {
     "duration": 0.009469,
     "end_time": "2024-04-07T11:52:08.793066",
     "exception": false,
     "start_time": "2024-04-07T11:52:08.783597",
     "status": "completed"
    },
    "tags": []
   },
   "source": [
    "from sklearn.metrics import precision_recall_fscore_support\n",
    "\n",
    "def f5_score(y_true, y_pred):\n",
    "    precision, recall, f_beta, _ = precision_recall_fscore_support(y_true, y_pred, beta=5, average='macro')\n",
    "    return f_beta\n",
    "\n",
    "def compute_metrics(eval_pred):\n",
    "    logits, labels = eval_pred\n",
    "    predictions = np.argmax(logits, axis=-1)\n",
    "    return {\"f5_score\": f5_score(labels, predictions)}"
   ]
  },
  {
   "cell_type": "code",
   "execution_count": 16,
   "id": "2493c723",
   "metadata": {
    "execution": {
     "iopub.execute_input": "2024-04-07T11:52:08.813558Z",
     "iopub.status.busy": "2024-04-07T11:52:08.813261Z",
     "iopub.status.idle": "2024-04-07T11:52:10.322714Z",
     "shell.execute_reply": "2024-04-07T11:52:10.321780Z"
    },
    "papermill": {
     "duration": 1.52208,
     "end_time": "2024-04-07T11:52:10.324758",
     "exception": false,
     "start_time": "2024-04-07T11:52:08.802678",
     "status": "completed"
    },
    "tags": []
   },
   "outputs": [
    {
     "data": {
      "text/plain": [
       "30"
      ]
     },
     "execution_count": 16,
     "metadata": {},
     "output_type": "execute_result"
    }
   ],
   "source": [
    "args = TrainingArguments(\n",
    "    output_dir=OUTPUT_DIR, \n",
    "    fp16=True,\n",
    "    #warmup_steps=100,\n",
    "    learning_rate=1e-5,\n",
    "    num_train_epochs=6, #4,\n",
    "    per_device_train_batch_size=4,\n",
    "    per_device_eval_batch_size=8,\n",
    "    report_to=\"none\",\n",
    "    evaluation_strategy=\"epoch\",\n",
    "    save_strategy=\"epoch\",\n",
    "    save_total_limit=6,\n",
    "    overwrite_output_dir=True,\n",
    "    load_best_model_at_end=False, #True,\n",
    "    lr_scheduler_type='cosine',\n",
    "    metric_for_best_model=\"f1\",\n",
    "    greater_is_better=True,\n",
    "    weight_decay=0.01\n",
    ")\n",
    "gc.collect()\n",
    "trainer = Trainer(\n",
    "    model=model, \n",
    "    args=args, \n",
    "    train_dataset=final_ds[\"train\"], \n",
    "    eval_dataset=final_ds[\"test\"], \n",
    "    data_collator=collator, \n",
    "    tokenizer=tokenizer,\n",
    "    #compute_metrics=compute_metrics,\n",
    "    compute_metrics=partial(compute_metrics, all_labels=all_labels),\n",
    ")\n",
    "gc.collect()"
   ]
  },
  {
   "cell_type": "code",
   "execution_count": 17,
   "id": "3895e871",
   "metadata": {
    "execution": {
     "iopub.execute_input": "2024-04-07T11:52:10.346512Z",
     "iopub.status.busy": "2024-04-07T11:52:10.345783Z",
     "iopub.status.idle": "2024-04-07T13:15:30.797725Z",
     "shell.execute_reply": "2024-04-07T13:15:30.796784Z"
    },
    "papermill": {
     "duration": 5000.464922,
     "end_time": "2024-04-07T13:15:30.799672",
     "exception": false,
     "start_time": "2024-04-07T11:52:10.334750",
     "status": "completed"
    },
    "tags": []
   },
   "outputs": [
    {
     "name": "stderr",
     "output_type": "stream",
     "text": [
      "You're using a DebertaV2TokenizerFast tokenizer. Please note that with a fast tokenizer, using the `__call__` method is faster than using a method to encode the text followed by a call to the `pad` method to get a padded encoding.\n"
     ]
    },
    {
     "data": {
      "text/html": [
       "\n",
       "    <div>\n",
       "      \n",
       "      <progress value='20880' max='20880' style='width:300px; height:20px; vertical-align: middle;'></progress>\n",
       "      [20880/20880 1:23:18, Epoch 6/6]\n",
       "    </div>\n",
       "    <table border=\"1\" class=\"dataframe\">\n",
       "  <thead>\n",
       " <tr style=\"text-align: left;\">\n",
       "      <th>Epoch</th>\n",
       "      <th>Training Loss</th>\n",
       "      <th>Validation Loss</th>\n",
       "      <th>Recall</th>\n",
       "      <th>Precision</th>\n",
       "      <th>F1</th>\n",
       "    </tr>\n",
       "  </thead>\n",
       "  <tbody>\n",
       "    <tr>\n",
       "      <td>1</td>\n",
       "      <td>0.006000</td>\n",
       "      <td>0.004996</td>\n",
       "      <td>0.890147</td>\n",
       "      <td>0.858391</td>\n",
       "      <td>0.888882</td>\n",
       "    </tr>\n",
       "    <tr>\n",
       "      <td>2</td>\n",
       "      <td>0.002700</td>\n",
       "      <td>0.002487</td>\n",
       "      <td>0.954322</td>\n",
       "      <td>0.931810</td>\n",
       "      <td>0.953436</td>\n",
       "    </tr>\n",
       "    <tr>\n",
       "      <td>3</td>\n",
       "      <td>0.001600</td>\n",
       "      <td>0.001996</td>\n",
       "      <td>0.963760</td>\n",
       "      <td>0.945906</td>\n",
       "      <td>0.963061</td>\n",
       "    </tr>\n",
       "    <tr>\n",
       "      <td>4</td>\n",
       "      <td>0.001000</td>\n",
       "      <td>0.001850</td>\n",
       "      <td>0.964892</td>\n",
       "      <td>0.953731</td>\n",
       "      <td>0.964458</td>\n",
       "    </tr>\n",
       "    <tr>\n",
       "      <td>5</td>\n",
       "      <td>0.001000</td>\n",
       "      <td>0.001812</td>\n",
       "      <td>0.967535</td>\n",
       "      <td>0.954918</td>\n",
       "      <td>0.967043</td>\n",
       "    </tr>\n",
       "    <tr>\n",
       "      <td>6</td>\n",
       "      <td>0.000800</td>\n",
       "      <td>0.001836</td>\n",
       "      <td>0.966402</td>\n",
       "      <td>0.956652</td>\n",
       "      <td>0.966024</td>\n",
       "    </tr>\n",
       "  </tbody>\n",
       "</table><p>"
      ],
      "text/plain": [
       "<IPython.core.display.HTML object>"
      ]
     },
     "metadata": {},
     "output_type": "display_data"
    },
    {
     "name": "stdout",
     "output_type": "stream",
     "text": [
      "CPU times: user 1h 18min 27s, sys: 4min 59s, total: 1h 23min 27s\n",
      "Wall time: 1h 23min 20s\n"
     ]
    },
    {
     "data": {
      "text/plain": [
       "TrainOutput(global_step=20880, training_loss=0.008185092964962525, metrics={'train_runtime': 4999.8247, 'train_samples_per_second': 16.701, 'train_steps_per_second': 4.176, 'total_flos': 7330054563215904.0, 'train_loss': 0.008185092964962525, 'epoch': 6.0})"
      ]
     },
     "execution_count": 17,
     "metadata": {},
     "output_type": "execute_result"
    }
   ],
   "source": [
    "%%time\n",
    "trainer.train()"
   ]
  },
  {
   "cell_type": "code",
   "execution_count": 18,
   "id": "65f9ce8f",
   "metadata": {
    "execution": {
     "iopub.execute_input": "2024-04-07T13:15:30.822081Z",
     "iopub.status.busy": "2024-04-07T13:15:30.821777Z",
     "iopub.status.idle": "2024-04-07T13:15:31.609714Z",
     "shell.execute_reply": "2024-04-07T13:15:31.608676Z"
    },
    "papermill": {
     "duration": 0.801909,
     "end_time": "2024-04-07T13:15:31.611991",
     "exception": false,
     "start_time": "2024-04-07T13:15:30.810082",
     "status": "completed"
    },
    "tags": []
   },
   "outputs": [],
   "source": [
    "trainer.save_model(OUTPUT_DIR)\n",
    "torch.cuda.empty_cache()"
   ]
  }
 ],
 "metadata": {
  "kaggle": {
   "accelerator": "gpu",
   "dataSources": [
    {
     "databundleVersionId": 7500999,
     "sourceId": 66653,
     "sourceType": "competition"
    },
    {
     "datasetId": 2663421,
     "sourceId": 4620664,
     "sourceType": "datasetVersion"
    },
    {
     "datasetId": 4379849,
     "sourceId": 7518925,
     "sourceType": "datasetVersion"
    },
    {
     "datasetId": 4459964,
     "sourceId": 7659420,
     "sourceType": "datasetVersion"
    },
    {
     "datasetId": 4490118,
     "sourceId": 7693446,
     "sourceType": "datasetVersion"
    }
   ],
   "dockerImageVersionId": 30636,
   "isGpuEnabled": true,
   "isInternetEnabled": true,
   "language": "python",
   "sourceType": "notebook"
  },
  "kernelspec": {
   "display_name": "Python 3",
   "language": "python",
   "name": "python3"
  },
  "language_info": {
   "codemirror_mode": {
    "name": "ipython",
    "version": 3
   },
   "file_extension": ".py",
   "mimetype": "text/x-python",
   "name": "python",
   "nbconvert_exporter": "python",
   "pygments_lexer": "ipython3",
   "version": "3.10.12"
  },
  "papermill": {
   "default_parameters": {},
   "duration": 5634.506631,
   "end_time": "2024-04-07T13:15:34.354340",
   "environment_variables": {},
   "exception": null,
   "input_path": "__notebook__.ipynb",
   "output_path": "__notebook__.ipynb",
   "parameters": {},
   "start_time": "2024-04-07T11:41:39.847709",
   "version": "2.4.0"
  },
  "widgets": {
   "application/vnd.jupyter.widget-state+json": {
    "state": {
     "0867547eb3d246fb996a6a482cb7597d": {
      "model_module": "@jupyter-widgets/controls",
      "model_module_version": "1.5.0",
      "model_name": "DescriptionStyleModel",
      "state": {
       "_model_module": "@jupyter-widgets/controls",
       "_model_module_version": "1.5.0",
       "_model_name": "DescriptionStyleModel",
       "_view_count": null,
       "_view_module": "@jupyter-widgets/base",
       "_view_module_version": "1.2.0",
       "_view_name": "StyleView",
       "description_width": ""
      }
     },
     "087215c5c44b4e148a7cdbdf1be916f3": {
      "model_module": "@jupyter-widgets/base",
      "model_module_version": "1.2.0",
      "model_name": "LayoutModel",
      "state": {
       "_model_module": "@jupyter-widgets/base",
       "_model_module_version": "1.2.0",
       "_model_name": "LayoutModel",
       "_view_count": null,
       "_view_module": "@jupyter-widgets/base",
       "_view_module_version": "1.2.0",
       "_view_name": "LayoutView",
       "align_content": null,
       "align_items": null,
       "align_self": null,
       "border": null,
       "bottom": null,
       "display": null,
       "flex": null,
       "flex_flow": null,
       "grid_area": null,
       "grid_auto_columns": null,
       "grid_auto_flow": null,
       "grid_auto_rows": null,
       "grid_column": null,
       "grid_gap": null,
       "grid_row": null,
       "grid_template_areas": null,
       "grid_template_columns": null,
       "grid_template_rows": null,
       "height": null,
       "justify_content": null,
       "justify_items": null,
       "left": null,
       "margin": null,
       "max_height": null,
       "max_width": null,
       "min_height": null,
       "min_width": null,
       "object_fit": null,
       "object_position": null,
       "order": null,
       "overflow": null,
       "overflow_x": null,
       "overflow_y": null,
       "padding": null,
       "right": null,
       "top": null,
       "visibility": null,
       "width": null
      }
     },
     "09a81954e9ba42cd9c063722db0fab2f": {
      "model_module": "@jupyter-widgets/controls",
      "model_module_version": "1.5.0",
      "model_name": "HBoxModel",
      "state": {
       "_dom_classes": [],
       "_model_module": "@jupyter-widgets/controls",
       "_model_module_version": "1.5.0",
       "_model_name": "HBoxModel",
       "_view_count": null,
       "_view_module": "@jupyter-widgets/controls",
       "_view_module_version": "1.5.0",
       "_view_name": "HBoxView",
       "box_style": "",
       "children": [
        "IPY_MODEL_222f8c8815e6494597a2c84eea0a8e04",
        "IPY_MODEL_80c8ac93c59b4789a2de3016e549a0c6",
        "IPY_MODEL_ed255ceb04274063bde5e690009871b8"
       ],
       "layout": "IPY_MODEL_dbe0094a2efc4a4fa53e83ef5d24afd8"
      }
     },
     "1362f9fb697349c48d7a2fa3b6fa7814": {
      "model_module": "@jupyter-widgets/controls",
      "model_module_version": "1.5.0",
      "model_name": "DescriptionStyleModel",
      "state": {
       "_model_module": "@jupyter-widgets/controls",
       "_model_module_version": "1.5.0",
       "_model_name": "DescriptionStyleModel",
       "_view_count": null,
       "_view_module": "@jupyter-widgets/base",
       "_view_module_version": "1.2.0",
       "_view_name": "StyleView",
       "description_width": ""
      }
     },
     "13923b6ea49e439f8ba91ded9a9ec11b": {
      "model_module": "@jupyter-widgets/controls",
      "model_module_version": "1.5.0",
      "model_name": "DescriptionStyleModel",
      "state": {
       "_model_module": "@jupyter-widgets/controls",
       "_model_module_version": "1.5.0",
       "_model_name": "DescriptionStyleModel",
       "_view_count": null,
       "_view_module": "@jupyter-widgets/base",
       "_view_module_version": "1.2.0",
       "_view_name": "StyleView",
       "description_width": ""
      }
     },
     "149a17b154a44f1f8df581170bdaca58": {
      "model_module": "@jupyter-widgets/base",
      "model_module_version": "1.2.0",
      "model_name": "LayoutModel",
      "state": {
       "_model_module": "@jupyter-widgets/base",
       "_model_module_version": "1.2.0",
       "_model_name": "LayoutModel",
       "_view_count": null,
       "_view_module": "@jupyter-widgets/base",
       "_view_module_version": "1.2.0",
       "_view_name": "LayoutView",
       "align_content": null,
       "align_items": null,
       "align_self": null,
       "border": null,
       "bottom": null,
       "display": null,
       "flex": null,
       "flex_flow": null,
       "grid_area": null,
       "grid_auto_columns": null,
       "grid_auto_flow": null,
       "grid_auto_rows": null,
       "grid_column": null,
       "grid_gap": null,
       "grid_row": null,
       "grid_template_areas": null,
       "grid_template_columns": null,
       "grid_template_rows": null,
       "height": null,
       "justify_content": null,
       "justify_items": null,
       "left": null,
       "margin": null,
       "max_height": null,
       "max_width": null,
       "min_height": null,
       "min_width": null,
       "object_fit": null,
       "object_position": null,
       "order": null,
       "overflow": null,
       "overflow_x": null,
       "overflow_y": null,
       "padding": null,
       "right": null,
       "top": null,
       "visibility": null,
       "width": null
      }
     },
     "15f4ed35942c49759420fffbff4072cb": {
      "model_module": "@jupyter-widgets/controls",
      "model_module_version": "1.5.0",
      "model_name": "HTMLModel",
      "state": {
       "_dom_classes": [],
       "_model_module": "@jupyter-widgets/controls",
       "_model_module_version": "1.5.0",
       "_model_name": "HTMLModel",
       "_view_count": null,
       "_view_module": "@jupyter-widgets/controls",
       "_view_module_version": "1.5.0",
       "_view_name": "HTMLView",
       "description": "",
       "description_tooltip": null,
       "layout": "IPY_MODEL_ac1ddd54be974b7fb4a2de26b2ba0692",
       "placeholder": "​",
       "style": "IPY_MODEL_6beda755e48b40459fb5b5c0d087b6fe",
       "value": " 2/2 [01:22&lt;00:00, 38.47s/ba]"
      }
     },
     "2228eb38b3334c0097a51026d26fd230": {
      "model_module": "@jupyter-widgets/controls",
      "model_module_version": "1.5.0",
      "model_name": "DescriptionStyleModel",
      "state": {
       "_model_module": "@jupyter-widgets/controls",
       "_model_module_version": "1.5.0",
       "_model_name": "DescriptionStyleModel",
       "_view_count": null,
       "_view_module": "@jupyter-widgets/base",
       "_view_module_version": "1.2.0",
       "_view_name": "StyleView",
       "description_width": ""
      }
     },
     "222f8c8815e6494597a2c84eea0a8e04": {
      "model_module": "@jupyter-widgets/controls",
      "model_module_version": "1.5.0",
      "model_name": "HTMLModel",
      "state": {
       "_dom_classes": [],
       "_model_module": "@jupyter-widgets/controls",
       "_model_module_version": "1.5.0",
       "_model_name": "HTMLModel",
       "_view_count": null,
       "_view_module": "@jupyter-widgets/controls",
       "_view_module_version": "1.5.0",
       "_view_name": "HTMLView",
       "description": "",
       "description_tooltip": null,
       "layout": "IPY_MODEL_bf6ee4880f7f46fab124a82138fe6d1e",
       "placeholder": "​",
       "style": "IPY_MODEL_a7ab9a67c4024f04a00f4041e115dff7",
       "value": "Stringifying the column: 100%"
      }
     },
     "226792e8961b4c85ac3bed903dd22736": {
      "model_module": "@jupyter-widgets/base",
      "model_module_version": "1.2.0",
      "model_name": "LayoutModel",
      "state": {
       "_model_module": "@jupyter-widgets/base",
       "_model_module_version": "1.2.0",
       "_model_name": "LayoutModel",
       "_view_count": null,
       "_view_module": "@jupyter-widgets/base",
       "_view_module_version": "1.2.0",
       "_view_name": "LayoutView",
       "align_content": null,
       "align_items": null,
       "align_self": null,
       "border": null,
       "bottom": null,
       "display": null,
       "flex": null,
       "flex_flow": null,
       "grid_area": null,
       "grid_auto_columns": null,
       "grid_auto_flow": null,
       "grid_auto_rows": null,
       "grid_column": null,
       "grid_gap": null,
       "grid_row": null,
       "grid_template_areas": null,
       "grid_template_columns": null,
       "grid_template_rows": null,
       "height": null,
       "justify_content": null,
       "justify_items": null,
       "left": null,
       "margin": null,
       "max_height": null,
       "max_width": null,
       "min_height": null,
       "min_width": null,
       "object_fit": null,
       "object_position": null,
       "order": null,
       "overflow": null,
       "overflow_x": null,
       "overflow_y": null,
       "padding": null,
       "right": null,
       "top": null,
       "visibility": null,
       "width": null
      }
     },
     "2d9970c129d4480a926878e13ea3239d": {
      "model_module": "@jupyter-widgets/controls",
      "model_module_version": "1.5.0",
      "model_name": "ProgressStyleModel",
      "state": {
       "_model_module": "@jupyter-widgets/controls",
       "_model_module_version": "1.5.0",
       "_model_name": "ProgressStyleModel",
       "_view_count": null,
       "_view_module": "@jupyter-widgets/base",
       "_view_module_version": "1.2.0",
       "_view_name": "StyleView",
       "bar_color": null,
       "description_width": ""
      }
     },
     "32370d6d70d24dea8c25c5ea67c8042d": {
      "model_module": "@jupyter-widgets/controls",
      "model_module_version": "1.5.0",
      "model_name": "HTMLModel",
      "state": {
       "_dom_classes": [],
       "_model_module": "@jupyter-widgets/controls",
       "_model_module_version": "1.5.0",
       "_model_name": "HTMLModel",
       "_view_count": null,
       "_view_module": "@jupyter-widgets/controls",
       "_view_module_version": "1.5.0",
       "_view_name": "HTMLView",
       "description": "",
       "description_tooltip": null,
       "layout": "IPY_MODEL_226792e8961b4c85ac3bed903dd22736",
       "placeholder": "​",
       "style": "IPY_MODEL_a67679e4feb94118a4244800092c65dd",
       "value": " 15/15 [01:39&lt;00:00,  6.13s/ba]"
      }
     },
     "4761bf8234394d5abd829956688c67de": {
      "model_module": "@jupyter-widgets/base",
      "model_module_version": "1.2.0",
      "model_name": "LayoutModel",
      "state": {
       "_model_module": "@jupyter-widgets/base",
       "_model_module_version": "1.2.0",
       "_model_name": "LayoutModel",
       "_view_count": null,
       "_view_module": "@jupyter-widgets/base",
       "_view_module_version": "1.2.0",
       "_view_name": "LayoutView",
       "align_content": null,
       "align_items": null,
       "align_self": null,
       "border": null,
       "bottom": null,
       "display": null,
       "flex": null,
       "flex_flow": null,
       "grid_area": null,
       "grid_auto_columns": null,
       "grid_auto_flow": null,
       "grid_auto_rows": null,
       "grid_column": null,
       "grid_gap": null,
       "grid_row": null,
       "grid_template_areas": null,
       "grid_template_columns": null,
       "grid_template_rows": null,
       "height": null,
       "justify_content": null,
       "justify_items": null,
       "left": null,
       "margin": null,
       "max_height": null,
       "max_width": null,
       "min_height": null,
       "min_width": null,
       "object_fit": null,
       "object_position": null,
       "order": null,
       "overflow": null,
       "overflow_x": null,
       "overflow_y": null,
       "padding": null,
       "right": null,
       "top": null,
       "visibility": null,
       "width": null
      }
     },
     "4a8d168ef1ff43458528a686851800eb": {
      "model_module": "@jupyter-widgets/controls",
      "model_module_version": "1.5.0",
      "model_name": "HBoxModel",
      "state": {
       "_dom_classes": [],
       "_model_module": "@jupyter-widgets/controls",
       "_model_module_version": "1.5.0",
       "_model_name": "HBoxModel",
       "_view_count": null,
       "_view_module": "@jupyter-widgets/controls",
       "_view_module_version": "1.5.0",
       "_view_name": "HBoxView",
       "box_style": "",
       "children": [
        "IPY_MODEL_cf47ad7c2c8c4391bf67657dca9a118b",
        "IPY_MODEL_51094583699f46db978d2028a0850e4d",
        "IPY_MODEL_15f4ed35942c49759420fffbff4072cb"
       ],
       "layout": "IPY_MODEL_b746e77ef6f944c1bc7e5afad39d6ecf"
      }
     },
     "4bcc0359e2844744946efa59384f3d94": {
      "model_module": "@jupyter-widgets/controls",
      "model_module_version": "1.5.0",
      "model_name": "HBoxModel",
      "state": {
       "_dom_classes": [],
       "_model_module": "@jupyter-widgets/controls",
       "_model_module_version": "1.5.0",
       "_model_name": "HBoxModel",
       "_view_count": null,
       "_view_module": "@jupyter-widgets/controls",
       "_view_module_version": "1.5.0",
       "_view_name": "HBoxView",
       "box_style": "",
       "children": [
        "IPY_MODEL_f7e4fd913a0e4c80aafea946959013d2",
        "IPY_MODEL_505bce5d033f4c7d86425f586770635b",
        "IPY_MODEL_32370d6d70d24dea8c25c5ea67c8042d"
       ],
       "layout": "IPY_MODEL_c632dc9712f64b1d8988f05b8bce40c0"
      }
     },
     "4c5c6c6ba02848169469e89f791030d6": {
      "model_module": "@jupyter-widgets/controls",
      "model_module_version": "1.5.0",
      "model_name": "ProgressStyleModel",
      "state": {
       "_model_module": "@jupyter-widgets/controls",
       "_model_module_version": "1.5.0",
       "_model_name": "ProgressStyleModel",
       "_view_count": null,
       "_view_module": "@jupyter-widgets/base",
       "_view_module_version": "1.2.0",
       "_view_name": "StyleView",
       "bar_color": null,
       "description_width": ""
      }
     },
     "4f30fa3561994d41bc236098cce5800a": {
      "model_module": "@jupyter-widgets/base",
      "model_module_version": "1.2.0",
      "model_name": "LayoutModel",
      "state": {
       "_model_module": "@jupyter-widgets/base",
       "_model_module_version": "1.2.0",
       "_model_name": "LayoutModel",
       "_view_count": null,
       "_view_module": "@jupyter-widgets/base",
       "_view_module_version": "1.2.0",
       "_view_name": "LayoutView",
       "align_content": null,
       "align_items": null,
       "align_self": null,
       "border": null,
       "bottom": null,
       "display": null,
       "flex": null,
       "flex_flow": null,
       "grid_area": null,
       "grid_auto_columns": null,
       "grid_auto_flow": null,
       "grid_auto_rows": null,
       "grid_column": null,
       "grid_gap": null,
       "grid_row": null,
       "grid_template_areas": null,
       "grid_template_columns": null,
       "grid_template_rows": null,
       "height": null,
       "justify_content": null,
       "justify_items": null,
       "left": null,
       "margin": null,
       "max_height": null,
       "max_width": null,
       "min_height": null,
       "min_width": null,
       "object_fit": null,
       "object_position": null,
       "order": null,
       "overflow": null,
       "overflow_x": null,
       "overflow_y": null,
       "padding": null,
       "right": null,
       "top": null,
       "visibility": null,
       "width": null
      }
     },
     "505bce5d033f4c7d86425f586770635b": {
      "model_module": "@jupyter-widgets/controls",
      "model_module_version": "1.5.0",
      "model_name": "FloatProgressModel",
      "state": {
       "_dom_classes": [],
       "_model_module": "@jupyter-widgets/controls",
       "_model_module_version": "1.5.0",
       "_model_name": "FloatProgressModel",
       "_view_count": null,
       "_view_module": "@jupyter-widgets/controls",
       "_view_module_version": "1.5.0",
       "_view_name": "ProgressView",
       "bar_style": "success",
       "description": "",
       "description_tooltip": null,
       "layout": "IPY_MODEL_79767d81542249bcabdba7bb76d3f21d",
       "max": 15.0,
       "min": 0.0,
       "orientation": "horizontal",
       "style": "IPY_MODEL_2d9970c129d4480a926878e13ea3239d",
       "value": 15.0
      }
     },
     "51094583699f46db978d2028a0850e4d": {
      "model_module": "@jupyter-widgets/controls",
      "model_module_version": "1.5.0",
      "model_name": "FloatProgressModel",
      "state": {
       "_dom_classes": [],
       "_model_module": "@jupyter-widgets/controls",
       "_model_module_version": "1.5.0",
       "_model_name": "FloatProgressModel",
       "_view_count": null,
       "_view_module": "@jupyter-widgets/controls",
       "_view_module_version": "1.5.0",
       "_view_name": "ProgressView",
       "bar_style": "success",
       "description": "",
       "description_tooltip": null,
       "layout": "IPY_MODEL_5de8eae25ebd4c758091dfad7dd7855c",
       "max": 2.0,
       "min": 0.0,
       "orientation": "horizontal",
       "style": "IPY_MODEL_51b27452e81c4223a0a80f072993ff27",
       "value": 2.0
      }
     },
     "51b27452e81c4223a0a80f072993ff27": {
      "model_module": "@jupyter-widgets/controls",
      "model_module_version": "1.5.0",
      "model_name": "ProgressStyleModel",
      "state": {
       "_model_module": "@jupyter-widgets/controls",
       "_model_module_version": "1.5.0",
       "_model_name": "ProgressStyleModel",
       "_view_count": null,
       "_view_module": "@jupyter-widgets/base",
       "_view_module_version": "1.2.0",
       "_view_name": "StyleView",
       "bar_color": null,
       "description_width": ""
      }
     },
     "57c99d6b0f224e308d00b0cd6d752875": {
      "model_module": "@jupyter-widgets/base",
      "model_module_version": "1.2.0",
      "model_name": "LayoutModel",
      "state": {
       "_model_module": "@jupyter-widgets/base",
       "_model_module_version": "1.2.0",
       "_model_name": "LayoutModel",
       "_view_count": null,
       "_view_module": "@jupyter-widgets/base",
       "_view_module_version": "1.2.0",
       "_view_name": "LayoutView",
       "align_content": null,
       "align_items": null,
       "align_self": null,
       "border": null,
       "bottom": null,
       "display": null,
       "flex": null,
       "flex_flow": null,
       "grid_area": null,
       "grid_auto_columns": null,
       "grid_auto_flow": null,
       "grid_auto_rows": null,
       "grid_column": null,
       "grid_gap": null,
       "grid_row": null,
       "grid_template_areas": null,
       "grid_template_columns": null,
       "grid_template_rows": null,
       "height": null,
       "justify_content": null,
       "justify_items": null,
       "left": null,
       "margin": null,
       "max_height": null,
       "max_width": null,
       "min_height": null,
       "min_width": null,
       "object_fit": null,
       "object_position": null,
       "order": null,
       "overflow": null,
       "overflow_x": null,
       "overflow_y": null,
       "padding": null,
       "right": null,
       "top": null,
       "visibility": null,
       "width": null
      }
     },
     "5de8eae25ebd4c758091dfad7dd7855c": {
      "model_module": "@jupyter-widgets/base",
      "model_module_version": "1.2.0",
      "model_name": "LayoutModel",
      "state": {
       "_model_module": "@jupyter-widgets/base",
       "_model_module_version": "1.2.0",
       "_model_name": "LayoutModel",
       "_view_count": null,
       "_view_module": "@jupyter-widgets/base",
       "_view_module_version": "1.2.0",
       "_view_name": "LayoutView",
       "align_content": null,
       "align_items": null,
       "align_self": null,
       "border": null,
       "bottom": null,
       "display": null,
       "flex": null,
       "flex_flow": null,
       "grid_area": null,
       "grid_auto_columns": null,
       "grid_auto_flow": null,
       "grid_auto_rows": null,
       "grid_column": null,
       "grid_gap": null,
       "grid_row": null,
       "grid_template_areas": null,
       "grid_template_columns": null,
       "grid_template_rows": null,
       "height": null,
       "justify_content": null,
       "justify_items": null,
       "left": null,
       "margin": null,
       "max_height": null,
       "max_width": null,
       "min_height": null,
       "min_width": null,
       "object_fit": null,
       "object_position": null,
       "order": null,
       "overflow": null,
       "overflow_x": null,
       "overflow_y": null,
       "padding": null,
       "right": null,
       "top": null,
       "visibility": null,
       "width": null
      }
     },
     "6beda755e48b40459fb5b5c0d087b6fe": {
      "model_module": "@jupyter-widgets/controls",
      "model_module_version": "1.5.0",
      "model_name": "DescriptionStyleModel",
      "state": {
       "_model_module": "@jupyter-widgets/controls",
       "_model_module_version": "1.5.0",
       "_model_name": "DescriptionStyleModel",
       "_view_count": null,
       "_view_module": "@jupyter-widgets/base",
       "_view_module_version": "1.2.0",
       "_view_name": "StyleView",
       "description_width": ""
      }
     },
     "79767d81542249bcabdba7bb76d3f21d": {
      "model_module": "@jupyter-widgets/base",
      "model_module_version": "1.2.0",
      "model_name": "LayoutModel",
      "state": {
       "_model_module": "@jupyter-widgets/base",
       "_model_module_version": "1.2.0",
       "_model_name": "LayoutModel",
       "_view_count": null,
       "_view_module": "@jupyter-widgets/base",
       "_view_module_version": "1.2.0",
       "_view_name": "LayoutView",
       "align_content": null,
       "align_items": null,
       "align_self": null,
       "border": null,
       "bottom": null,
       "display": null,
       "flex": null,
       "flex_flow": null,
       "grid_area": null,
       "grid_auto_columns": null,
       "grid_auto_flow": null,
       "grid_auto_rows": null,
       "grid_column": null,
       "grid_gap": null,
       "grid_row": null,
       "grid_template_areas": null,
       "grid_template_columns": null,
       "grid_template_rows": null,
       "height": null,
       "justify_content": null,
       "justify_items": null,
       "left": null,
       "margin": null,
       "max_height": null,
       "max_width": null,
       "min_height": null,
       "min_width": null,
       "object_fit": null,
       "object_position": null,
       "order": null,
       "overflow": null,
       "overflow_x": null,
       "overflow_y": null,
       "padding": null,
       "right": null,
       "top": null,
       "visibility": null,
       "width": null
      }
     },
     "80c8ac93c59b4789a2de3016e549a0c6": {
      "model_module": "@jupyter-widgets/controls",
      "model_module_version": "1.5.0",
      "model_name": "FloatProgressModel",
      "state": {
       "_dom_classes": [],
       "_model_module": "@jupyter-widgets/controls",
       "_model_module_version": "1.5.0",
       "_model_name": "FloatProgressModel",
       "_view_count": null,
       "_view_module": "@jupyter-widgets/controls",
       "_view_module_version": "1.5.0",
       "_view_name": "ProgressView",
       "bar_style": "success",
       "description": "",
       "description_tooltip": null,
       "layout": "IPY_MODEL_f9918ef7d5bf4963b9902e0f708c0087",
       "max": 15.0,
       "min": 0.0,
       "orientation": "horizontal",
       "style": "IPY_MODEL_4c5c6c6ba02848169469e89f791030d6",
       "value": 15.0
      }
     },
     "8ed54d93079f45fc8c0e869de542ca42": {
      "model_module": "@jupyter-widgets/controls",
      "model_module_version": "1.5.0",
      "model_name": "HTMLModel",
      "state": {
       "_dom_classes": [],
       "_model_module": "@jupyter-widgets/controls",
       "_model_module_version": "1.5.0",
       "_model_name": "HTMLModel",
       "_view_count": null,
       "_view_module": "@jupyter-widgets/controls",
       "_view_module_version": "1.5.0",
       "_view_name": "HTMLView",
       "description": "",
       "description_tooltip": null,
       "layout": "IPY_MODEL_ff92f16b2118413e95e0aa59cbf8dba2",
       "placeholder": "​",
       "style": "IPY_MODEL_2228eb38b3334c0097a51026d26fd230",
       "value": "100%"
      }
     },
     "9d9c52e05cdd479c9fd733742af5594d": {
      "model_module": "@jupyter-widgets/controls",
      "model_module_version": "1.5.0",
      "model_name": "ProgressStyleModel",
      "state": {
       "_model_module": "@jupyter-widgets/controls",
       "_model_module_version": "1.5.0",
       "_model_name": "ProgressStyleModel",
       "_view_count": null,
       "_view_module": "@jupyter-widgets/base",
       "_view_module_version": "1.2.0",
       "_view_name": "StyleView",
       "bar_color": null,
       "description_width": ""
      }
     },
     "a5fca91a6a4b454396c34cfed72e1692": {
      "model_module": "@jupyter-widgets/controls",
      "model_module_version": "1.5.0",
      "model_name": "HBoxModel",
      "state": {
       "_dom_classes": [],
       "_model_module": "@jupyter-widgets/controls",
       "_model_module_version": "1.5.0",
       "_model_name": "HBoxModel",
       "_view_count": null,
       "_view_module": "@jupyter-widgets/controls",
       "_view_module_version": "1.5.0",
       "_view_name": "HBoxView",
       "box_style": "",
       "children": [
        "IPY_MODEL_8ed54d93079f45fc8c0e869de542ca42",
        "IPY_MODEL_e4ef4eddc2c9423c8dc1e59e22a59609",
        "IPY_MODEL_d638c696f111475597e07ef01e2c72b4"
       ],
       "layout": "IPY_MODEL_57c99d6b0f224e308d00b0cd6d752875"
      }
     },
     "a67679e4feb94118a4244800092c65dd": {
      "model_module": "@jupyter-widgets/controls",
      "model_module_version": "1.5.0",
      "model_name": "DescriptionStyleModel",
      "state": {
       "_model_module": "@jupyter-widgets/controls",
       "_model_module_version": "1.5.0",
       "_model_name": "DescriptionStyleModel",
       "_view_count": null,
       "_view_module": "@jupyter-widgets/base",
       "_view_module_version": "1.2.0",
       "_view_name": "StyleView",
       "description_width": ""
      }
     },
     "a7ab9a67c4024f04a00f4041e115dff7": {
      "model_module": "@jupyter-widgets/controls",
      "model_module_version": "1.5.0",
      "model_name": "DescriptionStyleModel",
      "state": {
       "_model_module": "@jupyter-widgets/controls",
       "_model_module_version": "1.5.0",
       "_model_name": "DescriptionStyleModel",
       "_view_count": null,
       "_view_module": "@jupyter-widgets/base",
       "_view_module_version": "1.2.0",
       "_view_name": "StyleView",
       "description_width": ""
      }
     },
     "ac1ddd54be974b7fb4a2de26b2ba0692": {
      "model_module": "@jupyter-widgets/base",
      "model_module_version": "1.2.0",
      "model_name": "LayoutModel",
      "state": {
       "_model_module": "@jupyter-widgets/base",
       "_model_module_version": "1.2.0",
       "_model_name": "LayoutModel",
       "_view_count": null,
       "_view_module": "@jupyter-widgets/base",
       "_view_module_version": "1.2.0",
       "_view_name": "LayoutView",
       "align_content": null,
       "align_items": null,
       "align_self": null,
       "border": null,
       "bottom": null,
       "display": null,
       "flex": null,
       "flex_flow": null,
       "grid_area": null,
       "grid_auto_columns": null,
       "grid_auto_flow": null,
       "grid_auto_rows": null,
       "grid_column": null,
       "grid_gap": null,
       "grid_row": null,
       "grid_template_areas": null,
       "grid_template_columns": null,
       "grid_template_rows": null,
       "height": null,
       "justify_content": null,
       "justify_items": null,
       "left": null,
       "margin": null,
       "max_height": null,
       "max_width": null,
       "min_height": null,
       "min_width": null,
       "object_fit": null,
       "object_position": null,
       "order": null,
       "overflow": null,
       "overflow_x": null,
       "overflow_y": null,
       "padding": null,
       "right": null,
       "top": null,
       "visibility": null,
       "width": null
      }
     },
     "b746e77ef6f944c1bc7e5afad39d6ecf": {
      "model_module": "@jupyter-widgets/base",
      "model_module_version": "1.2.0",
      "model_name": "LayoutModel",
      "state": {
       "_model_module": "@jupyter-widgets/base",
       "_model_module_version": "1.2.0",
       "_model_name": "LayoutModel",
       "_view_count": null,
       "_view_module": "@jupyter-widgets/base",
       "_view_module_version": "1.2.0",
       "_view_name": "LayoutView",
       "align_content": null,
       "align_items": null,
       "align_self": null,
       "border": null,
       "bottom": null,
       "display": null,
       "flex": null,
       "flex_flow": null,
       "grid_area": null,
       "grid_auto_columns": null,
       "grid_auto_flow": null,
       "grid_auto_rows": null,
       "grid_column": null,
       "grid_gap": null,
       "grid_row": null,
       "grid_template_areas": null,
       "grid_template_columns": null,
       "grid_template_rows": null,
       "height": null,
       "justify_content": null,
       "justify_items": null,
       "left": null,
       "margin": null,
       "max_height": null,
       "max_width": null,
       "min_height": null,
       "min_width": null,
       "object_fit": null,
       "object_position": null,
       "order": null,
       "overflow": null,
       "overflow_x": null,
       "overflow_y": null,
       "padding": null,
       "right": null,
       "top": null,
       "visibility": null,
       "width": null
      }
     },
     "bed58b36d1f34675b37278b4dac041ba": {
      "model_module": "@jupyter-widgets/base",
      "model_module_version": "1.2.0",
      "model_name": "LayoutModel",
      "state": {
       "_model_module": "@jupyter-widgets/base",
       "_model_module_version": "1.2.0",
       "_model_name": "LayoutModel",
       "_view_count": null,
       "_view_module": "@jupyter-widgets/base",
       "_view_module_version": "1.2.0",
       "_view_name": "LayoutView",
       "align_content": null,
       "align_items": null,
       "align_self": null,
       "border": null,
       "bottom": null,
       "display": null,
       "flex": null,
       "flex_flow": null,
       "grid_area": null,
       "grid_auto_columns": null,
       "grid_auto_flow": null,
       "grid_auto_rows": null,
       "grid_column": null,
       "grid_gap": null,
       "grid_row": null,
       "grid_template_areas": null,
       "grid_template_columns": null,
       "grid_template_rows": null,
       "height": null,
       "justify_content": null,
       "justify_items": null,
       "left": null,
       "margin": null,
       "max_height": null,
       "max_width": null,
       "min_height": null,
       "min_width": null,
       "object_fit": null,
       "object_position": null,
       "order": null,
       "overflow": null,
       "overflow_x": null,
       "overflow_y": null,
       "padding": null,
       "right": null,
       "top": null,
       "visibility": null,
       "width": null
      }
     },
     "bf6ee4880f7f46fab124a82138fe6d1e": {
      "model_module": "@jupyter-widgets/base",
      "model_module_version": "1.2.0",
      "model_name": "LayoutModel",
      "state": {
       "_model_module": "@jupyter-widgets/base",
       "_model_module_version": "1.2.0",
       "_model_name": "LayoutModel",
       "_view_count": null,
       "_view_module": "@jupyter-widgets/base",
       "_view_module_version": "1.2.0",
       "_view_name": "LayoutView",
       "align_content": null,
       "align_items": null,
       "align_self": null,
       "border": null,
       "bottom": null,
       "display": null,
       "flex": null,
       "flex_flow": null,
       "grid_area": null,
       "grid_auto_columns": null,
       "grid_auto_flow": null,
       "grid_auto_rows": null,
       "grid_column": null,
       "grid_gap": null,
       "grid_row": null,
       "grid_template_areas": null,
       "grid_template_columns": null,
       "grid_template_rows": null,
       "height": null,
       "justify_content": null,
       "justify_items": null,
       "left": null,
       "margin": null,
       "max_height": null,
       "max_width": null,
       "min_height": null,
       "min_width": null,
       "object_fit": null,
       "object_position": null,
       "order": null,
       "overflow": null,
       "overflow_x": null,
       "overflow_y": null,
       "padding": null,
       "right": null,
       "top": null,
       "visibility": null,
       "width": null
      }
     },
     "c632dc9712f64b1d8988f05b8bce40c0": {
      "model_module": "@jupyter-widgets/base",
      "model_module_version": "1.2.0",
      "model_name": "LayoutModel",
      "state": {
       "_model_module": "@jupyter-widgets/base",
       "_model_module_version": "1.2.0",
       "_model_name": "LayoutModel",
       "_view_count": null,
       "_view_module": "@jupyter-widgets/base",
       "_view_module_version": "1.2.0",
       "_view_name": "LayoutView",
       "align_content": null,
       "align_items": null,
       "align_self": null,
       "border": null,
       "bottom": null,
       "display": null,
       "flex": null,
       "flex_flow": null,
       "grid_area": null,
       "grid_auto_columns": null,
       "grid_auto_flow": null,
       "grid_auto_rows": null,
       "grid_column": null,
       "grid_gap": null,
       "grid_row": null,
       "grid_template_areas": null,
       "grid_template_columns": null,
       "grid_template_rows": null,
       "height": null,
       "justify_content": null,
       "justify_items": null,
       "left": null,
       "margin": null,
       "max_height": null,
       "max_width": null,
       "min_height": null,
       "min_width": null,
       "object_fit": null,
       "object_position": null,
       "order": null,
       "overflow": null,
       "overflow_x": null,
       "overflow_y": null,
       "padding": null,
       "right": null,
       "top": null,
       "visibility": null,
       "width": null
      }
     },
     "cf47ad7c2c8c4391bf67657dca9a118b": {
      "model_module": "@jupyter-widgets/controls",
      "model_module_version": "1.5.0",
      "model_name": "HTMLModel",
      "state": {
       "_dom_classes": [],
       "_model_module": "@jupyter-widgets/controls",
       "_model_module_version": "1.5.0",
       "_model_name": "HTMLModel",
       "_view_count": null,
       "_view_module": "@jupyter-widgets/controls",
       "_view_module_version": "1.5.0",
       "_view_name": "HTMLView",
       "description": "",
       "description_tooltip": null,
       "layout": "IPY_MODEL_4f30fa3561994d41bc236098cce5800a",
       "placeholder": "​",
       "style": "IPY_MODEL_f9233bd4dc6040de801bc005426a568e",
       "value": "Casting the dataset: 100%"
      }
     },
     "d638c696f111475597e07ef01e2c72b4": {
      "model_module": "@jupyter-widgets/controls",
      "model_module_version": "1.5.0",
      "model_name": "HTMLModel",
      "state": {
       "_dom_classes": [],
       "_model_module": "@jupyter-widgets/controls",
       "_model_module_version": "1.5.0",
       "_model_name": "HTMLModel",
       "_view_count": null,
       "_view_module": "@jupyter-widgets/controls",
       "_view_module_version": "1.5.0",
       "_view_name": "HTMLView",
       "description": "",
       "description_tooltip": null,
       "layout": "IPY_MODEL_bed58b36d1f34675b37278b4dac041ba",
       "placeholder": "​",
       "style": "IPY_MODEL_0867547eb3d246fb996a6a482cb7597d",
       "value": " 14650/14650 [04:40&lt;00:00, 195.91ex/s]"
      }
     },
     "dbe0094a2efc4a4fa53e83ef5d24afd8": {
      "model_module": "@jupyter-widgets/base",
      "model_module_version": "1.2.0",
      "model_name": "LayoutModel",
      "state": {
       "_model_module": "@jupyter-widgets/base",
       "_model_module_version": "1.2.0",
       "_model_name": "LayoutModel",
       "_view_count": null,
       "_view_module": "@jupyter-widgets/base",
       "_view_module_version": "1.2.0",
       "_view_name": "LayoutView",
       "align_content": null,
       "align_items": null,
       "align_self": null,
       "border": null,
       "bottom": null,
       "display": null,
       "flex": null,
       "flex_flow": null,
       "grid_area": null,
       "grid_auto_columns": null,
       "grid_auto_flow": null,
       "grid_auto_rows": null,
       "grid_column": null,
       "grid_gap": null,
       "grid_row": null,
       "grid_template_areas": null,
       "grid_template_columns": null,
       "grid_template_rows": null,
       "height": null,
       "justify_content": null,
       "justify_items": null,
       "left": null,
       "margin": null,
       "max_height": null,
       "max_width": null,
       "min_height": null,
       "min_width": null,
       "object_fit": null,
       "object_position": null,
       "order": null,
       "overflow": null,
       "overflow_x": null,
       "overflow_y": null,
       "padding": null,
       "right": null,
       "top": null,
       "visibility": null,
       "width": null
      }
     },
     "e4ef4eddc2c9423c8dc1e59e22a59609": {
      "model_module": "@jupyter-widgets/controls",
      "model_module_version": "1.5.0",
      "model_name": "FloatProgressModel",
      "state": {
       "_dom_classes": [],
       "_model_module": "@jupyter-widgets/controls",
       "_model_module_version": "1.5.0",
       "_model_name": "FloatProgressModel",
       "_view_count": null,
       "_view_module": "@jupyter-widgets/controls",
       "_view_module_version": "1.5.0",
       "_view_name": "ProgressView",
       "bar_style": "success",
       "description": "",
       "description_tooltip": null,
       "layout": "IPY_MODEL_087215c5c44b4e148a7cdbdf1be916f3",
       "max": 14650.0,
       "min": 0.0,
       "orientation": "horizontal",
       "style": "IPY_MODEL_9d9c52e05cdd479c9fd733742af5594d",
       "value": 14650.0
      }
     },
     "ed255ceb04274063bde5e690009871b8": {
      "model_module": "@jupyter-widgets/controls",
      "model_module_version": "1.5.0",
      "model_name": "HTMLModel",
      "state": {
       "_dom_classes": [],
       "_model_module": "@jupyter-widgets/controls",
       "_model_module_version": "1.5.0",
       "_model_name": "HTMLModel",
       "_view_count": null,
       "_view_module": "@jupyter-widgets/controls",
       "_view_module_version": "1.5.0",
       "_view_name": "HTMLView",
       "description": "",
       "description_tooltip": null,
       "layout": "IPY_MODEL_149a17b154a44f1f8df581170bdaca58",
       "placeholder": "​",
       "style": "IPY_MODEL_1362f9fb697349c48d7a2fa3b6fa7814",
       "value": " 15/15 [01:40&lt;00:00,  6.20s/ba]"
      }
     },
     "f7e4fd913a0e4c80aafea946959013d2": {
      "model_module": "@jupyter-widgets/controls",
      "model_module_version": "1.5.0",
      "model_name": "HTMLModel",
      "state": {
       "_dom_classes": [],
       "_model_module": "@jupyter-widgets/controls",
       "_model_module_version": "1.5.0",
       "_model_name": "HTMLModel",
       "_view_count": null,
       "_view_module": "@jupyter-widgets/controls",
       "_view_module_version": "1.5.0",
       "_view_name": "HTMLView",
       "description": "",
       "description_tooltip": null,
       "layout": "IPY_MODEL_4761bf8234394d5abd829956688c67de",
       "placeholder": "​",
       "style": "IPY_MODEL_13923b6ea49e439f8ba91ded9a9ec11b",
       "value": "Casting to class labels: 100%"
      }
     },
     "f9233bd4dc6040de801bc005426a568e": {
      "model_module": "@jupyter-widgets/controls",
      "model_module_version": "1.5.0",
      "model_name": "DescriptionStyleModel",
      "state": {
       "_model_module": "@jupyter-widgets/controls",
       "_model_module_version": "1.5.0",
       "_model_name": "DescriptionStyleModel",
       "_view_count": null,
       "_view_module": "@jupyter-widgets/base",
       "_view_module_version": "1.2.0",
       "_view_name": "StyleView",
       "description_width": ""
      }
     },
     "f9918ef7d5bf4963b9902e0f708c0087": {
      "model_module": "@jupyter-widgets/base",
      "model_module_version": "1.2.0",
      "model_name": "LayoutModel",
      "state": {
       "_model_module": "@jupyter-widgets/base",
       "_model_module_version": "1.2.0",
       "_model_name": "LayoutModel",
       "_view_count": null,
       "_view_module": "@jupyter-widgets/base",
       "_view_module_version": "1.2.0",
       "_view_name": "LayoutView",
       "align_content": null,
       "align_items": null,
       "align_self": null,
       "border": null,
       "bottom": null,
       "display": null,
       "flex": null,
       "flex_flow": null,
       "grid_area": null,
       "grid_auto_columns": null,
       "grid_auto_flow": null,
       "grid_auto_rows": null,
       "grid_column": null,
       "grid_gap": null,
       "grid_row": null,
       "grid_template_areas": null,
       "grid_template_columns": null,
       "grid_template_rows": null,
       "height": null,
       "justify_content": null,
       "justify_items": null,
       "left": null,
       "margin": null,
       "max_height": null,
       "max_width": null,
       "min_height": null,
       "min_width": null,
       "object_fit": null,
       "object_position": null,
       "order": null,
       "overflow": null,
       "overflow_x": null,
       "overflow_y": null,
       "padding": null,
       "right": null,
       "top": null,
       "visibility": null,
       "width": null
      }
     },
     "ff92f16b2118413e95e0aa59cbf8dba2": {
      "model_module": "@jupyter-widgets/base",
      "model_module_version": "1.2.0",
      "model_name": "LayoutModel",
      "state": {
       "_model_module": "@jupyter-widgets/base",
       "_model_module_version": "1.2.0",
       "_model_name": "LayoutModel",
       "_view_count": null,
       "_view_module": "@jupyter-widgets/base",
       "_view_module_version": "1.2.0",
       "_view_name": "LayoutView",
       "align_content": null,
       "align_items": null,
       "align_self": null,
       "border": null,
       "bottom": null,
       "display": null,
       "flex": null,
       "flex_flow": null,
       "grid_area": null,
       "grid_auto_columns": null,
       "grid_auto_flow": null,
       "grid_auto_rows": null,
       "grid_column": null,
       "grid_gap": null,
       "grid_row": null,
       "grid_template_areas": null,
       "grid_template_columns": null,
       "grid_template_rows": null,
       "height": null,
       "justify_content": null,
       "justify_items": null,
       "left": null,
       "margin": null,
       "max_height": null,
       "max_width": null,
       "min_height": null,
       "min_width": null,
       "object_fit": null,
       "object_position": null,
       "order": null,
       "overflow": null,
       "overflow_x": null,
       "overflow_y": null,
       "padding": null,
       "right": null,
       "top": null,
       "visibility": null,
       "width": null
      }
     }
    },
    "version_major": 2,
    "version_minor": 0
   }
  }
 },
 "nbformat": 4,
 "nbformat_minor": 5
}
